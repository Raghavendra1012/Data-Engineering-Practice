{
 "cells": [
  {
   "cell_type": "code",
   "execution_count": 1,
   "id": "1f217fde",
   "metadata": {},
   "outputs": [
    {
     "name": "stdout",
     "output_type": "stream",
     "text": [
      "\n",
      "ORIGINAL RETAIL DATA:\n",
      "[[1001.     29.99   45.      4.2    15.  ]\n",
      " [1002.     49.99   32.      4.5     8.  ]\n",
      " [1003.     19.99   78.      3.8    22.  ]\n",
      " [1004.     89.99   12.      4.7     5.  ]\n",
      " [1005.     15.99   95.      4.     18.  ]\n",
      " [1006.     69.99   28.      4.3    12.  ]\n",
      " [1007.     39.99   56.      3.9    20.  ]\n",
      " [1008.     79.99   18.      4.6     7.  ]\n",
      " [1009.     25.99   67.      4.1    16.  ]\n",
      " [1010.     59.99   34.      4.4    10.  ]]\n",
      "\n",
      "Data shape: (10, 5)\n",
      "Data type: float64\n"
     ]
    }
   ],
   "source": [
    "import numpy as np\n",
    "# Create retail data: 10 rows × 5 columns\n",
    "# Columns: Product_ID, Price, Quantity_Sold, Customer_Rating, Days_in_Stock\n",
    "retail_data = np.array([\n",
    "    [1001, 29.99, 45, 4.2, 15],\n",
    "    [1002, 49.99, 32, 4.5, 8],\n",
    "    [1003, 19.99, 78, 3.8, 22],\n",
    "    [1004, 89.99, 12, 4.7, 5],\n",
    "    [1005, 15.99, 95, 4.0, 18],\n",
    "    [1006, 69.99, 28, 4.3, 12],\n",
    "    [1007, 39.99, 56, 3.9, 20],\n",
    "    [1008, 79.99, 18, 4.6, 7],\n",
    "    [1009, 25.99, 67, 4.1, 16],\n",
    "    [1010, 59.99, 34, 4.4, 10]\n",
    "])\n",
    "\n",
    "print(\"\\nORIGINAL RETAIL DATA:\")\n",
    "print(retail_data)\n",
    "print(f\"\\nData shape: {retail_data.shape}\")\n",
    "print(f\"Data type: {retail_data.dtype}\")"
   ]
  },
  {
   "cell_type": "code",
   "execution_count": null,
   "id": "3d468860",
   "metadata": {},
   "outputs": [],
   "source": [
    "print(\"\\nQ1.1: Create a 3x3 identity matrix using np.eye()\")\n"
   ]
  },
  {
   "cell_type": "code",
   "execution_count": 5,
   "id": "357acf8f",
   "metadata": {},
   "outputs": [
    {
     "name": "stdout",
     "output_type": "stream",
     "text": [
      "[[1. 0. 0.]\n",
      " [0. 1. 0.]\n",
      " [0. 0. 1.]]\n"
     ]
    }
   ],
   "source": [
    "IM = np.eye(3)\n",
    "print(IM)"
   ]
  },
  {
   "cell_type": "code",
   "execution_count": null,
   "id": "2b7f1876",
   "metadata": {},
   "outputs": [],
   "source": [
    "print(\"\\nQ1.2: Create an array of 10 zeros using np.zeros()\")\n"
   ]
  },
  {
   "cell_type": "code",
   "execution_count": 6,
   "id": "c0115a5c",
   "metadata": {},
   "outputs": [
    {
     "name": "stdout",
     "output_type": "stream",
     "text": [
      "[0. 0. 0. 0. 0. 0. 0. 0. 0. 0.]\n"
     ]
    }
   ],
   "source": [
    "ten_zeros = np.zeros(10)\n",
    "print(ten_zeros)"
   ]
  },
  {
   "cell_type": "code",
   "execution_count": null,
   "id": "0ca4ecb0",
   "metadata": {},
   "outputs": [],
   "source": [
    "print(\"\\nQ1.3: Create an array of 5 ones using np.ones()\")\n"
   ]
  },
  {
   "cell_type": "code",
   "execution_count": 8,
   "id": "97eda016",
   "metadata": {},
   "outputs": [
    {
     "name": "stdout",
     "output_type": "stream",
     "text": [
      "[1. 1. 1. 1. 1.]\n"
     ]
    }
   ],
   "source": [
    "ones_array = np.ones(5)\n",
    "print(ones_array)"
   ]
  },
  {
   "cell_type": "code",
   "execution_count": null,
   "id": "f4232bab",
   "metadata": {},
   "outputs": [],
   "source": [
    "print(\"\\nQ1.4: Create an array with values from 0 to 9 using np.arange()\")\n"
   ]
  },
  {
   "cell_type": "code",
   "execution_count": 9,
   "id": "493437d2",
   "metadata": {},
   "outputs": [
    {
     "data": {
      "text/plain": [
       "array([0, 1, 2, 3, 4, 5, 6, 7, 8, 9])"
      ]
     },
     "execution_count": 9,
     "metadata": {},
     "output_type": "execute_result"
    }
   ],
   "source": [
    "array = np.arange(0,10)\n",
    "array"
   ]
  },
  {
   "cell_type": "code",
   "execution_count": null,
   "id": "0a28bccd",
   "metadata": {},
   "outputs": [],
   "source": [
    "print(\"\\nQ1.5: Create an array with 10 evenly spaced values from 0 to 10 using np.linspace()\")\n"
   ]
  },
  {
   "cell_type": "code",
   "execution_count": 13,
   "id": "726b12db",
   "metadata": {},
   "outputs": [
    {
     "data": {
      "text/plain": [
       "array([ 0.        ,  1.11111111,  2.22222222,  3.33333333,  4.44444444,\n",
       "        5.55555556,  6.66666667,  7.77777778,  8.88888889, 10.        ])"
      ]
     },
     "execution_count": 13,
     "metadata": {},
     "output_type": "execute_result"
    }
   ],
   "source": [
    "linspace_array = np.linspace(0,10,10)\n",
    "linspace_array"
   ]
  },
  {
   "cell_type": "code",
   "execution_count": null,
   "id": "898d3621",
   "metadata": {},
   "outputs": [],
   "source": [
    "print(\"\\nQ2.1: What is the shape of the retail_data array?\")\n"
   ]
  },
  {
   "cell_type": "code",
   "execution_count": 19,
   "id": "2265ae31",
   "metadata": {},
   "outputs": [
    {
     "name": "stdout",
     "output_type": "stream",
     "text": [
      "Shape: (10, 5)\n"
     ]
    }
   ],
   "source": [
    "print(f\"Shape: {retail_data.shape}\")\n"
   ]
  },
  {
   "cell_type": "code",
   "execution_count": 15,
   "id": "aab1298d",
   "metadata": {},
   "outputs": [
    {
     "data": {
      "text/plain": [
       "(10, 5)"
      ]
     },
     "execution_count": 15,
     "metadata": {},
     "output_type": "execute_result"
    }
   ],
   "source": [
    "shape = retail_data.shape\n",
    "shape"
   ]
  },
  {
   "cell_type": "code",
   "execution_count": null,
   "id": "321f8b41",
   "metadata": {},
   "outputs": [],
   "source": [
    "print(\"\\nQ2.2: What is the data type of the retail_data array?\")\n"
   ]
  },
  {
   "cell_type": "code",
   "execution_count": 20,
   "id": "97094b71",
   "metadata": {},
   "outputs": [
    {
     "data": {
      "text/plain": [
       "dtype('float64')"
      ]
     },
     "execution_count": 20,
     "metadata": {},
     "output_type": "execute_result"
    }
   ],
   "source": [
    "data_type = retail_data.dtype\n",
    "data_type"
   ]
  },
  {
   "cell_type": "code",
   "execution_count": 21,
   "id": "2c6a26d0",
   "metadata": {},
   "outputs": [
    {
     "name": "stdout",
     "output_type": "stream",
     "text": [
      "Data type: float64\n"
     ]
    }
   ],
   "source": [
    "print(f\"Data type: {retail_data.dtype}\")\n"
   ]
  },
  {
   "cell_type": "code",
   "execution_count": null,
   "id": "7acfe3ec",
   "metadata": {},
   "outputs": [],
   "source": [
    "print(\"\\nQ2.3: What is the size (total number of elements) of the retail_data array?\")\n"
   ]
  },
  {
   "cell_type": "code",
   "execution_count": 22,
   "id": "99fead60",
   "metadata": {},
   "outputs": [
    {
     "data": {
      "text/plain": [
       "50"
      ]
     },
     "execution_count": 22,
     "metadata": {},
     "output_type": "execute_result"
    }
   ],
   "source": [
    "size = retail_data.size\n",
    "size"
   ]
  },
  {
   "cell_type": "code",
   "execution_count": null,
   "id": "d6d3f285",
   "metadata": {},
   "outputs": [],
   "source": [
    "print(\"\\nQ2.4: What is the number of dimensions of the retail_data array?\")\n"
   ]
  },
  {
   "cell_type": "code",
   "execution_count": 23,
   "id": "73daf881",
   "metadata": {},
   "outputs": [
    {
     "data": {
      "text/plain": [
       "2"
      ]
     },
     "execution_count": 23,
     "metadata": {},
     "output_type": "execute_result"
    }
   ],
   "source": [
    "ndim = retail_data.ndim\n",
    "ndim"
   ]
  },
  {
   "cell_type": "code",
   "execution_count": null,
   "id": "fe8c9fa2",
   "metadata": {},
   "outputs": [],
   "source": [
    "print(\"\\nQ2.5: What is the memory size of the retail_data array in bytes?\")\n"
   ]
  },
  {
   "cell_type": "code",
   "execution_count": 24,
   "id": "b42eb0ff",
   "metadata": {},
   "outputs": [
    {
     "data": {
      "text/plain": [
       "400"
      ]
     },
     "execution_count": 24,
     "metadata": {},
     "output_type": "execute_result"
    }
   ],
   "source": [
    "memory_size = retail_data.nbytes\n",
    "memory_size"
   ]
  },
  {
   "cell_type": "code",
   "execution_count": 25,
   "id": "214eea12",
   "metadata": {},
   "outputs": [
    {
     "name": "stdout",
     "output_type": "stream",
     "text": [
      "Memory size: 400 bytes\n"
     ]
    }
   ],
   "source": [
    "print(f\"Memory size: {retail_data.nbytes} bytes\")\n"
   ]
  },
  {
   "cell_type": "code",
   "execution_count": null,
   "id": "5b820ad0",
   "metadata": {},
   "outputs": [],
   "source": [
    "print(\"\\nQ3.1: Extract the first row of retail_data\")\n"
   ]
  },
  {
   "cell_type": "code",
   "execution_count": 27,
   "id": "e97fe5e2",
   "metadata": {},
   "outputs": [
    {
     "name": "stdout",
     "output_type": "stream",
     "text": [
      "[1001.     29.99   45.      4.2    15.  ]\n"
     ]
    }
   ],
   "source": [
    "first_row = retail_data[0]\n",
    "print(first_row)"
   ]
  },
  {
   "cell_type": "code",
   "execution_count": null,
   "id": "a5d146aa",
   "metadata": {},
   "outputs": [],
   "source": [
    "print(\"\\nQ3.2: Extract the last row of retail_data\")\n"
   ]
  },
  {
   "cell_type": "code",
   "execution_count": 28,
   "id": "91586c85",
   "metadata": {},
   "outputs": [
    {
     "name": "stdout",
     "output_type": "stream",
     "text": [
      "[1010.     59.99   34.      4.4    10.  ]\n"
     ]
    }
   ],
   "source": [
    "last_row = retail_data[-1]\n",
    "print(last_row)"
   ]
  },
  {
   "cell_type": "code",
   "execution_count": null,
   "id": "86ba040f",
   "metadata": {},
   "outputs": [],
   "source": [
    "print(\"\\nQ3.3: Extract the Price column (column index 1)\")\n"
   ]
  },
  {
   "cell_type": "code",
   "execution_count": 30,
   "id": "066790da",
   "metadata": {},
   "outputs": [
    {
     "name": "stdout",
     "output_type": "stream",
     "text": [
      "[29.99 49.99 19.99 89.99 15.99 69.99 39.99 79.99 25.99 59.99]\n"
     ]
    }
   ],
   "source": [
    "price = retail_data[:,1]\n",
    "print(price)"
   ]
  },
  {
   "cell_type": "code",
   "execution_count": null,
   "id": "ce2e96f2",
   "metadata": {},
   "outputs": [],
   "source": [
    "print(\"\\nQ3.4: Extract the first 3 rows and first 2 columns\")\n"
   ]
  },
  {
   "cell_type": "code",
   "execution_count": 31,
   "id": "1604fb72",
   "metadata": {},
   "outputs": [
    {
     "data": {
      "text/plain": [
       "array([[1001.  ,   29.99],\n",
       "       [1002.  ,   49.99],\n",
       "       [1003.  ,   19.99]])"
      ]
     },
     "execution_count": 31,
     "metadata": {},
     "output_type": "execute_result"
    }
   ],
   "source": [
    "x = retail_data[:3,:2]\n",
    "x"
   ]
  },
  {
   "cell_type": "code",
   "execution_count": null,
   "id": "a1c758b9",
   "metadata": {},
   "outputs": [],
   "source": [
    "print(\"\\nQ3.5: Extract rows 2 to 5 (inclusive)\")\n"
   ]
  },
  {
   "cell_type": "code",
   "execution_count": 34,
   "id": "f17defd3",
   "metadata": {},
   "outputs": [
    {
     "data": {
      "text/plain": [
       "array([[1002.  ,   49.99,   32.  ,    4.5 ,    8.  ],\n",
       "       [1003.  ,   19.99,   78.  ,    3.8 ,   22.  ],\n",
       "       [1004.  ,   89.99,   12.  ,    4.7 ,    5.  ],\n",
       "       [1005.  ,   15.99,   95.  ,    4.  ,   18.  ]])"
      ]
     },
     "execution_count": 34,
     "metadata": {},
     "output_type": "execute_result"
    }
   ],
   "source": [
    "x=retail_data[1:5]\n",
    "x"
   ]
  },
  {
   "cell_type": "code",
   "execution_count": 35,
   "id": "422d3158",
   "metadata": {},
   "outputs": [
    {
     "name": "stdout",
     "output_type": "stream",
     "text": [
      "[[1003.     19.99   78.      3.8    22.  ]\n",
      " [1004.     89.99   12.      4.7     5.  ]\n",
      " [1005.     15.99   95.      4.     18.  ]\n",
      " [1006.     69.99   28.      4.3    12.  ]]\n"
     ]
    }
   ],
   "source": [
    "rows_2_to_5 = retail_data[2:6]\n",
    "print(rows_2_to_5)\n"
   ]
  },
  {
   "cell_type": "code",
   "execution_count": null,
   "id": "100bec25",
   "metadata": {},
   "outputs": [],
   "source": [
    "print(\"\\nQ4.1: Calculate the sum of all prices\")\n"
   ]
  },
  {
   "cell_type": "code",
   "execution_count": 44,
   "id": "928ba6be",
   "metadata": {},
   "outputs": [
    {
     "name": "stdout",
     "output_type": "stream",
     "text": [
      "$ 481.9\n"
     ]
    }
   ],
   "source": [
    "sum = np.sum(retail_data[:,1])\n",
    "print('$',sum)"
   ]
  },
  {
   "cell_type": "code",
   "execution_count": 37,
   "id": "ec6717a4",
   "metadata": {},
   "outputs": [
    {
     "name": "stdout",
     "output_type": "stream",
     "text": [
      "Total price: $481.90\n"
     ]
    }
   ],
   "source": [
    "total_price = np.sum(retail_data[:, 1])\n",
    "print(f\"Total price: ${total_price:.2f}\")\n"
   ]
  },
  {
   "cell_type": "code",
   "execution_count": null,
   "id": "d65aba75",
   "metadata": {},
   "outputs": [],
   "source": [
    "print(\"\\nQ4.2: Calculate the mean price\")\n"
   ]
  },
  {
   "cell_type": "code",
   "execution_count": 41,
   "id": "b7c588b4",
   "metadata": {},
   "outputs": [
    {
     "name": "stdout",
     "output_type": "stream",
     "text": [
      "$ 48.19\n"
     ]
    }
   ],
   "source": [
    "mean = np.mean(retail_data[:,1])\n",
    "print(\"$\",mean)"
   ]
  },
  {
   "cell_type": "code",
   "execution_count": null,
   "id": "c00ee862",
   "metadata": {},
   "outputs": [],
   "source": [
    "print(\"\\nQ4.3: Calculate the standard deviation of prices\")\n"
   ]
  },
  {
   "cell_type": "code",
   "execution_count": 48,
   "id": "9054eca1",
   "metadata": {},
   "outputs": [
    {
     "name": "stdout",
     "output_type": "stream",
     "text": [
      "sd:$24.70\n"
     ]
    }
   ],
   "source": [
    "SD = np.std(retail_data[:,1])\n",
    "print(f'sd:${SD:.2f}')"
   ]
  },
  {
   "cell_type": "code",
   "execution_count": null,
   "id": "cfd8e8eb",
   "metadata": {},
   "outputs": [],
   "source": [
    "print(\"\\nQ4.4: Calculate the variance of prices\")\n"
   ]
  },
  {
   "cell_type": "code",
   "execution_count": 49,
   "id": "07f06e3d",
   "metadata": {},
   "outputs": [
    {
     "name": "stdout",
     "output_type": "stream",
     "text": [
      "var:$609.96\n"
     ]
    }
   ],
   "source": [
    "var = np.var(retail_data[:,1])\n",
    "print(f'var:${var:.2f}')"
   ]
  },
  {
   "cell_type": "code",
   "execution_count": null,
   "id": "91768783",
   "metadata": {},
   "outputs": [],
   "source": [
    "print(\"\\nQ4.5: Calculate the median price\")\n"
   ]
  },
  {
   "cell_type": "code",
   "execution_count": 50,
   "id": "e299f24a",
   "metadata": {},
   "outputs": [
    {
     "name": "stdout",
     "output_type": "stream",
     "text": [
      "median:$44.99\n"
     ]
    }
   ],
   "source": [
    "median = np.median(retail_data[:,1])\n",
    "print(f'median:${median:.2f}')"
   ]
  },
  {
   "cell_type": "code",
   "execution_count": 2,
   "id": "76ea17c0",
   "metadata": {},
   "outputs": [
    {
     "name": "stdout",
     "output_type": "stream",
     "text": [
      "25th percentile: $26.99\n",
      "50th percentile: $44.99\n",
      "75th percentile: $67.49\n"
     ]
    }
   ],
   "source": [
    "percentiles = np.percentile(retail_data[:, 1], [25, 50, 75])\n",
    "print(f\"25th percentile: ${percentiles[0]:.2f}\")\n",
    "print(f\"50th percentile: ${percentiles[1]:.2f}\")\n",
    "print(f\"75th percentile: ${percentiles[2]:.2f}\")"
   ]
  },
  {
   "cell_type": "code",
   "execution_count": 3,
   "id": "d4e80ed8",
   "metadata": {},
   "outputs": [
    {
     "name": "stdout",
     "output_type": "stream",
     "text": [
      "Covariance: -653.4444\n"
     ]
    }
   ],
   "source": [
    "covariance = np.cov(retail_data[:, 1], retail_data[:, 2])[0, 1]\n",
    "print(f\"Covariance: {covariance:.4f}\")\n"
   ]
  },
  {
   "cell_type": "code",
   "execution_count": 4,
   "id": "6a6812d6",
   "metadata": {},
   "outputs": [
    {
     "name": "stdout",
     "output_type": "stream",
     "text": [
      "[[1001.     29.99   45.      4.2    15.   1002.     49.99   32.      4.5\n",
      "     8.  ]\n",
      " [1003.     19.99   78.      3.8    22.   1004.     89.99   12.      4.7\n",
      "     5.  ]\n",
      " [1005.     15.99   95.      4.     18.   1006.     69.99   28.      4.3\n",
      "    12.  ]\n",
      " [1007.     39.99   56.      3.9    20.   1008.     79.99   18.      4.6\n",
      "     7.  ]\n",
      " [1009.     25.99   67.      4.1    16.   1010.     59.99   34.      4.4\n",
      "    10.  ]]\n"
     ]
    }
   ],
   "source": [
    "reshaped_5x10 = retail_data.reshape(5, 10)\n",
    "print(reshaped_5x10)\n"
   ]
  },
  {
   "cell_type": "code",
   "execution_count": 5,
   "id": "6d15eeeb",
   "metadata": {},
   "outputs": [
    {
     "ename": "ValueError",
     "evalue": "array split does not result in an equal division",
     "output_type": "error",
     "traceback": [
      "\u001b[31m---------------------------------------------------------------------------\u001b[39m",
      "\u001b[31mValueError\u001b[39m                                Traceback (most recent call last)",
      "\u001b[36mCell\u001b[39m\u001b[36m \u001b[39m\u001b[32mIn[5]\u001b[39m\u001b[32m, line 1\u001b[39m\n\u001b[32m----> \u001b[39m\u001b[32m1\u001b[39m split_horizontal = \u001b[43mnp\u001b[49m\u001b[43m.\u001b[49m\u001b[43mhsplit\u001b[49m\u001b[43m(\u001b[49m\u001b[43mretail_data\u001b[49m\u001b[43m,\u001b[49m\u001b[43m \u001b[49m\u001b[32;43m2\u001b[39;49m\u001b[43m)\u001b[49m\n\u001b[32m      2\u001b[39m \u001b[38;5;28mprint\u001b[39m(\u001b[33m\"\u001b[39m\u001b[33mFirst part:\u001b[39m\u001b[33m\"\u001b[39m)\n\u001b[32m      3\u001b[39m \u001b[38;5;28mprint\u001b[39m(split_horizontal[\u001b[32m0\u001b[39m])\n",
      "\u001b[36mFile \u001b[39m\u001b[32mc:\\Users\\ragha\\AppData\\Local\\Programs\\Python\\Python313\\Lib\\site-packages\\numpy\\lib\\_shape_base_impl.py:959\u001b[39m, in \u001b[36mhsplit\u001b[39m\u001b[34m(ary, indices_or_sections)\u001b[39m\n\u001b[32m    957\u001b[39m     \u001b[38;5;28;01mraise\u001b[39;00m \u001b[38;5;167;01mValueError\u001b[39;00m(\u001b[33m'\u001b[39m\u001b[33mhsplit only works on arrays of 1 or more dimensions\u001b[39m\u001b[33m'\u001b[39m)\n\u001b[32m    958\u001b[39m \u001b[38;5;28;01mif\u001b[39;00m ary.ndim > \u001b[32m1\u001b[39m:\n\u001b[32m--> \u001b[39m\u001b[32m959\u001b[39m     \u001b[38;5;28;01mreturn\u001b[39;00m \u001b[43msplit\u001b[49m\u001b[43m(\u001b[49m\u001b[43mary\u001b[49m\u001b[43m,\u001b[49m\u001b[43m \u001b[49m\u001b[43mindices_or_sections\u001b[49m\u001b[43m,\u001b[49m\u001b[43m \u001b[49m\u001b[32;43m1\u001b[39;49m\u001b[43m)\u001b[49m\n\u001b[32m    960\u001b[39m \u001b[38;5;28;01melse\u001b[39;00m:\n\u001b[32m    961\u001b[39m     \u001b[38;5;28;01mreturn\u001b[39;00m split(ary, indices_or_sections, \u001b[32m0\u001b[39m)\n",
      "\u001b[36mFile \u001b[39m\u001b[32mc:\\Users\\ragha\\AppData\\Local\\Programs\\Python\\Python313\\Lib\\site-packages\\numpy\\lib\\_shape_base_impl.py:884\u001b[39m, in \u001b[36msplit\u001b[39m\u001b[34m(ary, indices_or_sections, axis)\u001b[39m\n\u001b[32m    882\u001b[39m     N = ary.shape[axis]\n\u001b[32m    883\u001b[39m     \u001b[38;5;28;01mif\u001b[39;00m N % sections:\n\u001b[32m--> \u001b[39m\u001b[32m884\u001b[39m         \u001b[38;5;28;01mraise\u001b[39;00m \u001b[38;5;167;01mValueError\u001b[39;00m(\n\u001b[32m    885\u001b[39m             \u001b[33m'\u001b[39m\u001b[33marray split does not result in an equal division\u001b[39m\u001b[33m'\u001b[39m) \u001b[38;5;28;01mfrom\u001b[39;00m\u001b[38;5;250m \u001b[39m\u001b[38;5;28;01mNone\u001b[39;00m\n\u001b[32m    886\u001b[39m \u001b[38;5;28;01mreturn\u001b[39;00m array_split(ary, indices_or_sections, axis)\n",
      "\u001b[31mValueError\u001b[39m: array split does not result in an equal division"
     ]
    }
   ],
   "source": [
    "split_horizontal = np.hsplit(retail_data, 2)\n",
    "print(\"First part:\")\n",
    "print(split_horizontal[0])\n",
    "print(\"\\nSecond part:\")\n",
    "print(split_horizontal[1])\n"
   ]
  },
  {
   "cell_type": "code",
   "execution_count": 6,
   "id": "09a79132",
   "metadata": {},
   "outputs": [
    {
     "name": "stdout",
     "output_type": "stream",
     "text": [
      "[[1004.     89.99   12.      4.7     5.  ]\n",
      " [1006.     69.99   28.      4.3    12.  ]\n",
      " [1008.     79.99   18.      4.6     7.  ]\n",
      " [1010.     59.99   34.      4.4    10.  ]]\n"
     ]
    }
   ],
   "source": [
    "expensive_products = retail_data[retail_data[:, 1] > 50]\n",
    "print(expensive_products)\n"
   ]
  },
  {
   "cell_type": "code",
   "execution_count": 7,
   "id": "c969228b",
   "metadata": {},
   "outputs": [
    {
     "name": "stdout",
     "output_type": "stream",
     "text": [
      "Products in $20-$60 range: 5\n"
     ]
    }
   ],
   "source": [
    "price_range_count = np.sum((retail_data[:, 1] >= 20) & (retail_data[:, 1] <= 60))\n",
    "print(f\"Products in $20-$60 range: {price_range_count}\")"
   ]
  },
  {
   "cell_type": "code",
   "execution_count": 8,
   "id": "2c1470e8",
   "metadata": {},
   "outputs": [
    {
     "name": "stdout",
     "output_type": "stream",
     "text": [
      "[2 6 4 8 0 5 9 1 7 3]\n"
     ]
    }
   ],
   "source": [
    "rating_sort_indices = np.argsort(retail_data[:, 3])\n",
    "print(rating_sort_indices)\n"
   ]
  },
  {
   "cell_type": "code",
   "execution_count": 9,
   "id": "6fe3c848",
   "metadata": {},
   "outputs": [
    {
     "name": "stdout",
     "output_type": "stream",
     "text": [
      "Histogram counts: [4 1 2 1 2]\n",
      "Bin edges: [15.99 30.79 45.59 60.39 75.19 89.99]\n"
     ]
    }
   ],
   "source": [
    "hist_prices, bin_edges = np.histogram(retail_data[:, 1], bins=5)\n",
    "print(f\"Histogram counts: {hist_prices}\")\n",
    "print(f\"Bin edges: {bin_edges}\")\n"
   ]
  },
  {
   "cell_type": "code",
   "execution_count": 10,
   "id": "6180b24f",
   "metadata": {},
   "outputs": [
    {
     "name": "stdout",
     "output_type": "stream",
     "text": [
      "[-1.11818498  0.30263449 -0.41703343  1.50632187 -1.12916294]\n"
     ]
    }
   ],
   "source": [
    "normal_random = np.random.normal(0, 1, 5)\n",
    "print(normal_random)"
   ]
  },
  {
   "cell_type": "code",
   "execution_count": 11,
   "id": "e5d6dae4",
   "metadata": {},
   "outputs": [
    {
     "name": "stdout",
     "output_type": "stream",
     "text": [
      "Matrix:\n",
      "[[2 3]\n",
      " [1 4]]\n",
      "Determinant: 5.000000000000001\n"
     ]
    }
   ],
   "source": [
    "matrix_2x2 = np.array([[2, 3], [1, 4]])\n",
    "determinant = np.linalg.det(matrix_2x2)\n",
    "print(f\"Matrix:\\n{matrix_2x2}\")\n",
    "print(f\"Determinant: {determinant}\")\n"
   ]
  },
  {
   "cell_type": "code",
   "execution_count": 13,
   "id": "9d461ed8",
   "metadata": {},
   "outputs": [
    {
     "name": "stdout",
     "output_type": "stream",
     "text": [
      "['1001.0' '1002.0' '1003.0' '1004.0' '1005.0' '1006.0' '1007.0' '1008.0'\n",
      " '1009.0' '1010.0']\n"
     ]
    }
   ],
   "source": [
    "product_ids_str = retail_data[:, 0].astype(str)\n",
    "print(product_ids_str)"
   ]
  },
  {
   "cell_type": "code",
   "execution_count": 14,
   "id": "943bd4e6",
   "metadata": {},
   "outputs": [
    {
     "name": "stdout",
     "output_type": "stream",
     "text": [
      "['PROD1.0' 'PROD2.0' 'PROD3.0' 'PROD4.0' 'PROD5.0' 'PROD6.0' 'PROD7.0'\n",
      " 'PROD8.0' 'PROD9.0' '1010.0']\n"
     ]
    }
   ],
   "source": [
    "replaced_ids = np.char.replace(product_ids_str, '100', 'PROD')\n",
    "print(replaced_ids)"
   ]
  },
  {
   "cell_type": "code",
   "execution_count": 15,
   "id": "107579ef",
   "metadata": {},
   "outputs": [
    {
     "name": "stdout",
     "output_type": "stream",
     "text": [
      "['Affordable' 'Affordable' 'Affordable' 'Expensive' 'Affordable'\n",
      " 'Expensive' 'Affordable' 'Expensive' 'Affordable' 'Expensive']\n"
     ]
    }
   ],
   "source": [
    "price_labels = np.where(retail_data[:, 1] > 50, 'Expensive', 'Affordable')\n",
    "print(price_labels)\n"
   ]
  },
  {
   "cell_type": "code",
   "execution_count": 16,
   "id": "3e19e81b",
   "metadata": {},
   "outputs": [
    {
     "name": "stdout",
     "output_type": "stream",
     "text": [
      "[29.99  49.99  17.991 98.989 14.391 76.989 39.99  87.989 25.99  65.989]\n"
     ]
    }
   ],
   "source": [
    "def low_price(x): return x * 0.9  # 10% discount\n",
    "def mid_price(x): return x * 1.0  # No change\n",
    "def high_price(x): return x * 1.1  # 10% markup\n",
    "\n",
    "discounted_prices = np.piecewise(\n",
    "    retail_data[:, 1],\n",
    "    [retail_data[:, 1] < 20, (retail_data[:, 1] >= 20) & (retail_data[:, 1] < 50), retail_data[:, 1] >= 50],\n",
    "    [low_price, mid_price, high_price]\n",
    ")\n",
    "print(discounted_prices)"
   ]
  },
  {
   "cell_type": "code",
   "execution_count": 2,
   "id": "f4290f1c",
   "metadata": {},
   "outputs": [
    {
     "name": "stdout",
     "output_type": "stream",
     "text": [
      "Array 1: [1 2 3]\n",
      "Array 2: [4 5 6]\n",
      "Horizontally stacked: [1 2 3 4 5 6]\n"
     ]
    }
   ],
   "source": [
    "import numpy as np\n",
    "arr1 = np.array([1, 2, 3])\n",
    "arr2 = np.array([4, 5, 6])\n",
    "hstacked = np.hstack([arr1, arr2])\n",
    "print(f\"Array 1: {arr1}\")\n",
    "print(f\"Array 2: {arr2}\")\n",
    "print(f\"Horizontally stacked: {hstacked}\")\n"
   ]
  },
  {
   "cell_type": "code",
   "execution_count": 3,
   "id": "bf60efb3",
   "metadata": {},
   "outputs": [
    {
     "name": "stdout",
     "output_type": "stream",
     "text": [
      "Vertically stacked:\n",
      "[[1 2 3]\n",
      " [4 5 6]]\n"
     ]
    }
   ],
   "source": [
    "vstacked = np.vstack([arr1, arr2])\n",
    "print(f\"Vertically stacked:\\n{vstacked}\")"
   ]
  },
  {
   "cell_type": "code",
   "execution_count": 4,
   "id": "8eb5c99f",
   "metadata": {},
   "outputs": [
    {
     "name": "stdout",
     "output_type": "stream",
     "text": [
      "Depth-wise stacked:\n",
      "[[[1 4]\n",
      "  [2 5]\n",
      "  [3 6]]]\n"
     ]
    }
   ],
   "source": [
    "dstacked = np.dstack([arr1, arr2])\n",
    "print(f\"Depth-wise stacked:\\n{dstacked}\")"
   ]
  },
  {
   "cell_type": "code",
   "execution_count": 5,
   "id": "979ea38f",
   "metadata": {},
   "outputs": [
    {
     "name": "stdout",
     "output_type": "stream",
     "text": [
      "Column stacked:\n",
      "[[1 4]\n",
      " [2 5]\n",
      " [3 6]]\n"
     ]
    }
   ],
   "source": [
    "col_stacked = np.column_stack([arr1, arr2])\n",
    "print(f\"Column stacked:\\n{col_stacked}\")"
   ]
  },
  {
   "cell_type": "code",
   "execution_count": 6,
   "id": "d717b9ce",
   "metadata": {},
   "outputs": [
    {
     "name": "stdout",
     "output_type": "stream",
     "text": [
      "Original array: [1 2 3 4 5 6 7 8 9]\n",
      "Part 1: [1 2 3]\n",
      "Part 2: [4 5 6]\n",
      "Part 3: [7 8 9]\n"
     ]
    }
   ],
   "source": [
    "arr_to_split = np.array([1, 2, 3, 4, 5, 6, 7, 8, 9])\n",
    "split_parts = np.split(arr_to_split, 3)\n",
    "print(f\"Original array: {arr_to_split}\")\n",
    "for i, part in enumerate(split_parts):\n",
    "    print(f\"Part {i+1}: {part}\")\n"
   ]
  },
  {
   "cell_type": "code",
   "execution_count": 11,
   "id": "5e685dcf",
   "metadata": {},
   "outputs": [
    {
     "name": "stdout",
     "output_type": "stream",
     "text": [
      "Split at indices [2, 6]:\n",
      "Part 1: [1 2]\n",
      "Part 2: [3 4 5 6]\n",
      "Part 3: [7 8 9]\n"
     ]
    }
   ],
   "source": [
    "split_at_indices = np.split(arr_to_split, [2, 6])\n",
    "print(f\"Split at indices [2, 6]:\")\n",
    "for i, part in enumerate(split_at_indices):\n",
    "    print(f\"Part {i+1}: {part}\")\n"
   ]
  },
  {
   "cell_type": "code",
   "execution_count": 12,
   "id": "38080701",
   "metadata": {},
   "outputs": [
    {
     "name": "stdout",
     "output_type": "stream",
     "text": [
      "Original 2D array:\n",
      "[[1 2 3]\n",
      " [4 5 6]]\n",
      "Horizontal part 1:\n",
      "[[1]\n",
      " [4]]\n",
      "Horizontal part 2:\n",
      "[[2]\n",
      " [5]]\n",
      "Horizontal part 3:\n",
      "[[3]\n",
      " [6]]\n"
     ]
    }
   ],
   "source": [
    "arr_2d = np.array([[1, 2, 3], [4, 5, 6]])\n",
    "hsplit_parts = np.hsplit(arr_2d, 3)\n",
    "print(f\"Original 2D array:\\n{arr_2d}\")\n",
    "for i, part in enumerate(hsplit_parts):\n",
    "    print(f\"Horizontal part {i+1}:\\n{part}\")"
   ]
  },
  {
   "cell_type": "code",
   "execution_count": 13,
   "id": "8685037a",
   "metadata": {},
   "outputs": [
    {
     "name": "stdout",
     "output_type": "stream",
     "text": [
      "Vertical parts:\n",
      "Part 1:\n",
      "[[1 2 3]]\n",
      "Part 2:\n",
      "[[4 5 6]]\n"
     ]
    }
   ],
   "source": [
    "vsplit_parts = np.vsplit(arr_2d, 2)\n",
    "print(f\"Vertical parts:\")\n",
    "for i, part in enumerate(vsplit_parts):\n",
    "    print(f\"Part {i+1}:\\n{part}\")"
   ]
  },
  {
   "cell_type": "code",
   "execution_count": 14,
   "id": "a19d556c",
   "metadata": {},
   "outputs": [
    {
     "name": "stdout",
     "output_type": "stream",
     "text": [
      "Split into 4 chunks:\n",
      "Chunk 1: [1 2 3]\n",
      "Chunk 2: [4 5]\n",
      "Chunk 3: [6 7]\n",
      "Chunk 4: [8 9]\n"
     ]
    }
   ],
   "source": [
    "chunks = np.array_split(arr_to_split, 4)\n",
    "print(f\"Split into 4 chunks:\")\n",
    "for i, chunk in enumerate(chunks):\n",
    "    print(f\"Chunk {i+1}: {chunk}\")\n"
   ]
  },
  {
   "cell_type": "code",
   "execution_count": 15,
   "id": "f817bc4a",
   "metadata": {},
   "outputs": [
    {
     "name": "stdout",
     "output_type": "stream",
     "text": [
      "Original: [1 2 3]\n",
      "Repeated 3 times: [1 1 1 2 2 2 3 3 3]\n"
     ]
    }
   ],
   "source": [
    "repeat_elements = np.repeat(arr1, 3)\n",
    "print(f\"Original: {arr1}\")\n",
    "print(f\"Repeated 3 times: {repeat_elements}\")"
   ]
  },
  {
   "cell_type": "code",
   "execution_count": 19,
   "id": "d427cba2",
   "metadata": {},
   "outputs": [
    {
     "name": "stdout",
     "output_type": "stream",
     "text": [
      "Original:\n",
      "[[1 2]\n",
      " [3 4]]\n",
      "Tiled (2, 3):\n",
      "[[1 2 1 2 1 2]\n",
      " [3 4 3 4 3 4]\n",
      " [1 2 1 2 1 2]\n",
      " [3 4 3 4 3 4]]\n"
     ]
    }
   ],
   "source": [
    "arr_2d_small = np.array([[1, 2], [3, 4]])\n",
    "tiled_2d = np.tile(arr_2d_small,(2,3))\n",
    "print(f\"Original:\\n{arr_2d_small}\")\n",
    "print(f\"Tiled (2, 3):\\n{tiled_2d}\")"
   ]
  },
  {
   "cell_type": "code",
   "execution_count": 20,
   "id": "0e0250a4",
   "metadata": {},
   "outputs": [
    {
     "name": "stdout",
     "output_type": "stream",
     "text": [
      "Pattern: [1 0]\n",
      "Tiled 5 times: [1 0 1 0 1 0 1 0 1 0]\n"
     ]
    }
   ],
   "source": [
    "pattern = np.array([1, 0])\n",
    "pattern_tiled = np.tile(pattern, 5)\n",
    "print(f\"Pattern: {pattern}\")\n",
    "print(f\"Tiled 5 times: {pattern_tiled}\")"
   ]
  },
  {
   "cell_type": "code",
   "execution_count": 21,
   "id": "fe1cd047",
   "metadata": {},
   "outputs": [
    {
     "name": "stdout",
     "output_type": "stream",
     "text": [
      "Original: [1 2 3]\n",
      "Repeat counts: [2, 1, 3]\n",
      "Result: [1 1 2 3 3 3]\n"
     ]
    }
   ],
   "source": [
    "repeat_counts = [2, 1, 3]\n",
    "repeated_variable = np.repeat(arr1, repeat_counts)\n",
    "print(f\"Original: {arr1}\")\n",
    "print(f\"Repeat counts: {repeat_counts}\")\n",
    "print(f\"Result: {repeated_variable}\")\n"
   ]
  },
  {
   "cell_type": "code",
   "execution_count": 22,
   "id": "02ddc280",
   "metadata": {},
   "outputs": [
    {
     "name": "stdout",
     "output_type": "stream",
     "text": [
      "Array A: [1 2 3]\n",
      "Array B: [1 2 3]\n",
      "Array C: [1 2 4]\n",
      "A equals B: True\n",
      "A equals C: False\n"
     ]
    }
   ],
   "source": [
    "arr_a = np.array([1, 2, 3])\n",
    "arr_b = np.array([1, 2, 3])\n",
    "arr_c = np.array([1, 2, 4])\n",
    "print(f\"Array A: {arr_a}\")\n",
    "print(f\"Array B: {arr_b}\")\n",
    "print(f\"Array C: {arr_c}\")\n",
    "print(f\"A equals B: {np.array_equal(arr_a, arr_b)}\")\n",
    "print(f\"A equals C: {np.array_equal(arr_a, arr_c)}\")\n"
   ]
  },
  {
   "cell_type": "code",
   "execution_count": 23,
   "id": "ed036195",
   "metadata": {},
   "outputs": [
    {
     "name": "stdout",
     "output_type": "stream",
     "text": [
      "Array D: [1. 2. 3.]\n",
      "Array E: [1.001 2.001 3.001]\n",
      "Arrays are close: True\n"
     ]
    }
   ],
   "source": [
    "arr_d = np.array([1.0, 2.0, 3.0])\n",
    "arr_e = np.array([1.001, 2.001, 3.001])\n",
    "print(f\"Array D: {arr_d}\")\n",
    "print(f\"Array E: {arr_e}\")\n",
    "print(f\"Arrays are close: {np.allclose(arr_d, arr_e, atol=0.01)}\")\n"
   ]
  },
  {
   "cell_type": "code",
   "execution_count": 24,
   "id": "cb6cee50",
   "metadata": {},
   "outputs": [
    {
     "name": "stdout",
     "output_type": "stream",
     "text": [
      "Array: [1 2 3]\n",
      "Logical AND (1 < x < 3): [False  True False]\n"
     ]
    }
   ],
   "source": [
    "logical_and = np.logical_and(arr_a > 1, arr_a < 3)\n",
    "print(f\"Array: {arr_a}\")\n",
    "print(f\"Logical AND (1 < x < 3): {logical_and}\")\n"
   ]
  },
  {
   "cell_type": "code",
   "execution_count": 25,
   "id": "a5ec0bdf",
   "metadata": {},
   "outputs": [
    {
     "name": "stdout",
     "output_type": "stream",
     "text": [
      "Array: [1 2 3]\n",
      "Logical OR (x == 1 OR x == 3): [ True False  True]\n"
     ]
    }
   ],
   "source": [
    "logical_or = np.logical_or(arr_a == 1, arr_a == 3)\n",
    "print(f\"Array: {arr_a}\")\n",
    "print(f\"Logical OR (x == 1 OR x == 3): {logical_or}\")"
   ]
  },
  {
   "cell_type": "code",
   "execution_count": 26,
   "id": "e00600fc",
   "metadata": {},
   "outputs": [
    {
     "name": "stdout",
     "output_type": "stream",
     "text": [
      "Array F: [1 2 3 4]\n",
      "Array G: [3 4 5 6]\n",
      "Intersection: [3 4]\n"
     ]
    }
   ],
   "source": [
    "arr_f = np.array([1, 2, 3, 4])\n",
    "arr_g = np.array([3, 4, 5, 6])\n",
    "intersection = np.intersect1d(arr_f, arr_g)\n",
    "print(f\"Array F: {arr_f}\")\n",
    "print(f\"Array G: {arr_g}\")\n",
    "print(f\"Intersection: {intersection}\")"
   ]
  },
  {
   "cell_type": "code",
   "execution_count": 27,
   "id": "7b6a6a8c",
   "metadata": {},
   "outputs": [
    {
     "name": "stdout",
     "output_type": "stream",
     "text": [
      "Symmetric difference: [1 2 5 6]\n"
     ]
    }
   ],
   "source": [
    "symmetric_diff = np.setxor1d(arr_f, arr_g)\n",
    "print(f\"Symmetric difference: {symmetric_diff}\")"
   ]
  },
  {
   "cell_type": "code",
   "execution_count": null,
   "id": "2c025dec",
   "metadata": {},
   "outputs": [],
   "source": []
  }
 ],
 "metadata": {
  "kernelspec": {
   "display_name": "Python 3",
   "language": "python",
   "name": "python3"
  },
  "language_info": {
   "codemirror_mode": {
    "name": "ipython",
    "version": 3
   },
   "file_extension": ".py",
   "mimetype": "text/x-python",
   "name": "python",
   "nbconvert_exporter": "python",
   "pygments_lexer": "ipython3",
   "version": "3.13.5"
  }
 },
 "nbformat": 4,
 "nbformat_minor": 5
}
