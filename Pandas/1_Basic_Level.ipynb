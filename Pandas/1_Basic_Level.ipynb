{
 "cells": [
  {
   "cell_type": "code",
   "execution_count": 1,
   "id": "6474abed",
   "metadata": {},
   "outputs": [],
   "source": [
    "import pandas as pd\n",
    "import numpy as np"
   ]
  },
  {
   "cell_type": "markdown",
   "id": "128f8d59",
   "metadata": {},
   "source": [
    "#Descriptive & Basic Queries (Questions 1-50)"
   ]
  },
  {
   "cell_type": "code",
   "execution_count": 37,
   "id": "9cb3a81f",
   "metadata": {},
   "outputs": [
    {
     "data": {
      "text/html": [
       "<div>\n",
       "<style scoped>\n",
       "    .dataframe tbody tr th:only-of-type {\n",
       "        vertical-align: middle;\n",
       "    }\n",
       "\n",
       "    .dataframe tbody tr th {\n",
       "        vertical-align: top;\n",
       "    }\n",
       "\n",
       "    .dataframe thead th {\n",
       "        text-align: right;\n",
       "    }\n",
       "</style>\n",
       "<table border=\"1\" class=\"dataframe\">\n",
       "  <thead>\n",
       "    <tr style=\"text-align: right;\">\n",
       "      <th></th>\n",
       "      <th>Row ID</th>\n",
       "      <th>Order ID</th>\n",
       "      <th>Order Date</th>\n",
       "      <th>Ship Date</th>\n",
       "      <th>Ship Mode</th>\n",
       "      <th>Customer ID</th>\n",
       "      <th>Customer Name</th>\n",
       "      <th>Segment</th>\n",
       "      <th>Country</th>\n",
       "      <th>City</th>\n",
       "      <th>...</th>\n",
       "      <th>Postal Code</th>\n",
       "      <th>Region</th>\n",
       "      <th>Product ID</th>\n",
       "      <th>Category</th>\n",
       "      <th>Sub-Category</th>\n",
       "      <th>Product Name</th>\n",
       "      <th>Sales</th>\n",
       "      <th>Quantity</th>\n",
       "      <th>Discount</th>\n",
       "      <th>Profit</th>\n",
       "    </tr>\n",
       "  </thead>\n",
       "  <tbody>\n",
       "    <tr>\n",
       "      <th>0</th>\n",
       "      <td>1</td>\n",
       "      <td>CA-2016-152156</td>\n",
       "      <td>2016-11-08</td>\n",
       "      <td>2016-11-11</td>\n",
       "      <td>Second Class</td>\n",
       "      <td>CG-12520</td>\n",
       "      <td>Claire Gute</td>\n",
       "      <td>Consumer</td>\n",
       "      <td>United States</td>\n",
       "      <td>Henderson</td>\n",
       "      <td>...</td>\n",
       "      <td>42420</td>\n",
       "      <td>South</td>\n",
       "      <td>FUR-BO-10001798</td>\n",
       "      <td>Furniture</td>\n",
       "      <td>Bookcases</td>\n",
       "      <td>Bush Somerset Collection Bookcase</td>\n",
       "      <td>261.9600</td>\n",
       "      <td>2</td>\n",
       "      <td>0.00</td>\n",
       "      <td>41.9136</td>\n",
       "    </tr>\n",
       "    <tr>\n",
       "      <th>1</th>\n",
       "      <td>2</td>\n",
       "      <td>CA-2016-152156</td>\n",
       "      <td>2016-11-08</td>\n",
       "      <td>2016-11-11</td>\n",
       "      <td>Second Class</td>\n",
       "      <td>CG-12520</td>\n",
       "      <td>Claire Gute</td>\n",
       "      <td>Consumer</td>\n",
       "      <td>United States</td>\n",
       "      <td>Henderson</td>\n",
       "      <td>...</td>\n",
       "      <td>42420</td>\n",
       "      <td>South</td>\n",
       "      <td>FUR-CH-10000454</td>\n",
       "      <td>Furniture</td>\n",
       "      <td>Chairs</td>\n",
       "      <td>Hon Deluxe Fabric Upholstered Stacking Chairs,...</td>\n",
       "      <td>731.9400</td>\n",
       "      <td>3</td>\n",
       "      <td>0.00</td>\n",
       "      <td>219.5820</td>\n",
       "    </tr>\n",
       "    <tr>\n",
       "      <th>2</th>\n",
       "      <td>3</td>\n",
       "      <td>CA-2016-138688</td>\n",
       "      <td>2016-06-12</td>\n",
       "      <td>2016-06-16</td>\n",
       "      <td>Second Class</td>\n",
       "      <td>DV-13045</td>\n",
       "      <td>Darrin Van Huff</td>\n",
       "      <td>Corporate</td>\n",
       "      <td>United States</td>\n",
       "      <td>Los Angeles</td>\n",
       "      <td>...</td>\n",
       "      <td>90036</td>\n",
       "      <td>West</td>\n",
       "      <td>OFF-LA-10000240</td>\n",
       "      <td>Office Supplies</td>\n",
       "      <td>Labels</td>\n",
       "      <td>Self-Adhesive Address Labels for Typewriters b...</td>\n",
       "      <td>14.6200</td>\n",
       "      <td>2</td>\n",
       "      <td>0.00</td>\n",
       "      <td>6.8714</td>\n",
       "    </tr>\n",
       "    <tr>\n",
       "      <th>3</th>\n",
       "      <td>4</td>\n",
       "      <td>US-2015-108966</td>\n",
       "      <td>2015-10-11</td>\n",
       "      <td>2015-10-18</td>\n",
       "      <td>Standard Class</td>\n",
       "      <td>SO-20335</td>\n",
       "      <td>Sean O'Donnell</td>\n",
       "      <td>Consumer</td>\n",
       "      <td>United States</td>\n",
       "      <td>Fort Lauderdale</td>\n",
       "      <td>...</td>\n",
       "      <td>33311</td>\n",
       "      <td>South</td>\n",
       "      <td>FUR-TA-10000577</td>\n",
       "      <td>Furniture</td>\n",
       "      <td>Tables</td>\n",
       "      <td>Bretford CR4500 Series Slim Rectangular Table</td>\n",
       "      <td>957.5775</td>\n",
       "      <td>5</td>\n",
       "      <td>0.45</td>\n",
       "      <td>-383.0310</td>\n",
       "    </tr>\n",
       "    <tr>\n",
       "      <th>4</th>\n",
       "      <td>5</td>\n",
       "      <td>US-2015-108966</td>\n",
       "      <td>2015-10-11</td>\n",
       "      <td>2015-10-18</td>\n",
       "      <td>Standard Class</td>\n",
       "      <td>SO-20335</td>\n",
       "      <td>Sean O'Donnell</td>\n",
       "      <td>Consumer</td>\n",
       "      <td>United States</td>\n",
       "      <td>Fort Lauderdale</td>\n",
       "      <td>...</td>\n",
       "      <td>33311</td>\n",
       "      <td>South</td>\n",
       "      <td>OFF-ST-10000760</td>\n",
       "      <td>Office Supplies</td>\n",
       "      <td>Storage</td>\n",
       "      <td>Eldon Fold 'N Roll Cart System</td>\n",
       "      <td>22.3680</td>\n",
       "      <td>2</td>\n",
       "      <td>0.20</td>\n",
       "      <td>2.5164</td>\n",
       "    </tr>\n",
       "  </tbody>\n",
       "</table>\n",
       "<p>5 rows × 21 columns</p>\n",
       "</div>"
      ],
      "text/plain": [
       "   Row ID        Order ID Order Date  Ship Date       Ship Mode Customer ID  \\\n",
       "0       1  CA-2016-152156 2016-11-08 2016-11-11    Second Class    CG-12520   \n",
       "1       2  CA-2016-152156 2016-11-08 2016-11-11    Second Class    CG-12520   \n",
       "2       3  CA-2016-138688 2016-06-12 2016-06-16    Second Class    DV-13045   \n",
       "3       4  US-2015-108966 2015-10-11 2015-10-18  Standard Class    SO-20335   \n",
       "4       5  US-2015-108966 2015-10-11 2015-10-18  Standard Class    SO-20335   \n",
       "\n",
       "     Customer Name    Segment        Country             City  ...  \\\n",
       "0      Claire Gute   Consumer  United States        Henderson  ...   \n",
       "1      Claire Gute   Consumer  United States        Henderson  ...   \n",
       "2  Darrin Van Huff  Corporate  United States      Los Angeles  ...   \n",
       "3   Sean O'Donnell   Consumer  United States  Fort Lauderdale  ...   \n",
       "4   Sean O'Donnell   Consumer  United States  Fort Lauderdale  ...   \n",
       "\n",
       "  Postal Code  Region       Product ID         Category Sub-Category  \\\n",
       "0       42420   South  FUR-BO-10001798        Furniture    Bookcases   \n",
       "1       42420   South  FUR-CH-10000454        Furniture       Chairs   \n",
       "2       90036    West  OFF-LA-10000240  Office Supplies       Labels   \n",
       "3       33311   South  FUR-TA-10000577        Furniture       Tables   \n",
       "4       33311   South  OFF-ST-10000760  Office Supplies      Storage   \n",
       "\n",
       "                                        Product Name     Sales  Quantity  \\\n",
       "0                  Bush Somerset Collection Bookcase  261.9600         2   \n",
       "1  Hon Deluxe Fabric Upholstered Stacking Chairs,...  731.9400         3   \n",
       "2  Self-Adhesive Address Labels for Typewriters b...   14.6200         2   \n",
       "3      Bretford CR4500 Series Slim Rectangular Table  957.5775         5   \n",
       "4                     Eldon Fold 'N Roll Cart System   22.3680         2   \n",
       "\n",
       "   Discount    Profit  \n",
       "0      0.00   41.9136  \n",
       "1      0.00  219.5820  \n",
       "2      0.00    6.8714  \n",
       "3      0.45 -383.0310  \n",
       "4      0.20    2.5164  \n",
       "\n",
       "[5 rows x 21 columns]"
      ]
     },
     "execution_count": 37,
     "metadata": {},
     "output_type": "execute_result"
    }
   ],
   "source": [
    "df = pd.read_excel(r\"C:\\Pandas\\Sample - Superstore.xls\")\n",
    "df.head()"
   ]
  },
  {
   "cell_type": "code",
   "execution_count": 3,
   "id": "738b409c",
   "metadata": {},
   "outputs": [
    {
     "name": "stdout",
     "output_type": "stream",
     "text": [
      "Total Orders: 5009\n"
     ]
    }
   ],
   "source": [
    "#Question 1: Find total number of orders in the dataset.\n",
    "\n",
    "total_orders = df['Order ID'].nunique()\n",
    "print(\"Total Orders:\",total_orders)\n"
   ]
  },
  {
   "cell_type": "code",
   "execution_count": 4,
   "id": "9b74687f",
   "metadata": {},
   "outputs": [
    {
     "name": "stdout",
     "output_type": "stream",
     "text": [
      "2014-01-03 00:00:00\n"
     ]
    }
   ],
   "source": [
    "#Question 2: Find the earliest order date.\n",
    "\n",
    "earliest_order_date = df['Order Date'].min()\n",
    "print(earliest_order_date)"
   ]
  },
  {
   "cell_type": "code",
   "execution_count": 5,
   "id": "d355e99d",
   "metadata": {},
   "outputs": [
    {
     "name": "stdout",
     "output_type": "stream",
     "text": [
      "2017-12-30 00:00:00\n"
     ]
    }
   ],
   "source": [
    "#Question 3: Find the latest order date.\n",
    "\n",
    "latest_order_date = df['Order Date'].max()\n",
    "print(latest_order_date)"
   ]
  },
  {
   "cell_type": "code",
   "execution_count": 6,
   "id": "34903142",
   "metadata": {},
   "outputs": [
    {
     "name": "stdout",
     "output_type": "stream",
     "text": [
      "793\n"
     ]
    }
   ],
   "source": [
    "#Question 4: Find the total number of unique customers.\n",
    "\n",
    "unique_customers = df['Customer ID'].nunique()\n",
    "print(unique_customers)\n"
   ]
  },
  {
   "cell_type": "code",
   "execution_count": 7,
   "id": "06c27a27",
   "metadata": {},
   "outputs": [
    {
     "name": "stdout",
     "output_type": "stream",
     "text": [
      "1862\n"
     ]
    }
   ],
   "source": [
    "#Question 5: Find the total number of unique products sold.\n",
    "\n",
    "unique_products = df['Product ID'].nunique()\n",
    "print(unique_products)"
   ]
  },
  {
   "cell_type": "code",
   "execution_count": 14,
   "id": "943312f8",
   "metadata": {},
   "outputs": [
    {
     "name": "stdout",
     "output_type": "stream",
     "text": [
      "3\n"
     ]
    }
   ],
   "source": [
    "#Question 6: Find the total number of unique categories.\n",
    "\n",
    "unique_categories = df['Category'].nunique()\n",
    "print(unique_categories)"
   ]
  },
  {
   "cell_type": "code",
   "execution_count": 15,
   "id": "f6d8fb5a",
   "metadata": {},
   "outputs": [
    {
     "name": "stdout",
     "output_type": "stream",
     "text": [
      "17\n"
     ]
    }
   ],
   "source": [
    "#Question 7: Find the total number of unique sub-categories\n",
    "\n",
    "unique_sub_categories = df['Sub-Category'].nunique()\n",
    "print(unique_sub_categories)\n"
   ]
  },
  {
   "cell_type": "code",
   "execution_count": 17,
   "id": "d98aa500",
   "metadata": {},
   "outputs": [
    {
     "name": "stdout",
     "output_type": "stream",
     "text": [
      "Region\n",
      "West       3203\n",
      "East       2848\n",
      "Central    2323\n",
      "South      1620\n",
      "Name: count, dtype: int64\n"
     ]
    }
   ],
   "source": [
    "#Question 8: Count number of orders in each region.\n",
    "\n",
    "region_wise_orders = df['Region'].value_counts()\n",
    "print(region_wise_orders)"
   ]
  },
  {
   "cell_type": "code",
   "execution_count": 18,
   "id": "4a498d44",
   "metadata": {},
   "outputs": [
    {
     "name": "stdout",
     "output_type": "stream",
     "text": [
      "State\n",
      "California              2001\n",
      "New York                1128\n",
      "Texas                    985\n",
      "Pennsylvania             587\n",
      "Washington               506\n",
      "Illinois                 492\n",
      "Ohio                     469\n",
      "Florida                  383\n",
      "Michigan                 255\n",
      "North Carolina           249\n",
      "Arizona                  224\n",
      "Virginia                 224\n",
      "Georgia                  184\n",
      "Tennessee                183\n",
      "Colorado                 182\n",
      "Indiana                  149\n",
      "Kentucky                 139\n",
      "Massachusetts            135\n",
      "New Jersey               130\n",
      "Oregon                   124\n",
      "Wisconsin                110\n",
      "Maryland                 105\n",
      "Delaware                  96\n",
      "Minnesota                 89\n",
      "Connecticut               82\n",
      "Missouri                  66\n",
      "Oklahoma                  66\n",
      "Alabama                   61\n",
      "Arkansas                  60\n",
      "Rhode Island              56\n",
      "Utah                      53\n",
      "Mississippi               53\n",
      "South Carolina            42\n",
      "Louisiana                 42\n",
      "Nevada                    39\n",
      "Nebraska                  38\n",
      "New Mexico                37\n",
      "Iowa                      30\n",
      "New Hampshire             27\n",
      "Kansas                    24\n",
      "Idaho                     21\n",
      "Montana                   15\n",
      "South Dakota              12\n",
      "Vermont                   11\n",
      "District of Columbia      10\n",
      "Maine                      8\n",
      "North Dakota               7\n",
      "West Virginia              4\n",
      "Wyoming                    1\n",
      "Name: count, dtype: int64\n"
     ]
    }
   ],
   "source": [
    "#Question 9: Count number of orders by state.\n",
    "\n",
    "orders_by_states = df['State'].value_counts()\n",
    "print(orders_by_states)"
   ]
  },
  {
   "cell_type": "code",
   "execution_count": 19,
   "id": "c7368387",
   "metadata": {},
   "outputs": [
    {
     "name": "stdout",
     "output_type": "stream",
     "text": [
      "City\n",
      "New York City    915\n",
      "Los Angeles      747\n",
      "Philadelphia     537\n",
      "San Francisco    510\n",
      "Seattle          428\n",
      "                ... \n",
      "Abilene            1\n",
      "Montebello         1\n",
      "Kissimmee          1\n",
      "Danbury            1\n",
      "Springdale         1\n",
      "Name: count, Length: 531, dtype: int64\n"
     ]
    }
   ],
   "source": [
    "#Question 10: Count number of orders by city.\n",
    "\n",
    "orders_by_city = df['City'].value_counts()\n",
    "print(orders_by_city)"
   ]
  },
  {
   "cell_type": "code",
   "execution_count": 22,
   "id": "7e27d464",
   "metadata": {},
   "outputs": [
    {
     "name": "stdout",
     "output_type": "stream",
     "text": [
      "Standard Class\n"
     ]
    }
   ],
   "source": [
    "#Question 11: Find the most common ship mode.\n",
    "\n",
    "most_common_ship_mode = df['Ship Mode'].value_counts().idxmax()\n",
    "print(most_common_ship_mode)"
   ]
  },
  {
   "cell_type": "code",
   "execution_count": 23,
   "id": "1b667d4d",
   "metadata": {},
   "outputs": [
    {
     "name": "stdout",
     "output_type": "stream",
     "text": [
      "Same Day\n"
     ]
    }
   ],
   "source": [
    "#Question 12: Find the least common ship mode.\n",
    "\n",
    "least_common_ship_mode = df['Ship Mode'].value_counts().idxmin()\n",
    "print(least_common_ship_mode)"
   ]
  },
  {
   "cell_type": "code",
   "execution_count": 26,
   "id": "f7ca1c1f",
   "metadata": {},
   "outputs": [
    {
     "name": "stdout",
     "output_type": "stream",
     "text": [
      "543\n"
     ]
    }
   ],
   "source": [
    "#Question 13: Count number of orders shipped with \"Same Day\" mode.\n",
    "\n",
    "orders_shipped_with_sameday = df[df['Ship Mode']== 'Same Day'].value_counts().sum()\n",
    "print(orders_shipped_with_sameday)"
   ]
  },
  {
   "cell_type": "code",
   "execution_count": 27,
   "id": "39c1dc80",
   "metadata": {},
   "outputs": [
    {
     "name": "stdout",
     "output_type": "stream",
     "text": [
      "1538\n"
     ]
    }
   ],
   "source": [
    "#Question 14: Count number of orders shipped with \"First Class\".\n",
    "\n",
    "orders_shipped_with_firstclass = df[df['Ship Mode']== 'First Class'].value_counts().sum()\n",
    "print(orders_shipped_with_firstclass)"
   ]
  },
  {
   "cell_type": "code",
   "execution_count": 28,
   "id": "80811559",
   "metadata": {},
   "outputs": [
    {
     "name": "stdout",
     "output_type": "stream",
     "text": [
      "1945\n"
     ]
    }
   ],
   "source": [
    "#Question 15: Count number of orders shipped with \"Second Class\".\n",
    "\n",
    "orders_shipped_with_secondclass = df[df['Ship Mode']== 'Second Class'].value_counts().sum()\n",
    "print(orders_shipped_with_secondclass)"
   ]
  },
  {
   "cell_type": "code",
   "execution_count": 29,
   "id": "f71e1dd4",
   "metadata": {},
   "outputs": [
    {
     "name": "stdout",
     "output_type": "stream",
     "text": [
      "5968\n"
     ]
    }
   ],
   "source": [
    "#Question 16: Count number of orders shipped with \"Standard Class\".\n",
    "\n",
    "orders_shipped_with_standardclass = df[df['Ship Mode']== 'Standard Class'].value_counts().sum()\n",
    "print(orders_shipped_with_standardclass)"
   ]
  },
  {
   "cell_type": "code",
   "execution_count": 35,
   "id": "886632b8",
   "metadata": {},
   "outputs": [
    {
     "name": "stdout",
     "output_type": "stream",
     "text": [
      "Order Date\n",
      "2017    3312\n",
      "2016    2587\n",
      "2015    2102\n",
      "2014    1993\n",
      "Name: count, dtype: int64\n"
     ]
    }
   ],
   "source": [
    "#Question 17: Find number of orders in each year.\n",
    "print(df['Order Date'].dt.year.value_counts())\n"
   ]
  },
  {
   "cell_type": "code",
   "execution_count": 36,
   "id": "299a3900",
   "metadata": {},
   "outputs": [
    {
     "name": "stdout",
     "output_type": "stream",
     "text": [
      "Order Date\n",
      "4    3698\n",
      "3    2799\n",
      "2    2120\n",
      "1    1377\n",
      "Name: count, dtype: int64\n"
     ]
    }
   ],
   "source": [
    "#Question 18: Find number of orders in each quarter.\n",
    "\n",
    "print(df['Order Date'].dt.quarter.value_counts())\n"
   ]
  },
  {
   "cell_type": "code",
   "execution_count": 38,
   "id": "2d76434d",
   "metadata": {},
   "outputs": [
    {
     "name": "stdout",
     "output_type": "stream",
     "text": [
      "Order Date\n",
      "1      381\n",
      "2      300\n",
      "3      696\n",
      "4      668\n",
      "5      735\n",
      "6      717\n",
      "7      710\n",
      "8      706\n",
      "9     1383\n",
      "10     819\n",
      "11    1471\n",
      "12    1408\n",
      "Name: count, dtype: int64\n"
     ]
    }
   ],
   "source": [
    "#Question 19: Find number of orders in each month.\n",
    "\n",
    "print(df['Order Date'].dt.month.value_counts().sort_index())\n"
   ]
  },
  {
   "cell_type": "code",
   "execution_count": 39,
   "id": "56492fb5",
   "metadata": {},
   "outputs": [
    {
     "name": "stdout",
     "output_type": "stream",
     "text": [
      "Order Date\n",
      "0    1871\n",
      "1    1106\n",
      "2     371\n",
      "3    1463\n",
      "4    1818\n",
      "5    1655\n",
      "6    1710\n",
      "Name: count, dtype: int64\n"
     ]
    }
   ],
   "source": [
    "#Question 20: Find number of orders in each weekday.\n",
    "\n",
    "print(df['Order Date'].dt.weekday.value_counts().sort_index())\n"
   ]
  },
  {
   "cell_type": "code",
   "execution_count": 40,
   "id": "6ec714ee",
   "metadata": {},
   "outputs": [
    {
     "name": "stdout",
     "output_type": "stream",
     "text": [
      "5196\n"
     ]
    }
   ],
   "source": [
    "#Question 21: Count orders with discount applied.\n",
    "\n",
    "orders_with_discount = df[df['Discount']>0].shape[0]\n",
    "print(orders_with_discount)"
   ]
  },
  {
   "cell_type": "code",
   "execution_count": 41,
   "id": "f41a1ef8",
   "metadata": {},
   "outputs": [
    {
     "name": "stdout",
     "output_type": "stream",
     "text": [
      "4798\n"
     ]
    }
   ],
   "source": [
    "#Question 22: Count orders without discount.\n",
    "\n",
    "orders_without_discount = df[df['Discount']==0].shape[0]\n",
    "print(orders_without_discount)"
   ]
  },
  {
   "cell_type": "code",
   "execution_count": 42,
   "id": "3894209b",
   "metadata": {},
   "outputs": [
    {
     "name": "stdout",
     "output_type": "stream",
     "text": [
      "4798\n"
     ]
    }
   ],
   "source": [
    "#Question 23: Count orders where discount = 0.\n",
    "\n",
    "orders_where_discount_zero = df[df['Discount']==0].shape[0]\n",
    "print(orders_where_discount_zero)\n",
    "\n"
   ]
  },
  {
   "cell_type": "code",
   "execution_count": 43,
   "id": "13f2a076",
   "metadata": {},
   "outputs": [
    {
     "name": "stdout",
     "output_type": "stream",
     "text": [
      "1393\n"
     ]
    }
   ],
   "source": [
    "#Question 24: Count orders where discount > 0.2.\n",
    "\n",
    "\n",
    "orders_where_discount_grt_20_prcnt = df[df['Discount']>0.2].shape[0]\n",
    "print(orders_where_discount_grt_20_prcnt)"
   ]
  },
  {
   "cell_type": "code",
   "execution_count": 44,
   "id": "9cfbf59a",
   "metadata": {},
   "outputs": [
    {
     "name": "stdout",
     "output_type": "stream",
     "text": [
      "66\n"
     ]
    }
   ],
   "source": [
    "#Question 25: Count orders where discount = 0.5.\n",
    "\n",
    "orders_where_discount_50prcnt = df[df['Discount']==0.5].shape[0]\n",
    "print(orders_where_discount_50prcnt)"
   ]
  },
  {
   "cell_type": "code",
   "execution_count": 45,
   "id": "89cfe61d",
   "metadata": {},
   "outputs": [
    {
     "name": "stdout",
     "output_type": "stream",
     "text": [
      "0.8\n"
     ]
    }
   ],
   "source": [
    "#Question 26: Find maximum discount given.\n",
    "\n",
    "maximum_discount = df['Discount'].max()\n",
    "print(maximum_discount)\n"
   ]
  },
  {
   "cell_type": "code",
   "execution_count": 46,
   "id": "4a8069aa",
   "metadata": {},
   "outputs": [
    {
     "name": "stdout",
     "output_type": "stream",
     "text": [
      "0.0\n"
     ]
    }
   ],
   "source": [
    "#Question 27: Find minimum discount given.\n",
    "\n",
    "minimum_discount = df['Discount'].min()\n",
    "print(minimum_discount)"
   ]
  },
  {
   "cell_type": "code",
   "execution_count": 47,
   "id": "413e0ace",
   "metadata": {},
   "outputs": [
    {
     "name": "stdout",
     "output_type": "stream",
     "text": [
      "1871\n"
     ]
    }
   ],
   "source": [
    "#Question 28: Count orders where profit < 0.\n",
    "\n",
    "orders_where_profit_less_0_prcnt = df[df['Profit']<0].shape[0]\n",
    "print(orders_where_profit_less_0_prcnt)\n"
   ]
  },
  {
   "cell_type": "code",
   "execution_count": 48,
   "id": "2e295112",
   "metadata": {},
   "outputs": [
    {
     "name": "stdout",
     "output_type": "stream",
     "text": [
      "65\n"
     ]
    }
   ],
   "source": [
    "#Question 29: Count orders where profit = 0.\n",
    "\n",
    "orders_where_profit_zero = df[df['Profit']==0].shape[0]\n",
    "print(orders_where_profit_zero)"
   ]
  },
  {
   "cell_type": "code",
   "execution_count": 49,
   "id": "37b4b529",
   "metadata": {},
   "outputs": [
    {
     "name": "stdout",
     "output_type": "stream",
     "text": [
      "890\n"
     ]
    }
   ],
   "source": [
    "#Question 30: Count orders where profit > 100.\n",
    "\n",
    "orders_where_profit_grt_100_prcnt = df[df['Profit']>100].shape[0]\n",
    "print(orders_where_profit_grt_100_prcnt)\n",
    "\n"
   ]
  },
  {
   "cell_type": "code",
   "execution_count": 50,
   "id": "e247fec3",
   "metadata": {},
   "outputs": [
    {
     "name": "stdout",
     "output_type": "stream",
     "text": [
      "468\n"
     ]
    }
   ],
   "source": [
    "#Question 31: Count orders where sales > 1000.\n",
    "\n",
    "orders_where_sales_grt_1000 = df[df['Sales']>1000].shape[0]\n",
    "print(orders_where_sales_grt_1000)\n",
    "\n"
   ]
  },
  {
   "cell_type": "code",
   "execution_count": 51,
   "id": "399349a5",
   "metadata": {},
   "outputs": [
    {
     "name": "stdout",
     "output_type": "stream",
     "text": [
      "37873\n"
     ]
    }
   ],
   "source": [
    "#Question 32: Find total quantity sold.\n",
    "\n",
    "total_quantity = df['Quantity'].sum()\n",
    "print(total_quantity)"
   ]
  },
  {
   "cell_type": "code",
   "execution_count": 52,
   "id": "32e23593",
   "metadata": {},
   "outputs": [
    {
     "name": "stdout",
     "output_type": "stream",
     "text": [
      "7.560990217608305\n"
     ]
    }
   ],
   "source": [
    "#Question 33: Find average quantity per order.\n",
    "\n",
    "avg_quantity_per_order = df.groupby('Order ID')['Quantity'].sum().mean()\n",
    "print(avg_quantity_per_order)\n"
   ]
  },
  {
   "cell_type": "code",
   "execution_count": 53,
   "id": "bdd84773",
   "metadata": {},
   "outputs": [
    {
     "name": "stdout",
     "output_type": "stream",
     "text": [
      "458.61466566180883\n"
     ]
    }
   ],
   "source": [
    "#Question 34: Find average sales per order.\n",
    "\n",
    "avg_sales_per_order = df.groupby('Order ID')['Sales'].sum().mean()\n",
    "print(avg_sales_per_order)\n"
   ]
  },
  {
   "cell_type": "code",
   "execution_count": 54,
   "id": "fc856f19",
   "metadata": {},
   "outputs": [
    {
     "name": "stdout",
     "output_type": "stream",
     "text": [
      "57.17648666400478\n"
     ]
    }
   ],
   "source": [
    "#Question 35: Find average profit per order.\n",
    "\n",
    "avg_profit_per_order = df.groupby('Order ID')['Profit'].sum().mean()\n",
    "print(avg_profit_per_order)\n"
   ]
  },
  {
   "cell_type": "code",
   "execution_count": 55,
   "id": "db9cfbe7",
   "metadata": {},
   "outputs": [
    {
     "name": "stdout",
     "output_type": "stream",
     "text": [
      "23661.228\n"
     ]
    }
   ],
   "source": [
    "#Question 36: Find maximum sales in a single order.\n",
    "\n",
    "max_sales_in_order = df.groupby('Order ID')['Sales'].sum().max()\n",
    "print( max_sales_in_order)\n"
   ]
  },
  {
   "cell_type": "code",
   "execution_count": 56,
   "id": "9c7067c7",
   "metadata": {},
   "outputs": [
    {
     "name": "stdout",
     "output_type": "stream",
     "text": [
      "0.5559999999999998\n"
     ]
    }
   ],
   "source": [
    "#Question 37: Find minimum sales in a single order.\n",
    "\n",
    "\n",
    "min_sales_in_order = df.groupby('Order ID')['Sales'].sum().min()\n",
    "print(min_sales_in_order)\n"
   ]
  },
  {
   "cell_type": "code",
   "execution_count": 58,
   "id": "bc8fa9be",
   "metadata": {},
   "outputs": [
    {
     "name": "stdout",
     "output_type": "stream",
     "text": [
      "8762.389099999999\n"
     ]
    }
   ],
   "source": [
    "#Question 38: Find maximum profit in a single order.\n",
    "\n",
    "max_profit_in_order = df.groupby('Order ID')['Profit'].sum().max()\n",
    "print(max_profit_in_order)"
   ]
  },
  {
   "cell_type": "code",
   "execution_count": 59,
   "id": "254932b6",
   "metadata": {},
   "outputs": [
    {
     "name": "stdout",
     "output_type": "stream",
     "text": [
      "-6892.3748000000005\n"
     ]
    }
   ],
   "source": [
    "#Question 39: Find minimum profit in a single order.\n",
    "\n",
    "\n",
    "min_profit_in_order = df.groupby('Order ID')['Profit'].sum().min()\n",
    "print(min_profit_in_order)"
   ]
  },
  {
   "cell_type": "code",
   "execution_count": 6,
   "id": "8fc3a9ca",
   "metadata": {},
   "outputs": [
    {
     "name": "stdout",
     "output_type": "stream",
     "text": [
      "Customer ID\n",
      "AA-10315     5\n",
      "AA-10375     9\n",
      "AA-10480     4\n",
      "AA-10645     6\n",
      "AB-10015     3\n",
      "            ..\n",
      "XP-21865    11\n",
      "YC-21895     5\n",
      "YS-21880     8\n",
      "ZC-21910    13\n",
      "ZD-21925     5\n",
      "Name: Order ID, Length: 793, dtype: int64\n"
     ]
    }
   ],
   "source": [
    "#Question 40: Find number of orders per customer.\n",
    "\n",
    "orders_per_customer = df.groupby('Customer ID')['Order ID'].nunique()\n",
    "print(orders_per_customer)\n"
   ]
  },
  {
   "cell_type": "code",
   "execution_count": 61,
   "id": "193658c7",
   "metadata": {},
   "outputs": [
    {
     "name": "stdout",
     "output_type": "stream",
     "text": [
      "Customer ID\n",
      "AO-10810    1\n",
      "AR-10570    1\n",
      "CJ-11875    1\n",
      "JC-15385    1\n",
      "JR-15700    1\n",
      "LD-16855    1\n",
      "MG-18205    1\n",
      "PH-18790    1\n",
      "RE-19405    1\n",
      "RM-19750    1\n",
      "SM-20905    1\n",
      "TC-21145    1\n",
      "Name: Order ID, dtype: int64\n"
     ]
    }
   ],
   "source": [
    "#Question 41: Find customers who placed only 1 order.\n",
    "\n",
    "customers_with_one_order = orders_per_customer[orders_per_customer == 1]\n",
    "print(customers_with_one_order)"
   ]
  },
  {
   "cell_type": "code",
   "execution_count": 64,
   "id": "600b958a",
   "metadata": {},
   "outputs": [
    {
     "name": "stdout",
     "output_type": "stream",
     "text": [
      "Customer ID\n",
      "AH-10690    12\n",
      "BD-11320    12\n",
      "BF-11170    11\n",
      "BM-11650    11\n",
      "BP-11095    12\n",
      "CC-12220    12\n",
      "CK-12205    13\n",
      "CK-12595    11\n",
      "CL-12565    12\n",
      "CS-11950    11\n",
      "CS-12250    12\n",
      "CS-12355    11\n",
      "DK-12835    12\n",
      "Dp-13240    11\n",
      "EA-14035    13\n",
      "EH-13765    12\n",
      "EP-13915    17\n",
      "GA-14725    11\n",
      "GB-14530    11\n",
      "GT-14710    11\n",
      "HG-14965    12\n",
      "JD-15895    11\n",
      "JE-15745    13\n",
      "JF-15490    11\n",
      "JG-15160    11\n",
      "JL-15835    11\n",
      "KB-16585    12\n",
      "KD-16495    12\n",
      "KL-16645    12\n",
      "LA-16780    11\n",
      "LC-16885    12\n",
      "MA-17560    11\n",
      "MM-17920    11\n",
      "MY-18295    11\n",
      "NS-18640    13\n",
      "PG-18820    13\n",
      "PK-19075    12\n",
      "PO-18850    11\n",
      "RB-19465    12\n",
      "RP-19390    12\n",
      "SC-20725    11\n",
      "SE-20110    11\n",
      "SH-19975    13\n",
      "SJ-20125    12\n",
      "SM-20950    12\n",
      "SZ-20035    11\n",
      "WB-21850    11\n",
      "XP-21865    11\n",
      "ZC-21910    13\n",
      "Name: Order ID, dtype: int64\n"
     ]
    }
   ],
   "source": [
    "#Question 42: Find customers who placed more than 10 orders.\n",
    "\n",
    "customers_with_grt_10_order = orders_per_customer[orders_per_customer >10]\n",
    "print(customers_with_grt_10_order)\n"
   ]
  },
  {
   "cell_type": "code",
   "execution_count": 65,
   "id": "0dfb442d",
   "metadata": {},
   "outputs": [
    {
     "name": "stdout",
     "output_type": "stream",
     "text": [
      "49\n"
     ]
    }
   ],
   "source": [
    "#Question 43: Find total number of states represented.\n",
    "\n",
    "total_states = df['State'].nunique()\n",
    "print(total_states)\n"
   ]
  },
  {
   "cell_type": "code",
   "execution_count": null,
   "id": "3f488a80",
   "metadata": {},
   "outputs": [
    {
     "name": "stdout",
     "output_type": "stream",
     "text": [
      "531\n"
     ]
    }
   ],
   "source": [
    "#Question 44: Find total number of cities represented.\n",
    "\n",
    "\n",
    "total_cities = df['City'].nunique() \n",
    "print(total_cities)"
   ]
  },
  {
   "cell_type": "code",
   "execution_count": 67,
   "id": "0aec6730",
   "metadata": {},
   "outputs": [
    {
     "name": "stdout",
     "output_type": "stream",
     "text": [
      "2001\n"
     ]
    }
   ],
   "source": [
    "#Question 45: Find number of orders placed from California.\n",
    "\n",
    "orders_from_california = df[df['State'] == 'California'].shape[0]\n",
    "print(orders_from_california)\n"
   ]
  },
  {
   "cell_type": "code",
   "execution_count": 68,
   "id": "1f6cdffb",
   "metadata": {},
   "outputs": [
    {
     "name": "stdout",
     "output_type": "stream",
     "text": [
      "1128\n"
     ]
    }
   ],
   "source": [
    "#Question 46: Find number of orders placed from New York.\n",
    "\n",
    "orders_from_newyork = df[df['State'] == 'New York'].shape[0]\n",
    "print(orders_from_newyork)"
   ]
  },
  {
   "cell_type": "code",
   "execution_count": 69,
   "id": "1bf79f9b",
   "metadata": {},
   "outputs": [
    {
     "name": "stdout",
     "output_type": "stream",
     "text": [
      "985\n"
     ]
    }
   ],
   "source": [
    "#Question 47: Find number of orders placed from Texas.\n",
    "\n",
    "orders_from_texas = df[df['State'] == 'Texas'].shape[0]\n",
    "print(orders_from_texas)\n"
   ]
  },
  {
   "cell_type": "code",
   "execution_count": 70,
   "id": "ee8acefe",
   "metadata": {},
   "outputs": [
    {
     "name": "stdout",
     "output_type": "stream",
     "text": [
      "383\n"
     ]
    }
   ],
   "source": [
    "#Question 48: Find number of orders placed from Florida.\n",
    "\n",
    "orders_from_florida = df[df['State'] == 'Florida'].shape[0]\n",
    "print(orders_from_florida)"
   ]
  },
  {
   "cell_type": "code",
   "execution_count": null,
   "id": "ab2b7233",
   "metadata": {},
   "outputs": [
    {
     "name": "stdout",
     "output_type": "stream",
     "text": [
      "904\n"
     ]
    }
   ],
   "source": [
    "#Question 49: Find number of orders shipped after 5 days of order.\n",
    "\n",
    "# Ensure datetime columns\n",
    "df['Order Date'] = pd.to_datetime(df['Order Date'])\n",
    "df['Ship Date'] = pd.to_datetime(df['Ship Date'])\n",
    "\n",
    "# Calculate shipping duration\n",
    "df['Shipping_Days'] = (df['Ship Date'] - df['Order Date']).dt.days\n",
    "\n",
    "# Count orders shipped after 5 days\n",
    "orders_after_5_days = df[df['Shipping_Days'] > 5]['Order ID'].nunique()  #each order is counted only once.\n",
    "print(orders_after_5_days)\n"
   ]
  },
  {
   "cell_type": "code",
   "execution_count": 74,
   "id": "5ab373b2",
   "metadata": {},
   "outputs": [
    {
     "name": "stdout",
     "output_type": "stream",
     "text": [
      "3.958174904942966\n"
     ]
    }
   ],
   "source": [
    "#Question 50: Find average shipping time in days.\n",
    "\n",
    "# Ensure datetime columns\n",
    "df['Order Date'] = pd.to_datetime(df['Order Date'])\n",
    "df['Ship Date'] = pd.to_datetime(df['Ship Date'])\n",
    "\n",
    "# Calculate shipping duration\n",
    "df['Shipping_Days'] = (df['Ship Date'] - df['Order Date']).dt.days\n",
    "\n",
    "avg_shipping_time_in_days = df['Shipping_Days'].mean()\n",
    "print(avg_shipping_time_in_days)"
   ]
  },
  {
   "cell_type": "markdown",
   "id": "cd8a4d8a",
   "metadata": {},
   "source": [
    "#Sales & Profit Analysis (Questions 51-100)"
   ]
  },
  {
   "cell_type": "code",
   "execution_count": 75,
   "id": "42bfd455",
   "metadata": {},
   "outputs": [
    {
     "name": "stdout",
     "output_type": "stream",
     "text": [
      "2297200.8603\n"
     ]
    }
   ],
   "source": [
    "#Question 51: Find total sales.\n",
    "\n",
    "total_sales = df['Sales'].sum()\n",
    "print(total_sales)\n"
   ]
  },
  {
   "cell_type": "code",
   "execution_count": 76,
   "id": "61d2e24f",
   "metadata": {},
   "outputs": [
    {
     "name": "stdout",
     "output_type": "stream",
     "text": [
      "286397.0216999999\n"
     ]
    }
   ],
   "source": [
    "#Question 52: Find total profit.\n",
    "\n",
    "total_profit = df['Profit'].sum()\n",
    "print(total_profit)"
   ]
  },
  {
   "cell_type": "code",
   "execution_count": 77,
   "id": "c0f6b579",
   "metadata": {},
   "outputs": [
    {
     "name": "stdout",
     "output_type": "stream",
     "text": [
      "458.61466566180883\n"
     ]
    }
   ],
   "source": [
    "#Question 53: Find average sales per order.\n",
    "\n",
    "avg_sales_per_order = df.groupby('Order ID')['Sales'].sum().mean()\n",
    "print(avg_sales_per_order)"
   ]
  },
  {
   "cell_type": "code",
   "execution_count": 78,
   "id": "ea07762f",
   "metadata": {},
   "outputs": [
    {
     "name": "stdout",
     "output_type": "stream",
     "text": [
      "57.17648666400478\n"
     ]
    }
   ],
   "source": [
    "#Question 54: Find average profit per order.\n",
    "\n",
    "avg_profit_per_order = df.groupby('Order ID')['Profit'].sum().mean()\n",
    "print(avg_profit_per_order)"
   ]
  },
  {
   "cell_type": "code",
   "execution_count": 79,
   "id": "9f37f370",
   "metadata": {},
   "outputs": [
    {
     "name": "stdout",
     "output_type": "stream",
     "text": [
      "Category\n",
      "Furniture          741999.7953\n",
      "Office Supplies    719047.0320\n",
      "Technology         836154.0330\n",
      "Name: Sales, dtype: float64\n"
     ]
    }
   ],
   "source": [
    "#Question 55: Find sales by category.\n",
    "\n",
    "sales_by_category = df.groupby('Category')['Sales'].sum()\n",
    "print(sales_by_category)\n"
   ]
  },
  {
   "cell_type": "code",
   "execution_count": 80,
   "id": "ea95a87e",
   "metadata": {},
   "outputs": [
    {
     "name": "stdout",
     "output_type": "stream",
     "text": [
      "Category\n",
      "Furniture           18451.2728\n",
      "Office Supplies    122490.8008\n",
      "Technology         145454.9481\n",
      "Name: Profit, dtype: float64\n"
     ]
    }
   ],
   "source": [
    "#Question 56: Find profit by category.\n",
    "\n",
    "profit_by_category = df.groupby('Category')['Profit'].sum()\n",
    "print(profit_by_category)"
   ]
  },
  {
   "cell_type": "code",
   "execution_count": 81,
   "id": "53b914f5",
   "metadata": {},
   "outputs": [
    {
     "name": "stdout",
     "output_type": "stream",
     "text": [
      "Sub-Category\n",
      "Accessories    167380.3180\n",
      "Appliances     107532.1610\n",
      "Art             27118.7920\n",
      "Binders        203412.7330\n",
      "Bookcases      114879.9963\n",
      "Chairs         328449.1030\n",
      "Copiers        149528.0300\n",
      "Envelopes       16476.4020\n",
      "Fasteners        3024.2800\n",
      "Furnishings     91705.1640\n",
      "Labels          12486.3120\n",
      "Machines       189238.6310\n",
      "Paper           78479.2060\n",
      "Phones         330007.0540\n",
      "Storage        223843.6080\n",
      "Supplies        46673.5380\n",
      "Tables         206965.5320\n",
      "Name: Sales, dtype: float64\n"
     ]
    }
   ],
   "source": [
    "#Question 57: Find sales by sub-category.\n",
    "\n",
    "sales_by_sub_category = df.groupby('Sub-Category')['Sales'].sum()\n",
    "print(sales_by_sub_category)"
   ]
  },
  {
   "cell_type": "code",
   "execution_count": 83,
   "id": "d9f21dd2",
   "metadata": {},
   "outputs": [
    {
     "name": "stdout",
     "output_type": "stream",
     "text": [
      "Sub-Category\n",
      "Accessories    41936.6357\n",
      "Appliances     18138.0054\n",
      "Art             6527.7870\n",
      "Binders        30221.7633\n",
      "Bookcases      -3472.5560\n",
      "Chairs         26590.1663\n",
      "Copiers        55617.8249\n",
      "Envelopes       6964.1767\n",
      "Fasteners        949.5182\n",
      "Furnishings    13059.1436\n",
      "Labels          5546.2540\n",
      "Machines        3384.7569\n",
      "Paper          34053.5693\n",
      "Phones         44515.7306\n",
      "Storage        21278.8264\n",
      "Supplies       -1189.0995\n",
      "Tables        -17725.4811\n",
      "Name: Profit, dtype: float64\n"
     ]
    }
   ],
   "source": [
    "#Question 58: Find profit by sub-category.\n",
    "\n",
    "profit_by_sub_category = df.groupby('Sub-Category')['Profit'].sum()\n",
    "print(profit_by_sub_category)"
   ]
  },
  {
   "cell_type": "code",
   "execution_count": 86,
   "id": "6d359f52",
   "metadata": {},
   "outputs": [
    {
     "name": "stdout",
     "output_type": "stream",
     "text": [
      "Technology\n"
     ]
    }
   ],
   "source": [
    "#Question 59: Find highest sales category.\n",
    "\n",
    "highest_sales_category = df.groupby('Category')['Sales'].sum().idxmax()\n",
    "print(highest_sales_category)"
   ]
  },
  {
   "cell_type": "code",
   "execution_count": 87,
   "id": "529e6a73",
   "metadata": {},
   "outputs": [
    {
     "name": "stdout",
     "output_type": "stream",
     "text": [
      "Technology\n"
     ]
    }
   ],
   "source": [
    "#Question 60: Find highest profit category.\n",
    "\n",
    "highest_profit_category = df.groupby('Category')['Profit'].sum().idxmax()\n",
    "print(highest_profit_category)"
   ]
  },
  {
   "cell_type": "code",
   "execution_count": null,
   "id": "fe38adfe",
   "metadata": {},
   "outputs": [
    {
     "name": "stdout",
     "output_type": "stream",
     "text": [
      "Furniture\n"
     ]
    }
   ],
   "source": [
    "#Question 61: Find lowest profit category.\n",
    "\n",
    "lowest_profit_category = df.groupby('Category')['Profit'].sum().idxmin()\n",
    "print(lowest_profit_category)"
   ]
  },
  {
   "cell_type": "code",
   "execution_count": 89,
   "id": "a25010c8",
   "metadata": {},
   "outputs": [
    {
     "name": "stdout",
     "output_type": "stream",
     "text": [
      "Fasteners\n"
     ]
    }
   ],
   "source": [
    "#Question 62: Find lowest sales sub-category.\n",
    "\n",
    "lowest_sales_sub_category = df.groupby('Sub-Category')['Sales'].sum().idxmin()\n",
    "print(lowest_sales_sub_category)"
   ]
  },
  {
   "cell_type": "code",
   "execution_count": 90,
   "id": "1eabc5ad",
   "metadata": {},
   "outputs": [
    {
     "name": "stdout",
     "output_type": "stream",
     "text": [
      "Copiers\n"
     ]
    }
   ],
   "source": [
    "#Question 63: Find highest profit sub-category.\n",
    "\n",
    "highest_profit_sub_category = df.groupby('Sub-Category')['Profit'].sum().idxmax()\n",
    "print(highest_profit_sub_category)"
   ]
  },
  {
   "cell_type": "code",
   "execution_count": null,
   "id": "ce3b74a3",
   "metadata": {},
   "outputs": [
    {
     "name": "stdout",
     "output_type": "stream",
     "text": [
      "Tables\n"
     ]
    }
   ],
   "source": [
    "#Question 64: Find lowest profit sub-category.\n",
    "\n",
    "lowest_profit_sub_category = df.groupby('Sub-Category')['Profit'].sum().idxmin()\n",
    "print(lowest_profit_sub_category)"
   ]
  },
  {
   "cell_type": "code",
   "execution_count": 92,
   "id": "eb79931b",
   "metadata": {},
   "outputs": [
    {
     "name": "stdout",
     "output_type": "stream",
     "text": [
      "Product Name\n",
      "Canon imageCLASS 2200 Advanced Copier                                          25199.9280\n",
      "Fellowes PB500 Electric Punch Plastic Comb Binding Machine with Manual Bind     7753.0390\n",
      "Hewlett Packard LaserJet 3310 Copier                                            6983.8836\n",
      "Canon PC1060 Personal Laser Copier                                              4570.9347\n",
      "HP Designjet T520 Inkjet Large Format Printer - 24\" Color                       4094.9766\n",
      "Ativa V4110MDD Micro-Cut Shredder                                               3772.9461\n",
      "3D Systems Cube Printer, 2nd Generation, Magenta                                3717.9714\n",
      "Plantronics Savi W720 Multi-Device Wireless Headset System                      3696.2820\n",
      "Ibico EPK-21 Electric Binding System                                            3345.2823\n",
      "Zebra ZM400 Thermal Label Printer                                               3343.5360\n",
      "Name: Profit, dtype: float64\n"
     ]
    }
   ],
   "source": [
    "#Question 65: Find top 10 profitable products.\n",
    "top_10_profitable_products = df.groupby('Product Name')['Profit'].sum().nlargest(10)\n",
    "print(top_10_profitable_products)"
   ]
  },
  {
   "cell_type": "code",
   "execution_count": 93,
   "id": "7dc1886c",
   "metadata": {},
   "outputs": [
    {
     "name": "stdout",
     "output_type": "stream",
     "text": [
      "Product Name\n",
      "Cubify CubeX 3D Printer Double Head Print                           -8879.9704\n",
      "Lexmark MX611dhe Monochrome Laser Printer                           -4589.9730\n",
      "Cubify CubeX 3D Printer Triple Head Print                           -3839.9904\n",
      "Chromcraft Bull-Nose Wood Oval Conference Tables & Bases            -2876.1156\n",
      "Bush Advantage Collection Racetrack Conference Table                -1934.3976\n",
      "GBC DocuBind P400 Electric Binding System                           -1878.1662\n",
      "Cisco TelePresence System EX90 Videoconferencing Unit               -1811.0784\n",
      "Martin Yale Chadless Opener Electric Letter Opener                  -1299.1836\n",
      "Balt Solid Wood Round Tables                                        -1201.0581\n",
      "BoxOffice By Design Rectangular and Half-Moon Meeting Room Tables   -1148.4375\n",
      "Name: Profit, dtype: float64\n"
     ]
    }
   ],
   "source": [
    "#Question 66: Find top 10 least profitable products.\n",
    "\n",
    "top_10_least_profitable_products = df.groupby('Product Name')['Profit'].sum().nsmallest(10)\n",
    "print(top_10_least_profitable_products)"
   ]
  },
  {
   "cell_type": "code",
   "execution_count": 94,
   "id": "53421495",
   "metadata": {},
   "outputs": [
    {
     "name": "stdout",
     "output_type": "stream",
     "text": [
      "Product Name\n",
      "Canon imageCLASS 2200 Advanced Copier                                          61599.824\n",
      "Fellowes PB500 Electric Punch Plastic Comb Binding Machine with Manual Bind    27453.384\n",
      "Cisco TelePresence System EX90 Videoconferencing Unit                          22638.480\n",
      "HON 5400 Series Task Chairs for Big and Tall                                   21870.576\n",
      "GBC DocuBind TL300 Electric Binding System                                     19823.479\n",
      "GBC Ibimaster 500 Manual ProClick Binding System                               19024.500\n",
      "Hewlett Packard LaserJet 3310 Copier                                           18839.686\n",
      "HP Designjet T520 Inkjet Large Format Printer - 24\" Color                      18374.895\n",
      "GBC DocuBind P400 Electric Binding System                                      17965.068\n",
      "High Speed Automatic Electric Letter Opener                                    17030.312\n",
      "Name: Sales, dtype: float64\n"
     ]
    }
   ],
   "source": [
    "#Question 67: Find top 10 best-selling products by sales.\n",
    "\n",
    "top_10_selling_products_by_sales = df.groupby('Product Name')['Sales'].sum().nlargest(10)\n",
    "print(top_10_selling_products_by_sales)"
   ]
  },
  {
   "cell_type": "code",
   "execution_count": 95,
   "id": "05d830d0",
   "metadata": {},
   "outputs": [
    {
     "name": "stdout",
     "output_type": "stream",
     "text": [
      "Product Name\n",
      "Staples                                                       215\n",
      "Staple envelope                                               170\n",
      "Easy-staple paper                                             150\n",
      "Staples in misc. colors                                        86\n",
      "KI Adjustable-Height Table                                     74\n",
      "Avery Non-Stick Binders                                        71\n",
      "Storex Dura Pro Binders                                        71\n",
      "GBC Premium Transparent Covers with Diagonal Lined Pattern     67\n",
      "Situations Contoured Folding Chairs, 4/Set                     64\n",
      "Staple-based wall hangings                                     62\n",
      "Name: Quantity, dtype: int64\n"
     ]
    }
   ],
   "source": [
    "#Question 68: Find top 10 best-selling products by quantity.\n",
    "\n",
    "top_10_selling_products_by_quantity = df.groupby('Product Name')['Quantity'].sum().nlargest(10)\n",
    "print(top_10_selling_products_by_quantity)"
   ]
  },
  {
   "cell_type": "code",
   "execution_count": 96,
   "id": "ca6c1a4e",
   "metadata": {},
   "outputs": [
    {
     "name": "stdout",
     "output_type": "stream",
     "text": [
      "Product Name\n",
      "Eureka Disposable Bags for Sanitaire Vibra Groomer I Upright Vac    1.624\n",
      "Avery 5                                                             5.760\n",
      "Xerox 20                                                            6.480\n",
      "Grip Seal Envelopes                                                 7.072\n",
      "Avery Hi-Liter Pen Style Six-Color Fluorescent Set                  7.700\n",
      "Avery Hi-Liter Comfort Grip Fluorescent Highlighter, Yellow Ink     7.800\n",
      "Xerox 1989                                                          7.968\n",
      "4009 Highlighters                                                   8.040\n",
      "Stockwell Gold Paper Clips                                          8.096\n",
      "Newell 308                                                          8.400\n",
      "Name: Sales, dtype: float64\n"
     ]
    }
   ],
   "source": [
    "#Question 69: Find bottom 10 products by sales.\n",
    "\n",
    "bottom_10_selling_products_by_sales = df.groupby('Product Name')['Sales'].sum().nsmallest(10)\n",
    "print(bottom_10_selling_products_by_sales)"
   ]
  },
  {
   "cell_type": "code",
   "execution_count": 97,
   "id": "b9c97863",
   "metadata": {},
   "outputs": [
    {
     "name": "stdout",
     "output_type": "stream",
     "text": [
      "Product Name\n",
      "Cubify CubeX 3D Printer Double Head Print                           -8879.9704\n",
      "Lexmark MX611dhe Monochrome Laser Printer                           -4589.9730\n",
      "Cubify CubeX 3D Printer Triple Head Print                           -3839.9904\n",
      "Chromcraft Bull-Nose Wood Oval Conference Tables & Bases            -2876.1156\n",
      "Bush Advantage Collection Racetrack Conference Table                -1934.3976\n",
      "GBC DocuBind P400 Electric Binding System                           -1878.1662\n",
      "Cisco TelePresence System EX90 Videoconferencing Unit               -1811.0784\n",
      "Martin Yale Chadless Opener Electric Letter Opener                  -1299.1836\n",
      "Balt Solid Wood Round Tables                                        -1201.0581\n",
      "BoxOffice By Design Rectangular and Half-Moon Meeting Room Tables   -1148.4375\n",
      "Name: Profit, dtype: float64\n"
     ]
    }
   ],
   "source": [
    "#Question 70: Find bottom 10 products by profit.\n",
    "\n",
    "bottom_10_selling_products_by_profit = df.groupby('Product Name')['Profit'].sum().nsmallest(10)\n",
    "print(bottom_10_selling_products_by_profit)\n"
   ]
  },
  {
   "cell_type": "code",
   "execution_count": null,
   "id": "6e3b7497",
   "metadata": {},
   "outputs": [
    {
     "name": "stdout",
     "output_type": "stream",
     "text": [
      "Order Date\n",
      "2014    484247.4981\n",
      "2015    470532.5090\n",
      "2016    609205.5980\n",
      "2017    733215.2552\n",
      "Name: Sales, dtype: float64\n"
     ]
    }
   ],
   "source": [
    "#Question 71: Find total sales by year.\n",
    "\n",
    "df['Order Date'] = pd.to_datetime(df['Order Date'])\n",
    "sales_by_year = df.groupby(df['Order Date'].dt.year)['Sales'].sum()\n",
    "print(sales_by_year)\n"
   ]
  },
  {
   "cell_type": "code",
   "execution_count": null,
   "id": "f532dbf4",
   "metadata": {},
   "outputs": [
    {
     "name": "stdout",
     "output_type": "stream",
     "text": [
      "Order Date\n",
      "2014    49543.9741\n",
      "2015    61618.6037\n",
      "2016    81795.1743\n",
      "2017    93439.2696\n",
      "Name: Profit, dtype: float64\n"
     ]
    }
   ],
   "source": [
    "#Question 72: Find total profit by year.\n",
    "\n",
    "df['Order Date'] = pd.to_datetime(df['Order Date'])\n",
    "profit_by_year = df.groupby(df['Order Date'].dt.year)['Profit'].sum()\n",
    "print(profit_by_year)"
   ]
  },
  {
   "cell_type": "code",
   "execution_count": 101,
   "id": "cd8d02a8",
   "metadata": {},
   "outputs": [
    {
     "name": "stdout",
     "output_type": "stream",
     "text": [
      "Sales By Year: Order Date\n",
      "2014    484247.4981\n",
      "2015    470532.5090\n",
      "2016    609205.5980\n",
      "2017    733215.2552\n",
      "Name: Sales, dtype: float64\n",
      "\n",
      "Sales Growth: Order Date\n",
      "2014          NaN\n",
      "2015    -2.832227\n",
      "2016    29.471521\n",
      "2017    20.355962\n",
      "Name: Sales, dtype: float64\n"
     ]
    }
   ],
   "source": [
    "#Question 73: Find sales growth year by year.\n",
    "\n",
    "df['Order Date'] = pd.to_datetime(df['Order Date'])\n",
    "sales_by_year = df.groupby(df['Order Date'].dt.year)['Sales'].sum().sort_index()\n",
    "sales_growth = sales_by_year.pct_change() * 100\n",
    "print(\"Sales By Year:\",sales_by_year)\n",
    "print(\"\\nSales Growth:\",sales_growth)\n"
   ]
  },
  {
   "cell_type": "code",
   "execution_count": 102,
   "id": "522aa06e",
   "metadata": {},
   "outputs": [
    {
     "name": "stdout",
     "output_type": "stream",
     "text": [
      "Profit By Year: Order Date\n",
      "2014    49543.9741\n",
      "2015    61618.6037\n",
      "2016    81795.1743\n",
      "2017    93439.2696\n",
      "Name: Profit, dtype: float64\n",
      "\n",
      "Profit Growth: Order Date\n",
      "2014          NaN\n",
      "2015    24.371540\n",
      "2016    32.744284\n",
      "2017    14.235675\n",
      "Name: Profit, dtype: float64\n"
     ]
    }
   ],
   "source": [
    "#Question 74: Find profit growth year by year.\n",
    "\n",
    "df['Order Date'] = pd.to_datetime(df['Order Date'])\n",
    "profit_by_year = df.groupby(df['Order Date'].dt.year)['Profit'].sum()\n",
    "profit_growth = profit_by_year.pct_change()*100\n",
    "print(\"Profit By Year:\",profit_by_year)\n",
    "print(\"\\nProfit Growth:\",profit_growth)"
   ]
  },
  {
   "cell_type": "code",
   "execution_count": 103,
   "id": "24621a84",
   "metadata": {},
   "outputs": [
    {
     "name": "stdout",
     "output_type": "stream",
     "text": [
      "Order Date\n",
      "1    359681.5758\n",
      "2    445509.6196\n",
      "3    613932.1057\n",
      "4    878077.5592\n",
      "Name: Sales, dtype: float64\n"
     ]
    }
   ],
   "source": [
    "#Question 75: Find sales by quarter.\n",
    "\n",
    "df['Order Date'] = pd.to_datetime(df['Order Date'])\n",
    "sales_by_quarter = df.groupby(df['Order Date'].dt.quarter)['Sales'].sum()\n",
    "print(sales_by_quarter)"
   ]
  },
  {
   "cell_type": "code",
   "execution_count": 104,
   "id": "a3927460",
   "metadata": {},
   "outputs": [
    {
     "name": "stdout",
     "output_type": "stream",
     "text": [
      "Order Date\n",
      "1     48023.7440\n",
      "2     55284.5395\n",
      "3     72467.0785\n",
      "4    110621.6597\n",
      "Name: Profit, dtype: float64\n"
     ]
    }
   ],
   "source": [
    "#Question 76: Find profit by quarter.\n",
    "\n",
    "df['Order Date'] = pd.to_datetime(df['Order Date'])\n",
    "profit_by_quarter = df.groupby(df['Order Date'].dt.quarter)['Profit'].sum()\n",
    "print(profit_by_quarter)"
   ]
  },
  {
   "cell_type": "code",
   "execution_count": 105,
   "id": "f8d9b1bf",
   "metadata": {},
   "outputs": [
    {
     "name": "stdout",
     "output_type": "stream",
     "text": [
      "Order Date\n",
      "1      94924.8356\n",
      "2      59751.2514\n",
      "3     205005.4888\n",
      "4     137762.1286\n",
      "5     155028.8117\n",
      "6     152718.6793\n",
      "7     147238.0970\n",
      "8     159044.0630\n",
      "9     307649.9457\n",
      "10    200322.9847\n",
      "11    352461.0710\n",
      "12    325293.5035\n",
      "Name: Sales, dtype: float64\n"
     ]
    }
   ],
   "source": [
    "#Question 77: Find sales by month.\n",
    "\n",
    "df['Order Date'] = pd.to_datetime(df['Order Date'])\n",
    "sales_by_month = df.groupby(df['Order Date'].dt.month)['Sales'].sum()\n",
    "print(sales_by_month)"
   ]
  },
  {
   "cell_type": "code",
   "execution_count": 106,
   "id": "58bd31a9",
   "metadata": {},
   "outputs": [
    {
     "name": "stdout",
     "output_type": "stream",
     "text": [
      "Order Date\n",
      "1      9134.4461\n",
      "2     10294.6107\n",
      "3     28594.6872\n",
      "4     11587.4363\n",
      "5     22411.3078\n",
      "6     21285.7954\n",
      "7     13832.6648\n",
      "8     21776.9384\n",
      "9     36857.4753\n",
      "10    31784.0413\n",
      "11    35468.4265\n",
      "12    43369.1919\n",
      "Name: Profit, dtype: float64\n"
     ]
    }
   ],
   "source": [
    "#Question 78: Find profit by month.\n",
    "\n",
    "df['Order Date'] = pd.to_datetime(df['Order Date'])\n",
    "profit_by_month = df.groupby(df['Order Date'].dt.month)['Profit'].sum()\n",
    "print(profit_by_month)\n"
   ]
  },
  {
   "cell_type": "code",
   "execution_count": 112,
   "id": "c0a1d8ee",
   "metadata": {},
   "outputs": [
    {
     "name": "stdout",
     "output_type": "stream",
     "text": [
      "11\n"
     ]
    }
   ],
   "source": [
    "#Question 79: Find month with highest sales.\n",
    "\n",
    "df['Order Date'] = pd.to_datetime(df['Order Date'])\n",
    "month_with_highest_sales = df.groupby(df['Order Date'].dt.month)['Sales'].sum().idxmax()\n",
    "print(month_with_highest_sales)"
   ]
  },
  {
   "cell_type": "code",
   "execution_count": 113,
   "id": "360fbbab",
   "metadata": {},
   "outputs": [
    {
     "name": "stdout",
     "output_type": "stream",
     "text": [
      "12\n"
     ]
    }
   ],
   "source": [
    "#Question 80: Find month with highest profit.\n",
    "\n",
    "df['Order Date'] = pd.to_datetime(df['Order Date'])\n",
    "month_with_highest_profit = df.groupby(df['Order Date'].dt.month)['Profit'].sum().idxmax()\n",
    "print(month_with_highest_profit)"
   ]
  },
  {
   "cell_type": "code",
   "execution_count": 114,
   "id": "6c1c88f5",
   "metadata": {},
   "outputs": [
    {
     "name": "stdout",
     "output_type": "stream",
     "text": [
      "2\n"
     ]
    }
   ],
   "source": [
    "#Question 81: Find month with lowest sales.\n",
    "\n",
    "df['Order Date'] = pd.to_datetime(df['Order Date'])\n",
    "month_with_lowest_sales = df.groupby(df['Order Date'].dt.month)['Sales'].sum().idxmin()\n",
    "print(month_with_lowest_sales)"
   ]
  },
  {
   "cell_type": "code",
   "execution_count": 115,
   "id": "21e572ec",
   "metadata": {},
   "outputs": [
    {
     "name": "stdout",
     "output_type": "stream",
     "text": [
      "1\n"
     ]
    }
   ],
   "source": [
    "#Question 82: Find month with lowest profit.\n",
    "\n",
    "df['Order Date'] = pd.to_datetime(df['Order Date'])\n",
    "month_with_lowest_profit = df.groupby(df['Order Date'].dt.month)['Profit'].sum().idxmin()\n",
    "print(month_with_lowest_profit)"
   ]
  },
  {
   "cell_type": "code",
   "execution_count": 116,
   "id": "8d67a1dd",
   "metadata": {},
   "outputs": [
    {
     "name": "stdout",
     "output_type": "stream",
     "text": [
      "Order Date\n",
      "0    428937.8157\n",
      "1    287209.5022\n",
      "2     88056.9752\n",
      "3    321965.7785\n",
      "4    427692.2593\n",
      "5    357984.6830\n",
      "6    385353.8464\n",
      "Name: Sales, dtype: float64\n"
     ]
    }
   ],
   "source": [
    "#Question 83: Find total sales by weekday.\n",
    "\n",
    "df['Order Date'] = pd.to_datetime(df['Order Date'])\n",
    "total_sales_by_weekday = df.groupby(df['Order Date'].dt.weekday)['Sales'].sum()\n",
    "print(total_sales_by_weekday)"
   ]
  },
  {
   "cell_type": "code",
   "execution_count": 117,
   "id": "56301437",
   "metadata": {},
   "outputs": [
    {
     "name": "stdout",
     "output_type": "stream",
     "text": [
      "Order Date\n",
      "0    51511.1146\n",
      "1    35570.3288\n",
      "2    14703.8707\n",
      "3    39683.7512\n",
      "4    46520.8242\n",
      "5    41277.6202\n",
      "6    57129.5120\n",
      "Name: Profit, dtype: float64\n"
     ]
    }
   ],
   "source": [
    "#Question 84: Find total profit by weekday.\n",
    "\n",
    "df['Order Date'] = pd.to_datetime(df['Order Date'])\n",
    "total_profit_by_weekday = df.groupby(df['Order Date'].dt.weekday)['Profit'].sum()\n",
    "print(total_profit_by_weekday)\n"
   ]
  },
  {
   "cell_type": "code",
   "execution_count": 5,
   "id": "5d9ce970",
   "metadata": {},
   "outputs": [
    {
     "name": "stdout",
     "output_type": "stream",
     "text": [
      "0\n"
     ]
    }
   ],
   "source": [
    "#Question 85: Find weekday with highest sales.\n",
    "\n",
    "df['Order Date'] = pd.to_datetime(df['Order Date'])\n",
    "weekday_with_highest_sales = df.groupby(df['Order Date'].dt.weekday)['Sales'].sum().idxmax()\n",
    "print(weekday_with_highest_sales)"
   ]
  },
  {
   "cell_type": "code",
   "execution_count": 6,
   "id": "434f534f",
   "metadata": {},
   "outputs": [
    {
     "name": "stdout",
     "output_type": "stream",
     "text": [
      "2\n"
     ]
    }
   ],
   "source": [
    "#Question 86: Find weekday with lowest sales\n",
    "\n",
    "df['Order Date'] = pd.to_datetime(df['Order Date'])\n",
    "weekday_with_lowest_sales = df.groupby(df['Order Date'].dt.weekday)['Sales'].sum().idxmin()\n",
    "print(weekday_with_lowest_sales)"
   ]
  },
  {
   "cell_type": "code",
   "execution_count": 7,
   "id": "4ff36d1d",
   "metadata": {},
   "outputs": [
    {
     "name": "stdout",
     "output_type": "stream",
     "text": [
      "6\n"
     ]
    }
   ],
   "source": [
    "#Question 87: Find weekday with highest profit.\n",
    "\n",
    "df['Order Date'] = pd.to_datetime(df['Order Date'])\n",
    "weekday_with_highest_profit = df.groupby(df['Order Date'].dt.weekday)['Profit'].sum().idxmax()\n",
    "print(weekday_with_highest_profit)"
   ]
  },
  {
   "cell_type": "code",
   "execution_count": 8,
   "id": "2d7f7898",
   "metadata": {},
   "outputs": [
    {
     "name": "stdout",
     "output_type": "stream",
     "text": [
      "2\n"
     ]
    }
   ],
   "source": [
    "#Question 88: Find weekday with lowest profit.\n",
    "\n",
    "df['Order Date'] = pd.to_datetime(df['Order Date'])\n",
    "weekday_with_lowest_profit = df.groupby(df['Order Date'].dt.weekday)['Profit'].sum().idxmin()\n",
    "print(weekday_with_lowest_profit)"
   ]
  },
  {
   "cell_type": "code",
   "execution_count": 13,
   "id": "fd6438d9",
   "metadata": {},
   "outputs": [
    {
     "name": "stdout",
     "output_type": "stream",
     "text": [
      "California\n"
     ]
    }
   ],
   "source": [
    "#Question 89: Find state with highest sales.\n",
    "\n",
    "state_with_highest_sales = df.groupby('State')['Sales'].sum().idxmax()\n",
    "print(state_with_highest_sales)"
   ]
  },
  {
   "cell_type": "code",
   "execution_count": 14,
   "id": "20301020",
   "metadata": {},
   "outputs": [
    {
     "name": "stdout",
     "output_type": "stream",
     "text": [
      "California\n"
     ]
    }
   ],
   "source": [
    "#Question 90: Find state with highest profit.\n",
    "\n",
    "state_with_highest_profit = df.groupby('State')['Profit'].sum().idxmax()\n",
    "print(state_with_highest_profit)"
   ]
  },
  {
   "cell_type": "code",
   "execution_count": 15,
   "id": "6701eca3",
   "metadata": {},
   "outputs": [
    {
     "name": "stdout",
     "output_type": "stream",
     "text": [
      "North Dakota\n"
     ]
    }
   ],
   "source": [
    "#Question 91: Find state with lowest sales.\n",
    "\n",
    "state_with_lowest_sales = df.groupby('State')['Sales'].sum().idxmin()\n",
    "print(state_with_lowest_sales)"
   ]
  },
  {
   "cell_type": "code",
   "execution_count": 16,
   "id": "a0919323",
   "metadata": {},
   "outputs": [
    {
     "name": "stdout",
     "output_type": "stream",
     "text": [
      "Texas\n"
     ]
    }
   ],
   "source": [
    "#Question 92: Find state with lowest profit.\n",
    "\n",
    "state_with_lowest_profit = df.groupby('State')['Profit'].sum().idxmin()\n",
    "print(state_with_lowest_profit)"
   ]
  },
  {
   "cell_type": "code",
   "execution_count": 17,
   "id": "6483006c",
   "metadata": {},
   "outputs": [
    {
     "name": "stdout",
     "output_type": "stream",
     "text": [
      "West\n"
     ]
    }
   ],
   "source": [
    "#Question 93: Find region with highest sales.\n",
    "\n",
    "region_with_highest_sales = df.groupby('Region')['Sales'].sum().idxmax()\n",
    "print(region_with_highest_sales)"
   ]
  },
  {
   "cell_type": "code",
   "execution_count": 18,
   "id": "d29d6877",
   "metadata": {},
   "outputs": [
    {
     "name": "stdout",
     "output_type": "stream",
     "text": [
      "West\n"
     ]
    }
   ],
   "source": [
    "#Question 94: Find region with highest profit.\n",
    "\n",
    "region_with_highest_profit = df.groupby('Region')['Profit'].sum().idxmax()\n",
    "print(region_with_highest_profit)"
   ]
  },
  {
   "cell_type": "code",
   "execution_count": 19,
   "id": "38eb53a3",
   "metadata": {},
   "outputs": [
    {
     "name": "stdout",
     "output_type": "stream",
     "text": [
      "South\n"
     ]
    }
   ],
   "source": [
    "#Question 95: Find region with lowest sales.\n",
    "\n",
    "region_with_lowest_sales = df.groupby('Region')['Sales'].sum().idxmin()\n",
    "print(region_with_lowest_sales)\n"
   ]
  },
  {
   "cell_type": "code",
   "execution_count": 20,
   "id": "27c01f14",
   "metadata": {},
   "outputs": [
    {
     "name": "stdout",
     "output_type": "stream",
     "text": [
      "Central\n"
     ]
    }
   ],
   "source": [
    "#Question 96: Find region with lowest profit.\n",
    "\n",
    "region_with_lowest_profit = df.groupby('Region')['Profit'].sum().idxmin()\n",
    "print(region_with_lowest_profit)"
   ]
  },
  {
   "cell_type": "code",
   "execution_count": 21,
   "id": "41a6beb3",
   "metadata": {},
   "outputs": [
    {
     "name": "stdout",
     "output_type": "stream",
     "text": [
      "0.1562027216329798\n"
     ]
    }
   ],
   "source": [
    "#Question 97: Find average discount overall.\n",
    "\n",
    "avg_discount = df['Discount'].mean()\n",
    "print(avg_discount)"
   ]
  },
  {
   "cell_type": "code",
   "execution_count": 22,
   "id": "8f2294cc",
   "metadata": {},
   "outputs": [
    {
     "name": "stdout",
     "output_type": "stream",
     "text": [
      "Category\n",
      "Furniture          0.173923\n",
      "Office Supplies    0.157285\n",
      "Technology         0.132323\n",
      "Name: Discount, dtype: float64\n"
     ]
    }
   ],
   "source": [
    "#Question 98: Find average discount in each category.\n",
    "\n",
    "avg_discount_each_category = df.groupby('Category')['Discount'].mean().sort_index()\n",
    "print(avg_discount_each_category)"
   ]
  },
  {
   "cell_type": "code",
   "execution_count": 23,
   "id": "ea09f507",
   "metadata": {},
   "outputs": [
    {
     "name": "stdout",
     "output_type": "stream",
     "text": [
      "Sub-Category\n",
      "Accessories    0.078452\n",
      "Appliances     0.166524\n",
      "Art            0.074874\n",
      "Binders        0.372292\n",
      "Bookcases      0.211140\n",
      "Chairs         0.170178\n",
      "Copiers        0.161765\n",
      "Envelopes      0.080315\n",
      "Fasteners      0.082028\n",
      "Furnishings    0.138349\n",
      "Labels         0.068681\n",
      "Machines       0.306087\n",
      "Paper          0.074891\n",
      "Phones         0.154556\n",
      "Storage        0.074704\n",
      "Supplies       0.076842\n",
      "Tables         0.261285\n",
      "Name: Discount, dtype: float64\n"
     ]
    }
   ],
   "source": [
    "#Question 99: Find average discount in each sub-category.\n",
    "\n",
    "avg_discount_each_sub_category = df.groupby('Sub-Category')['Discount'].mean().sort_index()\n",
    "print(avg_discount_each_sub_category)"
   ]
  },
  {
   "cell_type": "code",
   "execution_count": 26,
   "id": "cfb25117",
   "metadata": {},
   "outputs": [
    {
     "name": "stdout",
     "output_type": "stream",
     "text": [
      "               Sales       Profit\n",
      "Region                           \n",
      "Central  501239.8908   39706.3625\n",
      "East     678781.2400   91522.7800\n",
      "South    391721.9050   46749.4303\n",
      "West     725457.8245  108418.4489\n"
     ]
    }
   ],
   "source": [
    "#Question 100: Compare total sales vs profit across regions.\n",
    "\n",
    "total_sales_vs_profit_regions = df.groupby('Region')[['Sales','Profit']].sum()\n",
    "print(total_sales_vs_profit_regions)"
   ]
  },
  {
   "cell_type": "markdown",
   "id": "4fa1d882",
   "metadata": {},
   "source": [
    "#Customer & Segment Analysis (Questions 101-150)"
   ]
  },
  {
   "cell_type": "code",
   "execution_count": 29,
   "id": "e3dca236",
   "metadata": {},
   "outputs": [
    {
     "name": "stdout",
     "output_type": "stream",
     "text": [
      "Region\n",
      "Central    629\n",
      "East       674\n",
      "South      512\n",
      "West       686\n",
      "Name: Customer ID, dtype: int64\n"
     ]
    }
   ],
   "source": [
    "#Question 101: Count customers in each region.\n",
    "\n",
    "customers_each_region = df.groupby('Region')['Customer ID'].nunique()\n",
    "print(customers_each_region)"
   ]
  },
  {
   "cell_type": "code",
   "execution_count": 30,
   "id": "1498b0fc",
   "metadata": {},
   "outputs": [
    {
     "name": "stdout",
     "output_type": "stream",
     "text": [
      "State\n",
      "Alabama                  34\n",
      "Arizona                 100\n",
      "Arkansas                 27\n",
      "California              577\n",
      "Colorado                 75\n",
      "Connecticut              43\n",
      "Delaware                 43\n",
      "District of Columbia      4\n",
      "Florida                 181\n",
      "Georgia                  83\n",
      "Idaho                    11\n",
      "Illinois                237\n",
      "Indiana                  70\n",
      "Iowa                     17\n",
      "Kansas                   14\n",
      "Kentucky                 58\n",
      "Louisiana                21\n",
      "Maine                     3\n",
      "Maryland                 45\n",
      "Massachusetts            62\n",
      "Michigan                106\n",
      "Minnesota                42\n",
      "Mississippi              25\n",
      "Missouri                 28\n",
      "Montana                   8\n",
      "Nebraska                 23\n",
      "Nevada                   23\n",
      "New Hampshire            17\n",
      "New Jersey               61\n",
      "New Mexico               22\n",
      "New York                415\n",
      "North Carolina          122\n",
      "North Dakota              2\n",
      "Ohio                    202\n",
      "Oklahoma                 34\n",
      "Oregon                   51\n",
      "Pennsylvania            257\n",
      "Rhode Island             25\n",
      "South Carolina           19\n",
      "South Dakota              5\n",
      "Tennessee                84\n",
      "Texas                   370\n",
      "Utah                     26\n",
      "Vermont                   5\n",
      "Virginia                107\n",
      "Washington              224\n",
      "West Virginia             2\n",
      "Wisconsin                52\n",
      "Wyoming                   1\n",
      "Name: Customer ID, dtype: int64\n"
     ]
    }
   ],
   "source": [
    "#Question 102: Count customers in each state.\n",
    "\n",
    "customers_each_state = df.groupby('State')['Customer ID'].nunique()\n",
    "print(customers_each_state)"
   ]
  },
  {
   "cell_type": "code",
   "execution_count": 34,
   "id": "0ed68ecf",
   "metadata": {},
   "outputs": [
    {
     "name": "stdout",
     "output_type": "stream",
     "text": [
      "City\n",
      "Aberdeen        1\n",
      "Abilene         1\n",
      "Akron          10\n",
      "Albuquerque     7\n",
      "Alexandria      6\n",
      "               ..\n",
      "Woonsocket      3\n",
      "Yonkers         6\n",
      "York            2\n",
      "Yucaipa         1\n",
      "Yuma            4\n",
      "Name: Customer ID, Length: 531, dtype: int64\n"
     ]
    }
   ],
   "source": [
    "#Question 103: Count customers in each city.\n",
    "\n",
    "customers_each_city = df.groupby('City')['Customer ID'].nunique()\n",
    "print(customers_each_city)"
   ]
  },
  {
   "cell_type": "code",
   "execution_count": 37,
   "id": "444367ba",
   "metadata": {},
   "outputs": [
    {
     "name": "stdout",
     "output_type": "stream",
     "text": [
      "Customer ID\n",
      "AA-10315    5563.560\n",
      "AA-10375    1056.390\n",
      "AA-10480    1790.512\n",
      "AA-10645    5086.935\n",
      "AB-10015     886.156\n",
      "              ...   \n",
      "XP-21865    2374.658\n",
      "YC-21895    5454.350\n",
      "YS-21880    6720.444\n",
      "ZC-21910    8025.707\n",
      "ZD-21925    1493.944\n",
      "Name: Sales, Length: 793, dtype: float64\n"
     ]
    }
   ],
   "source": [
    "#Question 104: Find total sales by customer.\n",
    "\n",
    "total_sales_by_customer = df.groupby('Customer ID')['Sales'].sum()\n",
    "print(total_sales_by_customer)"
   ]
  },
  {
   "cell_type": "code",
   "execution_count": 38,
   "id": "07cc76df",
   "metadata": {},
   "outputs": [
    {
     "name": "stdout",
     "output_type": "stream",
     "text": [
      "Customer ID\n",
      "AA-10315    -362.8825\n",
      "AA-10375     277.3824\n",
      "AA-10480     435.8274\n",
      "AA-10645     857.8033\n",
      "AB-10015     129.3465\n",
      "              ...    \n",
      "XP-21865     621.2300\n",
      "YC-21895    1305.6290\n",
      "YS-21880    1778.2923\n",
      "ZC-21910   -1032.1490\n",
      "ZD-21925     249.1307\n",
      "Name: Profit, Length: 793, dtype: float64\n"
     ]
    }
   ],
   "source": [
    "#Question 105: Find total profit by customer.\n",
    "\n",
    "total_profit_by_customer = df.groupby('Customer ID')['Profit'].sum()\n",
    "print(total_profit_by_customer)"
   ]
  },
  {
   "cell_type": "code",
   "execution_count": 40,
   "id": "fde97492",
   "metadata": {},
   "outputs": [
    {
     "name": "stdout",
     "output_type": "stream",
     "text": [
      "Customer ID\n",
      "AA-10315    505.778182\n",
      "AA-10375     70.426000\n",
      "AA-10480    149.209333\n",
      "AA-10645    282.607500\n",
      "AB-10015    147.692667\n",
      "               ...    \n",
      "XP-21865     84.809214\n",
      "YC-21895    681.793750\n",
      "YS-21880    560.037000\n",
      "ZC-21910    258.893774\n",
      "ZD-21925    165.993778\n",
      "Name: Sales, Length: 793, dtype: float64\n"
     ]
    }
   ],
   "source": [
    "#Question 106: Find average sales per customer.\n",
    "\n",
    "avg_sales_per_customer = df.groupby('Customer ID')['Sales'].mean()\n",
    "print(avg_sales_per_customer)"
   ]
  },
  {
   "cell_type": "code",
   "execution_count": 42,
   "id": "ab1a80f1",
   "metadata": {},
   "outputs": [
    {
     "name": "stdout",
     "output_type": "stream",
     "text": [
      "Customer ID\n",
      "AA-10315    -32.989318\n",
      "AA-10375     18.492160\n",
      "AA-10480     36.318950\n",
      "AA-10645     47.655739\n",
      "AB-10015     21.557750\n",
      "               ...    \n",
      "XP-21865     22.186786\n",
      "YC-21895    163.203625\n",
      "YS-21880    148.191025\n",
      "ZC-21910    -33.295129\n",
      "ZD-21925     27.681189\n",
      "Name: Profit, Length: 793, dtype: float64\n"
     ]
    }
   ],
   "source": [
    "#Question 107: Find average profit per customer.\n",
    "\n",
    "avg_profit_per_customer = df.groupby('Customer ID')['Profit'].mean()\n",
    "print(avg_profit_per_customer)"
   ]
  },
  {
   "cell_type": "code",
   "execution_count": 43,
   "id": "6b8b1bfe",
   "metadata": {},
   "outputs": [
    {
     "name": "stdout",
     "output_type": "stream",
     "text": [
      "SM-20320\n"
     ]
    }
   ],
   "source": [
    "#Question 108: Find customer with highest sales.\n",
    "\n",
    "customer_with_highest_sales = df.groupby('Customer ID')['Sales'].sum().idxmax()\n",
    "print(customer_with_highest_sales)"
   ]
  },
  {
   "cell_type": "code",
   "execution_count": 44,
   "id": "6e4ce4b0",
   "metadata": {},
   "outputs": [
    {
     "name": "stdout",
     "output_type": "stream",
     "text": [
      "TC-20980\n"
     ]
    }
   ],
   "source": [
    "#Question 109: Find customer with highest profit.\n",
    "\n",
    "customer_with_highest_profit = df.groupby('Customer ID')['Profit'].sum().idxmax()\n",
    "print(customer_with_highest_profit)"
   ]
  },
  {
   "cell_type": "code",
   "execution_count": 45,
   "id": "93aa1c50",
   "metadata": {},
   "outputs": [
    {
     "name": "stdout",
     "output_type": "stream",
     "text": [
      "TS-21085\n"
     ]
    }
   ],
   "source": [
    "#Question 110: Find customer with lowest sales.\n",
    "\n",
    "customer_with_lowest_sales = df.groupby('Customer ID')['Sales'].sum().idxmin()\n",
    "print(customer_with_lowest_sales)"
   ]
  },
  {
   "cell_type": "code",
   "execution_count": 46,
   "id": "7e69f30d",
   "metadata": {},
   "outputs": [
    {
     "name": "stdout",
     "output_type": "stream",
     "text": [
      "CS-12505\n"
     ]
    }
   ],
   "source": [
    "#Question 111: Find customer with lowest profit.\n",
    "\n",
    "customer_with_lowest_profit = df.groupby('Customer ID')['Profit'].sum().idxmin()\n",
    "print(customer_with_lowest_profit)"
   ]
  },
  {
   "cell_type": "code",
   "execution_count": 4,
   "id": "109c15c8",
   "metadata": {},
   "outputs": [
    {
     "name": "stdout",
     "output_type": "stream",
     "text": [
      "Customer ID\n",
      "AA-10315    -362.8825\n",
      "AB-10600    -274.9604\n",
      "AC-10420     -62.1342\n",
      "AC-10660     -28.7004\n",
      "AF-10885    -163.1175\n",
      "              ...    \n",
      "VP-21760   -1018.7768\n",
      "VS-21820    -262.8093\n",
      "VT-21700    -224.0889\n",
      "VW-21775    -874.6645\n",
      "ZC-21910   -1032.1490\n",
      "Name: Profit, Length: 155, dtype: float64\n"
     ]
    }
   ],
   "source": [
    "#Question 112: Find customers with negative profit.\n",
    "\n",
    "customer_profit = df.groupby('Customer ID')['Profit'].sum()\n",
    "negative_profit_customers = customer_profit[customer_profit < 0]\n",
    "print(negative_profit_customers)"
   ]
  },
  {
   "cell_type": "code",
   "execution_count": 7,
   "id": "c04c807e",
   "metadata": {},
   "outputs": [
    {
     "name": "stdout",
     "output_type": "stream",
     "text": [
      "Customer ID\n",
      "AH-10690    12\n",
      "BD-11320    12\n",
      "BF-11170    11\n",
      "BM-11650    11\n",
      "BP-11095    12\n",
      "CC-12220    12\n",
      "CK-12205    13\n",
      "CK-12595    11\n",
      "CL-12565    12\n",
      "CS-11950    11\n",
      "CS-12250    12\n",
      "CS-12355    11\n",
      "DK-12835    12\n",
      "Dp-13240    11\n",
      "EA-14035    13\n",
      "EH-13765    12\n",
      "EP-13915    17\n",
      "GA-14725    11\n",
      "GB-14530    11\n",
      "GT-14710    11\n",
      "HG-14965    12\n",
      "JD-15895    11\n",
      "JE-15745    13\n",
      "JF-15490    11\n",
      "JG-15160    11\n",
      "JL-15835    11\n",
      "KB-16585    12\n",
      "KD-16495    12\n",
      "KL-16645    12\n",
      "LA-16780    11\n",
      "LC-16885    12\n",
      "MA-17560    11\n",
      "MM-17920    11\n",
      "MY-18295    11\n",
      "NS-18640    13\n",
      "PG-18820    13\n",
      "PK-19075    12\n",
      "PO-18850    11\n",
      "RB-19465    12\n",
      "RP-19390    12\n",
      "SC-20725    11\n",
      "SE-20110    11\n",
      "SH-19975    13\n",
      "SJ-20125    12\n",
      "SM-20950    12\n",
      "SZ-20035    11\n",
      "WB-21850    11\n",
      "XP-21865    11\n",
      "ZC-21910    13\n",
      "Name: Order ID, dtype: int64\n"
     ]
    }
   ],
   "source": [
    "#Question 113: Find customers with > 10 orders.\n",
    "\n",
    "customers_wuith_more_than_10_orders = orders_per_customer[orders_per_customer > 10]\n",
    "print(customers_wuith_more_than_10_orders)"
   ]
  },
  {
   "cell_type": "code",
   "execution_count": 8,
   "id": "dea7f29c",
   "metadata": {},
   "outputs": [
    {
     "name": "stdout",
     "output_type": "stream",
     "text": [
      "Customer ID\n",
      "AO-10810    1\n",
      "AR-10570    1\n",
      "CJ-11875    1\n",
      "JC-15385    1\n",
      "JR-15700    1\n",
      "LD-16855    1\n",
      "MG-18205    1\n",
      "PH-18790    1\n",
      "RE-19405    1\n",
      "RM-19750    1\n",
      "SM-20905    1\n",
      "TC-21145    1\n",
      "Name: Order ID, dtype: int64\n"
     ]
    }
   ],
   "source": [
    "#Question 114: Find customers with < 2 orders.\n",
    "customers_with_less_than_2_orders = orders_per_customer[orders_per_customer < 2]\n",
    "print(customers_with_less_than_2_orders)"
   ]
  },
  {
   "cell_type": "code",
   "execution_count": 9,
   "id": "38f8eaf7",
   "metadata": {},
   "outputs": [
    {
     "name": "stdout",
     "output_type": "stream",
     "text": [
      "Customer ID\n",
      "AA-10315    4\n",
      "AA-10375    4\n",
      "AA-10480    3\n",
      "AA-10645    4\n",
      "AB-10015    2\n",
      "           ..\n",
      "XP-21865    4\n",
      "YC-21895    4\n",
      "YS-21880    2\n",
      "ZC-21910    4\n",
      "ZD-21925    3\n",
      "Name: Year, Length: 772, dtype: int64\n"
     ]
    }
   ],
   "source": [
    "#Question 115: Find repeat customers across multiple years.\n",
    "\n",
    "df['Order Date'] = pd.to_datetime(df['Order Date'])\n",
    "df['Year'] = df['Order Date'].dt.year\n",
    "\n",
    "customer_years = df.groupby('Customer ID')['Year'].nunique()\n",
    "repeat_customers = customer_years[customer_years > 1]\n",
    "\n",
    "print(repeat_customers)\n"
   ]
  },
  {
   "cell_type": "code",
   "execution_count": 10,
   "id": "c55ea156",
   "metadata": {},
   "outputs": [
    {
     "name": "stdout",
     "output_type": "stream",
     "text": [
      "Customer ID\n",
      "AO-10810    1\n",
      "AR-10570    1\n",
      "CJ-11875    1\n",
      "JC-15385    1\n",
      "JR-15700    1\n",
      "LD-16855    1\n",
      "MG-18205    1\n",
      "PH-18790    1\n",
      "RE-19405    1\n",
      "RM-19750    1\n",
      "SM-20905    1\n",
      "TC-21145    1\n",
      "Name: Order ID, dtype: int64\n"
     ]
    }
   ],
   "source": [
    "#Question 116: Find customers who ordered only once.\n",
    "\n",
    "single_order_customer = orders_per_customer[orders_per_customer == 1]\n",
    "print(single_order_customer)\n"
   ]
  },
  {
   "cell_type": "code",
   "execution_count": 11,
   "id": "c3297387",
   "metadata": {},
   "outputs": [
    {
     "name": "stdout",
     "output_type": "stream",
     "text": [
      "Segment\n",
      "Consumer       409\n",
      "Corporate      236\n",
      "Home Office    148\n",
      "Name: Customer ID, dtype: int64\n"
     ]
    }
   ],
   "source": [
    "#Question 117: Count customers by segment.\n",
    "\n",
    "customer_by_segment = df.groupby('Segment')['Customer ID'].nunique()\n",
    "print(customer_by_segment)"
   ]
  },
  {
   "cell_type": "code",
   "execution_count": 16,
   "id": "2af395cc",
   "metadata": {},
   "outputs": [
    {
     "name": "stdout",
     "output_type": "stream",
     "text": [
      "Segment\n",
      "Consumer       1,161,401.34\n",
      "Corporate        706,146.37\n",
      "Home Office      429,653.15\n",
      "Name: Sales, dtype: object\n"
     ]
    }
   ],
   "source": [
    "#Question 118: Find sales by segment.\n",
    "\n",
    "sales_by_segment = df.groupby('Segment')['Sales'].sum()\n",
    "print(sales_by_segment.apply(lambda x: f\"{x:,.2f}\"))"
   ]
  },
  {
   "cell_type": "code",
   "execution_count": 15,
   "id": "27db5720",
   "metadata": {},
   "outputs": [
    {
     "name": "stdout",
     "output_type": "stream",
     "text": [
      "Segment\n",
      "Consumer       134119.2092\n",
      "Corporate       91979.1340\n",
      "Home Office     60298.6785\n",
      "Name: Profit, dtype: float64\n"
     ]
    }
   ],
   "source": [
    "#Question 119: Find profit by segment.\n",
    "\n",
    "profit_by_segment = df.groupby('Segment')['Profit'].sum()\n",
    "print(profit_by_segment)"
   ]
  },
  {
   "cell_type": "code",
   "execution_count": 17,
   "id": "05e22045",
   "metadata": {},
   "outputs": [
    {
     "name": "stdout",
     "output_type": "stream",
     "text": [
      "Consumer\n"
     ]
    }
   ],
   "source": [
    "#Question 120: Find most profitable segment.\n",
    "\n",
    "most_profitable_segment = df.groupby('Segment')['Profit'].sum().idxmax()\n",
    "print(most_profitable_segment)"
   ]
  },
  {
   "cell_type": "code",
   "execution_count": 18,
   "id": "74ba4114",
   "metadata": {},
   "outputs": [
    {
     "name": "stdout",
     "output_type": "stream",
     "text": [
      "Home Office\n"
     ]
    }
   ],
   "source": [
    "#Question 121: Find least profitable segment.\n",
    "\n",
    "least_profitable_segment = df.groupby('Segment')['Profit'].sum().idxmin()\n",
    "print(least_profitable_segment)"
   ]
  },
  {
   "cell_type": "code",
   "execution_count": 19,
   "id": "25123274",
   "metadata": {},
   "outputs": [
    {
     "name": "stdout",
     "output_type": "stream",
     "text": [
      "Consumer\n"
     ]
    }
   ],
   "source": [
    "#Question 122: Find most sales-generating segment.\n",
    "\n",
    "most_sales_generating_segment = df.groupby('Segment')['Sales'].sum().idxmax()\n",
    "print(most_sales_generating_segment)"
   ]
  },
  {
   "cell_type": "code",
   "execution_count": null,
   "id": "0e1ab754",
   "metadata": {},
   "outputs": [
    {
     "name": "stdout",
     "output_type": "stream",
     "text": [
      "Home Office\n"
     ]
    }
   ],
   "source": [
    "#Question 123: Find least sales-generating segment.\n",
    "\n",
    "least_sales_generating_segment = df.groupby('Segment')['Sales'].sum().idxmin()\n",
    "print(least_sales_generating_segment)"
   ]
  },
  {
   "cell_type": "code",
   "execution_count": 21,
   "id": "894d2b14",
   "metadata": {},
   "outputs": [
    {
     "name": "stdout",
     "output_type": "stream",
     "text": [
      "Corporate\n"
     ]
    }
   ],
   "source": [
    "#Question 124: Find segment with highest average discount.\n",
    "\n",
    "segment_with_highest_avg_discount = df.groupby('Segment')['Discount'].mean().idxmax()\n",
    "print(segment_with_highest_avg_discount)"
   ]
  },
  {
   "cell_type": "code",
   "execution_count": 22,
   "id": "b1ef5bde",
   "metadata": {},
   "outputs": [
    {
     "name": "stdout",
     "output_type": "stream",
     "text": [
      "Home Office\n"
     ]
    }
   ],
   "source": [
    "#Question 125: Find segment with lowest average discount.\n",
    "\n",
    "segment_with_lowest_avg_discount = df.groupby('Segment')['Discount'].mean().idxmin()\n",
    "print(segment_with_lowest_avg_discount)"
   ]
  },
  {
   "cell_type": "code",
   "execution_count": 23,
   "id": "958da8d8",
   "metadata": {},
   "outputs": [
    {
     "name": "stdout",
     "output_type": "stream",
     "text": [
      "         Segment Customer ID      Sales\n",
      "316     Consumer    RB-19360  15117.339\n",
      "5       Consumer    AB-10105  14473.571\n",
      "222     Consumer    KL-16645  14175.229\n",
      "345     Consumer    SC-20095  14142.334\n",
      "159     Consumer    HL-15040  12873.298\n",
      "629    Corporate    TC-20980  19052.218\n",
      "636    Corporate    TS-21370  11891.751\n",
      "443    Corporate    BS-11365  10501.653\n",
      "491    Corporate    EH-13765  10310.880\n",
      "511    Corporate    GT-14635   9351.212\n",
      "772  Home Office    SM-20320  25043.050\n",
      "781  Home Office    TA-21385  14595.620\n",
      "724  Home Office    ME-17320  10663.728\n",
      "716  Home Office    KF-16285  10604.266\n",
      "687  Home Office    DR-12940   8350.868\n"
     ]
    }
   ],
   "source": [
    "#Question 126: Find top 5 customers by sales in each segment.\n",
    "\n",
    "customer_sales = df.groupby(['Segment', 'Customer ID'])['Sales'].sum().reset_index()\n",
    "\n",
    "# Sort within each segment by sales descending\n",
    "top_customers = customer_sales.sort_values(['Segment', 'Sales'], ascending=[True, False])\n",
    "\n",
    "top_5_customers_per_segment = top_customers.groupby('Segment').head(5)\n",
    "print(top_5_customers_per_segment)\n"
   ]
  },
  {
   "cell_type": "code",
   "execution_count": 24,
   "id": "c4cdab9e",
   "metadata": {},
   "outputs": [
    {
     "name": "stdout",
     "output_type": "stream",
     "text": [
      "         Segment Customer ID     Profit\n",
      "316     Consumer    RB-19360  6976.0959\n",
      "345     Consumer    SC-20095  5757.4119\n",
      "159     Consumer    HL-15040  5622.4292\n",
      "5       Consumer    AB-10105  5444.8055\n",
      "84      Consumer    CM-12385  3899.8904\n",
      "629    Corporate    TC-20980  8981.3239\n",
      "542    Corporate    KD-16495  3038.6254\n",
      "443    Corporate    BS-11365  2616.0644\n",
      "517    Corporate    HM-14860  2437.9836\n",
      "636    Corporate    TS-21370  2371.7144\n",
      "781  Home Office    TA-21385  4703.7883\n",
      "687  Home Office    DR-12940  2869.0760\n",
      "742  Home Office    NM-18445  2751.6849\n",
      "645  Home Office    AB-10060  2054.5885\n",
      "776  Home Office    SR-20740  1990.4244\n"
     ]
    }
   ],
   "source": [
    "#Question 127: Find top 5 customers by profit in each segment.\n",
    "\n",
    "customers_profit = df.groupby(['Segment', 'Customer ID'])['Profit'].sum().reset_index()\n",
    "\n",
    "# Sort within each segment by sales descending\n",
    "top_customers = customers_profit.sort_values(['Segment', 'Profit'], ascending=[True, False])\n",
    "\n",
    "top_5_customers_per_segment = top_customers.groupby('Segment').head(5)\n",
    "print(top_5_customers_per_segment)"
   ]
  },
  {
   "cell_type": "code",
   "execution_count": null,
   "id": "851fe877",
   "metadata": {},
   "outputs": [
    {
     "name": "stdout",
     "output_type": "stream",
     "text": [
      "Customer ID\n",
      "CS-12505   -6904.3700\n",
      "GT-14635   -4187.1078\n",
      "LF-17185   -3805.5490\n",
      "SR-20425   -3467.1258\n",
      "HG-14965   -2998.8345\n",
      "Name: Profit, dtype: float64\n"
     ]
    }
   ],
   "source": [
    "#Question 128: Find top 5 loss-making customers.\n",
    "\n",
    "loss_making_customers = df[df['Profit'] < 0]\n",
    "top_5_loss_making_customers = loss_making_customers.groupby('Customer ID')['Profit'].sum().nsmallest(5)\n",
    "print(top_5_loss_making_customers)"
   ]
  },
  {
   "cell_type": "code",
   "execution_count": 27,
   "id": "c5c10405",
   "metadata": {},
   "outputs": [
    {
     "name": "stdout",
     "output_type": "stream",
     "text": [
      "Customer ID          SM-20320\n",
      "Order ID       CA-2014-145317\n",
      "Sales               23661.228\n",
      "Name: 4428, dtype: object\n"
     ]
    }
   ],
   "source": [
    "#Question 129: Find customers with largest order value.\n",
    "\n",
    "largest_order = df.groupby(['Customer ID', 'Order ID'])['Sales'].sum().reset_index()\n",
    "max_order = largest_order.loc[largest_order['Sales'].idxmax()]\n",
    "\n",
    "print(max_order)\n"
   ]
  },
  {
   "cell_type": "code",
   "execution_count": 28,
   "id": "dfa1d240",
   "metadata": {},
   "outputs": [
    {
     "name": "stdout",
     "output_type": "stream",
     "text": [
      "Customer ID          RS-19765\n",
      "Order ID       CA-2017-124114\n",
      "Sales                   0.556\n",
      "Name: 4144, dtype: object\n"
     ]
    }
   ],
   "source": [
    "#Question 130: Find customers with smallest order value.\n",
    "\n",
    "smallest_order = df.groupby(['Customer ID', 'Order ID'])['Sales'].sum().reset_index()\n",
    "min_order = smallest_order.loc[smallest_order['Sales'].idxmin()]\n",
    "\n",
    "print(min_order)"
   ]
  },
  {
   "cell_type": "code",
   "execution_count": 29,
   "id": "7325a1ea",
   "metadata": {},
   "outputs": [
    {
     "name": "stdout",
     "output_type": "stream",
     "text": [
      "Year\n",
      "2014    595\n",
      "2015    573\n",
      "2016    638\n",
      "2017    693\n",
      "Name: Customer ID, dtype: int64\n"
     ]
    }
   ],
   "source": [
    "#Question 131: Find number of unique customers each year.\n",
    "\n",
    "df['Order Date'] = pd.to_datetime(df['Order Date'])\n",
    "df['Year'] = df['Order Date'].dt.year\n",
    "\n",
    "unique_customers_per_year = df.groupby('Year')['Customer ID'].nunique()\n",
    "print(unique_customers_per_year)\n"
   ]
  },
  {
   "cell_type": "code",
   "execution_count": null,
   "id": "4f63db64",
   "metadata": {},
   "outputs": [],
   "source": [
    "#Question 132: Find retention rate year over year."
   ]
  },
  {
   "cell_type": "code",
   "execution_count": null,
   "id": "032b17c4",
   "metadata": {},
   "outputs": [],
   "source": [
    "#Question 133: Find churned customers (present last year, not this year)."
   ]
  },
  {
   "cell_type": "code",
   "execution_count": null,
   "id": "1821c2d9",
   "metadata": {},
   "outputs": [],
   "source": [
    "#Question 134: Find new customers (present this year, not last year)."
   ]
  },
  {
   "cell_type": "code",
   "execution_count": 31,
   "id": "0e67e1fe",
   "metadata": {},
   "outputs": [
    {
     "name": "stdout",
     "output_type": "stream",
     "text": [
      "Top 10 customers sales contribution: 6.70%\n",
      "Customer ID\n",
      "SM-20320    25043.050\n",
      "TC-20980    19052.218\n",
      "RB-19360    15117.339\n",
      "TA-21385    14595.620\n",
      "AB-10105    14473.571\n",
      "KL-16645    14175.229\n",
      "SC-20095    14142.334\n",
      "HL-15040    12873.298\n",
      "SE-20110    12209.438\n",
      "CC-12370    12129.072\n",
      "Name: Sales, dtype: float64\n"
     ]
    }
   ],
   "source": [
    "#Question 135: Find sales contribution of top 10 customers.\n",
    "\n",
    "# Total sales per customer\n",
    "customer_sales = df.groupby('Customer ID')['Sales'].sum()\n",
    "\n",
    "top_10_sales = customer_sales.sort_values(ascending=False).head(10)\n",
    "\n",
    "# Contribution %\n",
    "total_sales = customer_sales.sum()\n",
    "contribution_pct = top_10_sales.sum() / total_sales * 100\n",
    "\n",
    "print(\"Top 10 customers sales contribution: {:.2f}%\".format(contribution_pct))\n",
    "print(top_10_sales)\n"
   ]
  },
  {
   "cell_type": "code",
   "execution_count": 32,
   "id": "d5c82bb3",
   "metadata": {},
   "outputs": [
    {
     "name": "stdout",
     "output_type": "stream",
     "text": [
      "Top 10 customers profit contribution: 17.52%\n",
      "Customer ID\n",
      "TC-20980    8981.3239\n",
      "RB-19360    6976.0959\n",
      "SC-20095    5757.4119\n",
      "HL-15040    5622.4292\n",
      "AB-10105    5444.8055\n",
      "TA-21385    4703.7883\n",
      "CM-12385    3899.8904\n",
      "KD-16495    3038.6254\n",
      "AR-10540    2884.6208\n",
      "DR-12940    2869.0760\n",
      "Name: Profit, dtype: float64\n"
     ]
    }
   ],
   "source": [
    "#Question 136: Find profit contribution of top 10 customers.\n",
    "\n",
    "customer_profit = df.groupby('Customer ID')['Profit'].sum()\n",
    "\n",
    "top_10_profit = customer_profit.sort_values(ascending=False).head(10)\n",
    "\n",
    "# Contribution %\n",
    "total_profit = customer_profit.sum()\n",
    "contribution_pct = top_10_profit.sum() / total_profit * 100\n",
    "\n",
    "print(\"Top 10 customers profit contribution: {:.2f}%\".format(contribution_pct))\n",
    "print(top_10_profit)"
   ]
  },
  {
   "cell_type": "code",
   "execution_count": 14,
   "id": "65e3c5d4",
   "metadata": {},
   "outputs": [
    {
     "name": "stdout",
     "output_type": "stream",
     "text": [
      "Customer ID\n",
      "AA-10315    3\n",
      "AA-10375    3\n",
      "AA-10480    3\n",
      "AA-10645    3\n",
      "AB-10015    3\n",
      "           ..\n",
      "XP-21865    3\n",
      "YC-21895    3\n",
      "YS-21880    3\n",
      "ZC-21910    3\n",
      "ZD-21925    3\n",
      "Name: Category, Length: 617, dtype: int64\n"
     ]
    }
   ],
   "source": [
    "#Question 137: Find customers who purchased from all categories.\n",
    "\n",
    "# All unique categories\n",
    "all_categories = set(df['Category'].unique())\n",
    "total_categories = len(all_categories)\n",
    "\n",
    "# Categories purchased by each customer\n",
    "customer_categories = df.groupby('Customer ID')['Category'].nunique()\n",
    "\n",
    "# Filter customers who bought from all categories\n",
    "customers_all_categories = customer_categories[customer_categories == total_categories]\n",
    "\n",
    "print(customers_all_categories)\n"
   ]
  },
  {
   "cell_type": "code",
   "execution_count": 16,
   "id": "dd20a8c3",
   "metadata": {},
   "outputs": [
    {
     "name": "stdout",
     "output_type": "stream",
     "text": [
      "['CG-12520' 'SO-20335' 'BH-11710' 'SF-20065' 'EB-13870' 'TB-21520'\n",
      " 'GH-14485' 'SN-20710' 'DP-13000' 'TB-21055' 'KM-16720' 'PS-18970'\n",
      " 'JE-15745' 'KB-16600' 'PO-18865' 'KB-16315' 'PN-18775' 'LC-16870'\n",
      " 'CV-12805' 'DK-13090' 'SC-20725' 'AD-10180' 'PF-19165' 'LS-16975'\n",
      " 'LC-16885' 'JD-15895' 'MG-17680' 'JE-16165' 'DB-13060' 'BM-11140'\n",
      " 'CS-12130' 'MP-17470' 'BS-11755' 'HK-14890' 'VW-21775' 'JB-15925'\n",
      " 'DS-13180' 'VD-21670' 'CS-12400' 'KL-16645' 'DW-13480' 'LH-17155'\n",
      " 'DR-12880' 'HA-14920' 'JO-15280' 'NZ-18565' 'KL-16555' 'JH-15910'\n",
      " 'AS-10225' 'BP-11185' 'TS-21205' 'NM-18445' 'DJ-13510' 'PO-18850'\n",
      " 'AC-10420' 'JL-15505' 'KW-16435' 'MK-17905' 'AR-10405' 'DO-13435'\n",
      " 'DK-13225' 'AG-10675' 'KH-16510' 'KC-16675' 'PB-19150' 'MP-17965'\n",
      " 'NF-18385' 'JM-15265' 'PK-19075' 'TB-21595' 'EB-13705' 'SC-20095'\n",
      " 'TN-21040' 'JS-15940' 'JP-15520' 'JE-15475' 'MT-18070' 'RO-19780'\n",
      " 'MY-17380' 'LS-17245' 'MC-17605' 'PH-18790' 'KB-16240' 'JC-15340'\n",
      " 'DK-12985' 'PG-18895' 'BD-11320' 'RC-19960' 'OT-18730' 'LP-17080'\n",
      " 'CA-12775' 'EB-13840' 'CS-11950' 'BD-11725' 'LR-16915' 'AS-10240'\n",
      " 'NG-18355' 'SF-20965' 'MO-17800' 'DJ-13420' 'RB-19465' 'JD-16150'\n",
      " 'AR-10825' 'EH-14125' 'CB-12025' 'RP-19390' 'CD-11980' 'RA-19285'\n",
      " 'NP-18325' 'Dl-13600' 'AS-10285' 'JK-15370' 'DP-13165' 'SV-20365'\n",
      " 'KC-16540' 'CK-12325' 'MR-17545' 'EG-13900' 'DS-13030' 'MH-17785'\n",
      " 'RF-19735' 'MS-17830' 'NB-18655' 'AJ-10795' 'LE-16810' 'BV-11245'\n",
      " 'BM-11785' 'LT-17110' 'SA-20830' 'CD-11920' 'HW-14935' 'GM-14440'\n",
      " 'AA-10375' 'ZC-21910' 'PJ-19015' 'BM-11650' 'AF-10885' 'GA-14725'\n",
      " 'GT-14710' 'AJ-10780' 'CC-12430' 'HP-14815' 'PM-19135' 'LL-16840'\n",
      " 'SC-20050' 'RW-19630' 'RB-19795' 'KH-16360' 'GH-14665' 'DL-12925'\n",
      " 'LW-16990' 'DL-13315' 'TZ-21580' 'JG-15805' 'SL-20155' 'RD-19585'\n",
      " 'RH-19495' 'VG-21790' 'JS-15880' 'KM-16225' 'LA-16780' 'EL-13735'\n",
      " 'RD-19660' 'MO-17500' 'DG-13300' 'NF-18595' 'JD-16060' 'BD-11620'\n",
      " 'BT-11395' 'KD-16270' 'NS-18640' 'PV-18985' 'EH-13945' 'RA-19915'\n",
      " 'HL-15040' 'BD-11605' 'AP-10915' 'CB-12535' 'PS-19045' 'GB-14530'\n",
      " 'BT-11530' 'LS-16945' 'SW-20755' 'SP-20620' 'PG-18820' 'GM-14680'\n",
      " 'NP-18700' 'DJ-13630' 'MH-18115' 'CC-12220' 'JC-16105' 'BG-11695'\n",
      " 'MS-17710' 'TB-21355' 'LC-17140' 'TC-21535' 'CS-12460' 'RC-19825'\n",
      " 'HG-14965' 'LD-17005' 'JF-15190' 'CM-12115' 'BP-11290' 'LB-16735'\n",
      " 'KT-16465' 'AB-10600' 'SZ-20035' 'JR-15670' 'CA-12265' 'JK-16120'\n",
      " 'PP-18955' 'CK-12760' 'GM-14455' 'SD-20485' 'AB-10105' 'BT-11305'\n",
      " 'SV-20815' 'IM-15070' 'ME-17320' 'AA-10480' 'MB-18085' 'LC-16930'\n",
      " 'MB-17305' 'DK-12835' 'NM-18520' 'CM-12655' 'TS-21370' 'JW-15220'\n",
      " 'AT-10435' 'PC-19000' 'JM-15535' 'AI-10855' 'MC-17845' 'GH-14425'\n",
      " 'CJ-12010' 'MP-18175' 'CL-11890' 'CK-12205' 'PC-18745' 'SG-20470'\n",
      " 'MC-18100' 'DP-13390' 'MD-17350' 'AB-10150' 'ML-17395' 'JC-15385'\n",
      " 'MC-17275' 'TB-21280' 'MM-17920' 'SB-20290' 'AW-10840' 'TS-21610'\n",
      " 'HZ-14950' 'ND-18370' 'JK-15205' 'MM-18055' 'DC-13285' 'BN-11515'\n",
      " 'KD-16345' 'FM-14215' 'JW-15955' 'AG-10900' 'ML-17755' 'RM-19375'\n",
      " 'AS-10135' 'FO-14305' 'BT-11680' 'JL-15235' 'EA-14035' 'BF-10975'\n",
      " 'KH-16330' 'FA-14230' 'DA-13450' 'FH-14275' 'NC-18625' 'AH-10075'\n",
      " 'ME-18010' 'BP-11230' 'JG-15160' 'LF-17185' 'RA-19945' 'RW-19540'\n",
      " 'DB-13660' 'EH-13765' 'NP-18685' 'JE-15715' 'AC-10615' 'LW-16825'\n",
      " 'AS-10090' 'JS-16030' 'CM-12190' 'AM-10705' 'RH-19510' 'CT-11995'\n",
      " 'SN-20560' 'CK-12595' 'RD-19480' 'TP-21130' 'GG-14650' 'KA-16525'\n",
      " 'TR-21325' 'MS-17365' 'MM-17260' 'AH-10120' 'SG-20080' 'RK-19300'\n",
      " 'JB-15400' 'EH-14005' 'RF-19345' 'TB-21625' 'GT-14635' 'TS-21160'\n",
      " 'WB-21850' 'AF-10870' 'BF-11170' 'IL-15100' 'SW-20275' 'NS-18505'\n",
      " 'DK-13375' 'BT-11440' 'DB-13405' 'SJ-20125' 'MV-17485' 'JL-15850'\n",
      " 'LM-17065' 'JK-15625' 'RS-19420' 'BC-11125' 'EM-13825' 'BM-11575'\n",
      " 'SC-20260' 'CP-12340' 'AB-10060' 'EH-13990' 'BF-11020' 'BE-11455'\n",
      " 'SG-20605' 'HM-14860' 'BE-11335' 'JA-15970' 'SV-20935' 'MZ-17515'\n",
      " 'AZ-10750' 'PW-19240' 'SW-20455' 'CM-11935' 'PF-19225' 'GM-14695'\n",
      " 'KN-16705' 'KT-16480' 'SC-20575' 'BB-11545' 'DW-13585' 'EM-13810'\n",
      " 'KD-16615' 'AP-10720' 'BW-11110' 'TM-21010' 'SF-20200' 'SM-20320'\n",
      " 'SE-20110' 'EN-13780' 'MC-17590' 'BO-11350' 'AG-10300' 'JF-15295'\n",
      " 'SB-20170' 'TB-21400' 'SH-19975' 'HR-14830' 'HF-14995' 'NL-18310'\n",
      " 'RR-19525' 'DL-12865' 'CC-12145' 'CP-12085' 'EP-13915' 'FH-14350'\n",
      " 'MS-17530' 'SC-20770' 'JP-16135' 'SS-20140' 'CD-12790' 'MD-17860'\n",
      " 'KN-16450' 'DL-13330' 'MH-18025' 'DR-12940' 'DM-13015' 'DM-13345'\n",
      " 'CC-12370' 'SC-20380' 'BF-11275' 'TD-20995' 'BK-11260' 'HG-14845'\n",
      " 'LS-17200' 'JM-16195' 'BP-11155' 'TT-21220' 'LH-17020' 'EM-14140'\n",
      " 'MA-17995' 'AY-10555' 'Co-12640' 'JF-15565' 'DV-13045' 'GB-14575'\n",
      " 'CL-12565' 'JB-16045' 'NW-18400' 'JB-16000' 'DM-12955' 'JH-16180'\n",
      " 'AS-10045' 'ZD-21925' 'KF-16285' 'TC-21475' 'HH-15010' 'YC-21895'\n",
      " 'KM-16375' 'TP-21415' 'DB-12910' 'CS-12355' 'JG-15310' 'MS-17770'\n",
      " 'JE-15610' 'CC-12100' 'JP-15460' 'CS-11845' 'SM-20950' 'TT-21070'\n",
      " 'RD-19900' 'DW-13195' 'SJ-20215' 'BG-11740' 'AH-10030' 'TH-21100'\n",
      " 'HG-15025' 'EB-13750' 'TS-21505' 'TH-21550' 'PR-18880' 'CA-12310'\n",
      " 'MC-17425' 'LC-17050' 'Dp-13240' 'LB-16795' 'DE-13255' 'CC-12610'\n",
      " 'RH-19600' 'CA-12055' 'SC-20020' 'MG-17875' 'RD-19810' 'MT-17815'\n",
      " 'KD-16495' 'RB-19330' 'JC-15775' 'ML-17410' 'MH-17620' 'MF-17665'\n",
      " 'RS-19765' 'AB-10255' 'RM-19750' 'KB-16585' 'CM-12160' 'EJ-13720'\n",
      " 'NC-18415' 'AH-10690' 'LS-17230' 'MY-18295' 'KE-16420' 'DH-13675'\n",
      " 'GH-14410' 'JF-15355' 'PF-19120' 'SP-20860' 'VT-21700' 'MM-18280'\n",
      " 'MH-17455' 'TS-21340' 'DN-13690' 'RB-19360' 'ED-13885' 'JM-15250'\n",
      " 'EB-13930' 'TH-21235' 'PL-18925' 'CS-12175' 'AR-10540' 'DB-13120'\n",
      " 'DK-12895' 'AA-10645' 'JO-15145' 'GA-14515' 'LH-16900' 'DL-13495'\n",
      " 'MG-18145' 'NC-18535' 'SR-20740' 'SJ-20500' 'BS-11365' 'SH-20635'\n",
      " 'RM-19675' 'CA-11965' 'AH-10585' 'GZ-14470' 'RR-19315' 'JL-15835'\n",
      " 'AS-10630' 'JK-15730' 'CC-12670' 'VS-21820' 'BW-11200' 'RD-19720'\n",
      " 'VF-21715' 'ES-14080' 'RL-19615' 'GK-14620' 'JF-15490' 'MG-17650'\n",
      " 'MC-18130' 'MG-17890' 'HA-14905' 'DB-13360' 'SV-20785' 'DB-13555'\n",
      " 'AG-10270' 'NR-18550' 'RB-19435' 'GT-14755' 'ES-14020' 'CM-12385'\n",
      " 'MF-18250' 'EB-14110' 'TB-21175' 'AC-10660' 'AB-10015' 'CL-12700'\n",
      " 'RB-19645' 'SS-20410' 'HR-14770' 'AH-10465' 'MA-17560' 'BD-11500'\n",
      " 'TS-21430' 'FP-14320' 'JL-15175' 'KW-16570' 'AJ-10945' 'CS-12250'\n",
      " 'RE-19450' 'SR-20425' 'TM-21490' 'AH-10195' 'AB-10165' 'CV-12295'\n",
      " 'NH-18610' 'AG-10495' 'GR-14560' 'MH-17290' 'DM-13525' 'TA-21385'\n",
      " 'DB-13210' 'TH-21115' 'MS-17980' 'DB-12970' 'SU-20665' 'RF-19840'\n",
      " 'SC-20695' 'ML-18040' 'TG-21640' 'RB-19705' 'SS-20875' 'DH-13075'\n",
      " 'BW-11065' 'FH-14365' 'SC-20440' 'JK-16090' 'MG-18205' 'CR-12730'\n",
      " 'KB-16405' 'BS-11665' 'PO-19180' 'RA-19885' 'BD-11770' 'AG-10390'\n",
      " 'SW-20245' 'BF-11215' 'SP-20920' 'JR-16210' 'TB-21190' 'AO-10810'\n",
      " 'EK-13795' 'DB-13270' 'CM-12445' 'YS-21880' 'JF-15415' 'LO-17170'\n",
      " 'ME-17725' 'MZ-17335' 'TP-21565' 'LW-17125' 'XP-21865' 'SH-20395'\n",
      " 'TT-21460' 'EC-14050' 'BS-11590' 'KN-16390' 'SS-20515' 'SP-20545'\n",
      " 'ON-18715' 'MV-18190' 'VP-21760' 'PM-18940' 'TW-21025' 'TC-21145'\n",
      " 'PS-18760' 'SC-20230' 'ST-20530' 'AR-10570' 'CY-12745' 'AT-10735'\n",
      " 'AG-10330' 'VB-21745' 'SC-20305' 'JS-15595' 'AW-10930' 'CB-12415'\n",
      " 'DO-13645' 'MN-17935' 'SP-20650' 'AR-10345' 'AA-10315' 'CC-12475'\n",
      " 'TC-21295' 'BS-11380' 'RB-19570' 'TB-21250' 'JM-15655' 'FC-14335'\n",
      " 'JM-15865' 'NB-18580' 'ER-13855' 'LW-17215' 'PW-19030' 'GM-14500'\n",
      " 'DW-13540' 'TG-21310' 'JS-15685' 'TS-21655' 'DC-12850' 'PO-19195'\n",
      " 'EM-14200' 'CR-12580' 'CM-11815' 'CM-12715' 'LC-16960' 'CR-12820'\n",
      " 'RD-19930' 'CS-12490' 'JD-15790' 'PT-19090' 'LP-17095' 'GZ-14545'\n",
      " 'GW-14605' 'SC-20680' 'MH-17440' 'EJ-14155' 'BD-11635' 'HE-14800'\n",
      " 'NP-18670' 'EM-14065' 'AG-10525' 'HM-14980' 'BP-11095' 'SB-20185'\n",
      " 'CR-12625' 'DF-13135' 'JL-15130' 'JH-15430' 'JG-15115' 'ND-18460'\n",
      " 'LR-17035' 'KM-16660' 'FM-14380' 'HJ-14875' 'JH-15820' 'AM-10360'\n",
      " 'SM-20005' 'DP-13105' 'MW-18220' 'CD-12280' 'CM-12235' 'PB-18805'\n",
      " 'RP-19270' 'EB-14170' 'SM-20905' 'BF-11005' 'FC-14245' 'JH-15985'\n",
      " 'BT-11485' 'QJ-19255' 'BG-11035' 'SC-20845' 'IM-15055']\n"
     ]
    }
   ],
   "source": [
    "#Question 138: Find customers who purchased only furniture.\n",
    "\n",
    "# Customers who purchased Furniture at least once\n",
    "furniture_customers = df[df['Category'] == \"Furniture\"]['Customer ID'].unique()\n",
    "\n",
    "print(furniture_customers)\n",
    "\n"
   ]
  },
  {
   "cell_type": "code",
   "execution_count": 17,
   "id": "4df7241f",
   "metadata": {},
   "outputs": [
    {
     "name": "stdout",
     "output_type": "stream",
     "text": [
      "['BH-11710' 'ZD-21925' 'EH-13945' 'GH-14485' 'SN-20710' 'LC-16930'\n",
      " 'ON-18715' 'LH-16900' 'JM-15265' 'TB-21055' 'KM-16720' 'BS-11590'\n",
      " 'PG-18895' 'JS-15685' 'RB-19465' 'LC-16870' 'JM-15250' 'PA-19060'\n",
      " 'SC-20725' 'DW-13585' 'JE-16165' 'TW-21025' 'NP-18670' 'EM-13960'\n",
      " 'BM-11140' 'DK-13150' 'RM-19675' 'FM-14290' 'MP-17470' 'LE-16810'\n",
      " 'JH-15985' 'MS-17980' 'VW-21775' 'JH-15910' 'JB-15925' 'CS-12400'\n",
      " 'KL-16645' 'KC-16540' 'DR-12880' 'CC-12670' 'SB-20290' 'RC-19825'\n",
      " 'AH-10210' 'HA-14920' 'TB-21520' 'NZ-18565' 'AG-10525' 'NM-18445'\n",
      " 'GK-14620' 'PO-18850' 'JL-15850' 'DB-13615' 'JD-15895' 'CC-12550'\n",
      " 'AB-10060' 'AG-10900' 'LA-16780' 'DO-13435' 'DK-13225' 'MV-18190'\n",
      " 'JG-15115' 'AG-10675' 'KH-16510' 'JE-15745' 'SD-20485' 'RB-19795'\n",
      " 'MK-18160' 'PO-19180' 'RB-19360' 'KH-16630' 'JP-15520' 'KH-16690'\n",
      " 'XP-21865' 'EM-14065' 'MT-18070' 'SA-20830' 'CW-11905' 'SS-20590'\n",
      " 'LS-17245' 'AD-10180' 'DB-13210' 'LH-17155' 'RL-19615' 'BD-11500'\n",
      " 'ES-14080' 'FP-14320' 'JF-15415' 'DV-13465' 'ZC-21910' 'MS-17830'\n",
      " 'LR-16915' 'CK-12205' 'AR-10510' 'NB-18655' 'GD-14590' 'CK-12595'\n",
      " 'NG-18355' 'FM-14380' 'BD-11605' 'SC-20305' 'AR-10825' 'AR-10405'\n",
      " 'TH-21235' 'RB-19570' 'CD-11980' 'GT-14635' 'MC-17845' 'NP-18325'\n",
      " 'AB-10165' 'BN-11470' 'DP-13165' 'RS-19765' 'JF-15355' 'DS-13030'\n",
      " 'GZ-14470' 'PB-19105' 'YC-21895' 'DC-13285' 'LH-17020' 'CS-12250'\n",
      " 'BV-11245' 'BM-11785' 'JK-15730' 'HW-14935' 'RA-19915' 'AA-10375'\n",
      " 'PJ-19015' 'TR-21325' 'PG-18820' 'JB-15400' 'EB-13705' 'AF-10885'\n",
      " 'CK-12760' 'AJ-10795' 'PK-18910' 'CC-12430' 'JE-15475' 'TH-21550'\n",
      " 'DB-13060' 'PO-18865' 'BE-11335' 'BM-11650' 'SE-20110' 'JM-15535'\n",
      " 'RA-19885' 'JA-15970' 'DL-13315' 'PO-19195' 'BW-11110' 'TZ-21580'\n",
      " 'AS-10630' 'MW-18235' 'RH-19495' 'AT-10735' 'JS-15880' 'KM-16225'\n",
      " 'GT-14710' 'DE-13255' 'MO-17500' 'LC-16885' 'TS-21160' 'MS-17710'\n",
      " 'KD-16270' 'CY-12745' 'LW-16990' 'PV-18985' 'CS-12355' 'HL-15040'\n",
      " 'AP-10915' 'NC-18340' 'AP-10720' 'CA-12055' 'BT-11530' 'LH-16750'\n",
      " 'SP-20620' 'BF-11170' 'BG-11695' 'MO-17800' 'IM-15070' 'MH-18115'\n",
      " 'JR-15700' 'CC-12220' 'KC-16255' 'QJ-19255' 'CS-12460' 'LW-16825'\n",
      " 'AB-10255' 'CM-12115' 'AS-10045' 'HM-14860' 'AB-10600' 'MG-17890'\n",
      " 'VD-21670' 'PP-18955' 'KM-16375' 'BT-11305' 'SV-20815' 'RW-19540'\n",
      " 'LT-17110' 'MC-17425' 'MB-17305' 'KD-16345' 'CP-12340' 'CM-12655'\n",
      " 'AT-10435' 'CS-12505' 'CL-11890' 'EP-13915' 'AB-10150' 'JO-15550'\n",
      " 'AW-10840' 'SC-20095' 'MC-18100' 'RD-19480' 'JO-15280' 'ML-17395'\n",
      " 'PL-18925' 'JC-15385' 'JG-15160' 'CL-12565' 'NW-18400' 'FH-14365'\n",
      " 'VM-21685' 'SF-20200' 'CD-12280' 'TH-21100' 'NS-18505' 'RB-19645'\n",
      " 'RD-19585' 'JK-15205' 'CA-12265' 'DB-13120' 'TT-21460' 'RM-19375'\n",
      " 'GG-14650' 'BD-11770' 'JE-15610' 'RP-19855' 'MR-17545' 'PB-19210'\n",
      " 'CH-12070' 'BS-11755' 'SL-20155' 'GW-14605' 'RK-19300' 'GM-14440'\n",
      " 'JC-15775' 'DW-13480' 'DK-12835' 'SC-20770' 'FH-14275' 'EH-13990'\n",
      " 'SC-20230' 'GM-14680' 'EA-14035' 'AC-10615' 'RW-19690' 'BD-11320'\n",
      " 'ML-17755' 'JD-16015' 'AS-10225' 'NG-18430' 'CB-12415' 'ND-18460'\n",
      " 'LW-17215' 'RW-19630' 'SC-20800' 'MC-17590' 'TP-21130' 'DB-13270'\n",
      " 'MS-17365' 'RD-19900' 'SG-20080' 'EH-14005' 'BS-11665' 'WB-21850'\n",
      " 'RB-19435' 'JH-15820' 'CJ-12010' 'RH-19600' 'IL-15100' 'AW-10930'\n",
      " 'ML-17410' 'MH-17620' 'DK-13375' 'DJ-13630' 'CT-11995' 'BF-11005'\n",
      " 'MZ-17335' 'MW-18220' 'LM-17065' 'DL-13495' 'SV-20935' 'EM-13825'\n",
      " 'GM-14455' 'SC-20260' 'MP-17965' 'CV-12295' 'SG-20605' 'PJ-18835'\n",
      " 'MG-18145' 'TM-21010' 'ML-18040' 'AF-10870' 'DB-13405' 'PF-19225'\n",
      " 'KN-16705' 'TB-21250' 'JM-15865' 'KT-16480' 'MY-17380' 'KW-16570'\n",
      " 'BB-11545' 'CD-12790' 'TT-21220' 'DJ-13510' 'LO-17170' 'SV-20365'\n",
      " 'PF-19165' 'HR-14830' 'BD-11635' 'CM-12235' 'EN-13780' 'JM-15655'\n",
      " 'TA-21385' 'TB-21400' 'DG-13300' 'HG-15025' 'CS-12130' 'SM-20320'\n",
      " 'CC-12145' 'CP-12085' 'SC-20680' 'SK-19990' 'FH-14350' 'EB-13750'\n",
      " 'GA-14515' 'ES-14020' 'NK-18490' 'MO-17950' 'SS-20140' 'LD-17005'\n",
      " 'AS-10285' 'KN-16450' 'JS-15595' 'MP-18175' 'BD-11620' 'ND-18370'\n",
      " 'TC-21295' 'SC-20380' 'Dp-13240' 'JC-16105' 'EB-13975' 'DL-12925'\n",
      " 'EM-14140' 'MC-17635' 'SR-20425' 'BP-11230' 'TC-21475' 'SW-20350'\n",
      " 'TS-21370' 'DM-13345' 'JD-16150' 'BF-11215' 'KB-16405' 'TP-21415'\n",
      " 'DB-12910' 'MS-17770' 'EB-14110' 'CC-12100' 'LS-16975' 'CS-11845'\n",
      " 'NF-18385' 'EM-13810' 'HF-14995' 'KB-16585' 'TB-21280' 'JP-15460'\n",
      " 'DW-13195' 'SJ-20215' 'BP-11185' 'SJ-20125' 'MA-17560' 'TS-21205'\n",
      " 'EH-14185' 'PS-19045' 'GM-14695' 'KT-16465' 'CS-11950' 'PR-18880'\n",
      " 'CA-12310' 'SO-20335' 'MG-17650' 'DH-13075' 'AS-10090' 'SF-20965'\n",
      " 'SJ-20500' 'CC-12610' 'KB-16240' 'RD-19930' 'SC-20020' 'SU-20665'\n",
      " 'JL-15835' 'ME-17320' 'TS-21505' 'JK-15640' 'LC-17140' 'NP-18700'\n",
      " 'NC-18535' 'RA-19285' 'SH-19975' 'BC-11125' 'DB-13555' 'SC-20050'\n",
      " 'BT-11680' 'FA-14230' 'JW-15955' 'VM-21835' 'JJ-15760' 'RF-19735'\n",
      " 'JK-15370' 'PN-18775' 'RH-19510' 'MC-17575' 'EH-14125' 'KL-16555'\n",
      " 'NC-18415' 'AH-10690' 'CC-12685' 'MY-18295' 'DM-13015' 'JK-16120'\n",
      " 'SV-20785' 'SP-20860' 'SH-20395' 'MG-17680' 'VT-21700' 'AB-10105'\n",
      " 'VG-21805' 'NH-18610' 'FG-14260' 'CC-12370' 'DK-12895' 'KM-16660'\n",
      " 'AA-10645' 'JO-15145' 'KE-16420' 'NP-18685' 'KW-16435' 'NC-18625'\n",
      " 'MM-17920' 'TT-21070' 'RB-19330' 'SW-20245' 'AH-10465' 'TP-21565'\n",
      " 'CR-12820' 'CM-12160' 'HK-14890' 'CC-12475' 'BS-11365' 'CA-11965'\n",
      " 'EB-13870' 'AH-10585' 'ST-20530' 'KB-16315' 'SS-20875' 'RD-19720'\n",
      " 'JL-15130' 'AG-10330' 'LL-16840' 'CD-11920' 'TB-21355' 'MC-18130'\n",
      " 'DS-13180' 'JF-15565' 'Co-12640' 'JF-15295' 'LT-16765' 'NS-18640'\n",
      " 'AC-10450' 'CM-12385' 'MK-17905' 'MH-17455' 'RE-19450' 'PF-19120'\n",
      " 'SC-20440' 'KN-16390' 'TB-21175' 'RF-19345' 'MS-17530' 'BM-11575'\n",
      " 'KS-16300' 'TC-21535' 'BE-11455' 'JR-16210' 'LR-17035' 'SS-20410'\n",
      " 'EG-13900' 'DD-13570' 'JM-15580' 'BK-11260' 'GM-14500' 'SW-20455'\n",
      " 'GH-14410' 'AG-10495' 'BT-11395' 'AI-10855' 'AA-10315' 'DN-13690'\n",
      " 'BF-11020' 'EJ-14155' 'EC-14050' 'SZ-20035' 'TM-21490' 'JK-15325'\n",
      " 'CV-12805' 'ML-18265' 'TB-21625' 'JE-15715' 'NM-18520' 'MM-18055'\n",
      " 'TH-21115' 'JK-16090' 'JM-16195' 'SG-20470' 'DB-12970' 'VP-21730'\n",
      " 'BP-11095' 'BG-11035' 'SC-20695' 'AH-10120' 'TG-21640' 'HR-14770'\n",
      " 'DK-13090' 'AR-10345' 'JD-15790' 'MN-17935' 'MJ-17740' 'DO-13645'\n",
      " 'VG-21790' 'CB-12535' 'KF-16285' 'LS-16945' 'GA-14725' 'EM-14200'\n",
      " 'JF-15190' 'AC-10660' 'MC-17605' 'GB-14575' 'AM-10705' 'SB-20185'\n",
      " 'JS-16030' 'CG-12040' 'AZ-10750' 'DB-13660' 'BG-11740' 'BF-11275'\n",
      " 'DB-13360' 'TB-21595' 'FC-14335' 'SP-20650' 'AJ-10780' 'NR-18550'\n",
      " 'SS-20515' 'LC-17050' 'FC-14245' 'BP-11050' 'EJ-13720' 'RO-19780'\n",
      " 'MB-18085' 'CA-12775' 'DL-13330' 'CM-11815' 'DP-13105' 'KB-16600'\n",
      " 'TC-21145' 'CL-12700' 'PS-18760' 'TC-20980' 'PW-19030' 'MF-18250'\n",
      " 'HA-14905' 'TN-21040' 'HM-14980' 'FM-14215' 'SP-20545' 'CS-11860'\n",
      " 'KH-16330' 'PK-19075' 'MH-17290' 'RC-19960' 'TG-21310' 'BP-11155'\n",
      " 'JK-15625' 'DV-13045' 'GH-14425' 'AG-10270' 'ME-17725' 'AR-10540'\n",
      " 'PM-19135' 'CM-12190' 'BS-11380' 'CM-12715' 'YS-21880' 'SW-20755'\n",
      " 'EM-14095' 'LB-16795' 'DR-12940' 'AA-10480' 'CM-11935' 'EK-13795'\n",
      " 'RF-19840' 'VS-21820' 'KA-16525' 'TS-21655' 'DC-12850' 'SR-20740'\n",
      " 'CR-12580' 'DM-13525' 'CB-12025' 'JJ-15445' 'LP-17095' 'KD-16495'\n",
      " 'BW-11200' 'KH-16360' 'DH-13675' 'MT-17815' 'GZ-14545' 'NL-18310'\n",
      " 'JW-15220' 'JL-15235' 'HE-14800' 'AH-10075' 'RA-19945' 'JB-16045'\n",
      " 'SP-20920' 'GB-14530' 'JL-15175' 'RP-19390' 'ED-13885' 'RD-19810'\n",
      " 'TS-21430' 'BO-11350' 'AB-10015' 'AH-10030' 'PW-19240' 'FO-14305'\n",
      " 'AM-10360' 'AY-10555' 'DF-13135' 'JH-15430' 'LW-17125' 'JP-16135'\n",
      " 'VP-21760' 'HZ-14950' 'RR-19525' 'AJ-10945' 'MM-18280' 'MA-17995'\n",
      " 'EB-13930' 'FW-14395' 'MG-17695' 'DP-13000' 'JL-15505' 'BB-10990'\n",
      " 'PB-19150' 'SW-20275' 'JH-16180' 'RP-19270' 'CK-12325' 'BE-11410'\n",
      " 'PB-18805' 'BD-11560' 'SM-20905' 'RB-19705' 'HG-14965' 'MZ-17515'\n",
      " 'DA-13450' 'HP-14815' 'MD-17350' 'NF-18475' 'LF-17185' 'CS-12490'\n",
      " 'DL-12865' 'JF-15490' 'IM-15055']\n"
     ]
    }
   ],
   "source": [
    "#Question 139: Find customers who purchased only technology.\n",
    "\n",
    "technology_customers = df[df['Category'] == \"Technology\"]['Customer ID'].unique()\n",
    "\n",
    "print(technology_customers)"
   ]
  },
  {
   "cell_type": "code",
   "execution_count": 18,
   "id": "932b9529",
   "metadata": {},
   "outputs": [
    {
     "name": "stdout",
     "output_type": "stream",
     "text": [
      "['DV-13045' 'SO-20335' 'BH-11710' 'AA-10480' 'IM-15070' 'HP-14815'\n",
      " 'PK-19075' 'AG-10270' 'ZD-21925' 'KB-16585' 'EH-13945' 'TB-21520'\n",
      " 'MA-17560' 'SN-20710' 'RA-19885' 'ES-14080' 'ON-18715' 'PO-18865'\n",
      " 'DP-13000' 'JM-15265' 'TB-21055' 'KM-16720' 'BS-11590' 'KD-16270'\n",
      " 'HM-14980' 'JE-15745' 'KB-16600' 'SC-20770' 'DN-13690' 'JC-16105'\n",
      " 'CS-12400' 'PG-18895' 'GM-14455' 'JS-15685' 'KB-16315' 'RB-19705'\n",
      " 'KD-16345' 'ER-13855' 'RB-19465' 'GZ-14470' 'LC-16870' 'JM-15250'\n",
      " 'CL-12565' 'RC-19960' 'GG-14650' 'SC-20725' 'TS-21610' 'DW-13585'\n",
      " 'LC-16885' 'SH-19975' 'SG-20080' 'HA-14920' 'JE-16165' 'TW-21025'\n",
      " 'SP-20650' 'NK-18490' 'NP-18670' 'TT-21070' 'RD-19900' 'MJ-17740'\n",
      " 'BM-11140' 'CS-12130' 'JB-15400' 'SJ-20500' 'JK-15640' 'DK-13150'\n",
      " 'SK-19990' 'AM-10360' 'MP-17470' 'MZ-17515' 'CB-12025' 'VM-21685'\n",
      " 'FH-14365' 'MB-17305' 'BS-11755' 'LC-17140' 'JH-15985' 'VW-21775'\n",
      " 'JH-15910' 'JB-15925' 'DS-13180' 'EA-14035' 'DB-13120' 'KL-16645'\n",
      " 'DW-13480' 'KC-16540' 'DL-13315' 'DR-12880' 'CC-12670' 'Dl-13600'\n",
      " 'CB-12535' 'CA-12310' 'KH-16690' 'BB-10990' 'AG-10495' 'AH-10195'\n",
      " 'NZ-18565' 'KL-16555' 'JD-15895' 'CR-12625' 'SH-20395' 'BP-11185'\n",
      " 'AG-10525' 'SP-20860' 'NM-18445' 'FA-14230' 'GK-14620' 'PO-18850'\n",
      " 'JL-15850' 'DB-13615' 'AC-10420' 'TD-20995' 'AB-10060' 'JL-15505'\n",
      " 'HK-14890' 'VB-21745' 'KW-16435' 'JD-16060' 'MK-17905' 'GT-14755'\n",
      " 'AG-10900' 'MM-18280' 'RA-19915' 'AS-10285' 'NG-18430' 'MV-18190'\n",
      " 'BP-11095' 'VP-21730' 'SS-20140' 'AG-10675' 'LF-17185' 'RF-19840'\n",
      " 'KH-16510' 'KC-16675' 'CJ-12010' 'MP-17965' 'KH-16630' 'RB-19795'\n",
      " 'DB-13060' 'MK-18160' 'PO-19180' 'BB-11545' 'RB-19360' 'EB-13705'\n",
      " 'NF-18385' 'TN-21040' 'MH-17785' 'JP-15520' 'JG-15805' 'EM-14065'\n",
      " 'MT-18070' 'CW-11905' 'AJ-10960' 'MD-17350' 'SC-20095' 'MY-17380'\n",
      " 'CM-12385' 'BN-11515' 'AD-10180' 'DB-13210' 'BD-11605' 'MG-18145'\n",
      " 'RL-19615' 'AA-10375' 'EP-13915' 'DK-12985' 'LM-17065' 'AS-10135'\n",
      " 'DK-13225' 'GT-14710' 'AJ-10945' 'OT-18730' 'LP-17080' 'CA-12775'\n",
      " 'JF-15490' 'EB-13840' 'JF-15415' 'SF-20200' 'TG-21640' 'CS-11950'\n",
      " 'CC-12145' 'DV-13465' 'BD-11725' 'ZC-21910' 'MS-17830' 'LR-16915'\n",
      " 'TP-21130' 'CK-12205' 'AS-10240' 'AR-10510' 'NB-18655' 'GD-14590'\n",
      " 'CK-12595' 'NG-18355' 'CA-12265' 'SF-20965' 'AT-10735' 'FM-14380'\n",
      " 'ME-17725' 'JL-15835' 'CC-12430' 'SR-20740' 'AR-10405' 'CR-12730'\n",
      " 'EH-14125' 'SP-20545' 'RC-19825' 'TH-21235' 'MO-17800' 'RB-19570'\n",
      " 'CD-11980' 'DJ-13630' 'GT-14635' 'MC-17845' 'NP-18325' 'AB-10165'\n",
      " 'JO-15550' 'BN-11470' 'DP-13165' 'TH-21550' 'AP-10915' 'RS-19765'\n",
      " 'CK-12325' 'RD-19810' 'SC-20695' 'JF-15355' 'EG-13900' 'DS-13030'\n",
      " 'PO-19195' 'SS-20875' 'RF-19735' 'DC-13285' 'CP-12340' 'BF-11020'\n",
      " 'CS-12250' 'BV-11245' 'DL-12865' 'BM-11785' 'SA-20830' 'ES-14020'\n",
      " 'RH-19495' 'HW-14935' 'MC-18130' 'BW-11110' 'TR-21325' 'LH-17020'\n",
      " 'JL-15175' 'BM-11650' 'EM-14095' 'DP-13105' 'VD-21670' 'BK-11260'\n",
      " 'SJ-20125' 'CM-12445' 'AJ-10795' 'AJ-10780' 'LS-16945' 'GP-14740'\n",
      " 'PK-18910' 'SM-20005' 'GA-14725' 'AG-10765' 'DK-13090' 'JS-15595'\n",
      " 'EL-13735' 'CK-12760' 'JE-15475' 'PC-18745' 'HL-15040' 'MS-17365'\n",
      " 'GB-14530' 'JR-16210' 'BE-11335' 'RW-19630' 'SE-20110' 'AH-10075'\n",
      " 'JM-15535' 'JJ-15760' 'RK-19300' 'CG-12040' 'RP-19270' 'KC-16255'\n",
      " 'GH-14665' 'SW-20275' 'JA-15970' 'TB-21190' 'CV-12805' 'BS-11800'\n",
      " 'RW-19690' 'TZ-21580' 'AS-10630' 'TS-21340' 'MW-18235' 'RD-19585'\n",
      " 'FM-14290' 'RA-19945' 'JK-15730' 'MT-17815' 'PF-19165' 'KM-16225'\n",
      " 'PB-19150' 'HR-14770' 'DE-13255' 'LA-16780' 'AG-10390' 'JJ-15445'\n",
      " 'JH-15430' 'NS-18640' 'DG-13300' 'NF-18595' 'MG-17650' 'TS-21160'\n",
      " 'CM-12160' 'SN-20560' 'EH-14005' 'FO-14305' 'MS-17710' 'CC-12100'\n",
      " 'DW-13540' 'BT-11395' 'CY-12745' 'BT-11485' 'PS-19045' 'PV-18985'\n",
      " 'RP-19390' 'NM-18520' 'DL-13495' 'CS-12355' 'PA-19060' 'JS-15940'\n",
      " 'FH-14275' 'NC-18340' 'AA-10315' 'LT-16765' 'AP-10720' 'PM-18940'\n",
      " 'LT-17110' 'AT-10435' 'HR-14830' 'BT-11530' 'SW-20755' 'SP-20620'\n",
      " 'BF-11170' 'KT-16480' 'PG-18820' 'GM-14680' 'EJ-14155' 'MH-18115'\n",
      " 'SM-20950' 'PF-19225' 'DC-12850' 'BD-11770' 'GM-14500' 'TB-21355'\n",
      " 'JH-16180' 'EB-13975' 'HG-14965' 'LW-16825' 'MC-17575' 'LP-17095'\n",
      " 'EB-14170' 'GZ-14545' 'LE-16810' 'CP-12085' 'FG-14260' 'AB-10255'\n",
      " 'MN-17935' 'JR-15670' 'CM-12115' 'AS-10045' 'LW-16990' 'ND-18370'\n",
      " 'HM-14860' 'AB-10600' 'PP-18955' 'YS-21880' 'KM-16375' 'SD-20485'\n",
      " 'SZ-20035' 'HA-14905' 'RW-19540' 'DK-12835' 'FP-14320' 'ST-20530'\n",
      " 'BD-11320' 'MM-17920' 'PW-19030' 'SC-20440' 'TS-21085' 'MC-17425'\n",
      " 'ME-17320' 'NH-18610' 'KD-16495' 'KN-16390' 'NP-18685' 'CS-12505'\n",
      " 'MS-17770' 'Co-12640' 'TS-21370' 'JD-15790' 'PC-19000' 'AR-10540'\n",
      " 'LS-16975' 'TB-21400' 'PL-18925' 'GH-14425' 'JM-15655' 'CL-11890'\n",
      " 'DB-13270' 'IG-15085' 'BO-11425' 'JW-16075' 'EB-13750' 'CM-12190'\n",
      " 'AW-10840' 'TT-21460' 'VG-21805' 'MY-18295' 'AB-10150' 'JO-15280'\n",
      " 'JK-16120' 'PN-18775' 'JC-15385' 'NW-18400' 'TB-21280' 'BS-11380'\n",
      " 'HH-15010' 'CD-12280' 'MM-18055' 'QJ-19255' 'NS-18505' 'SW-20455'\n",
      " 'EB-13930' 'SB-20290' 'PS-18760' 'HF-14995' 'CD-12790' 'JK-15205'\n",
      " 'JK-15370' 'LH-17155' 'ED-13885' 'MC-18100' 'DA-13450' 'SL-20155'\n",
      " 'MB-18085' 'ML-17755' 'CC-12685' 'JE-15610' 'TB-21175' 'BE-11455'\n",
      " 'MR-17545' 'JF-15565' 'LL-16840' 'JL-15235' 'ND-18460' 'RM-19375'\n",
      " 'BF-10975' 'FM-14215' 'CH-12070' 'ME-18010' 'AS-10090' 'AC-10450'\n",
      " 'MD-17860' 'RP-19855' 'EH-13765' 'SC-20230' 'JE-15715' 'AC-10615'\n",
      " 'JD-16015' 'AS-10225' 'KT-16465' 'CB-12415' 'JS-16030' 'LW-17215'\n",
      " 'JW-15955' 'SC-20050' 'JF-15190' 'SC-20800' 'AM-10705' 'RH-19510'\n",
      " 'CT-11995' 'JW-15220' 'MC-17590' 'CC-12610' 'TC-20980' 'BF-11080'\n",
      " 'MM-17260' 'SF-20065' 'BW-11200' 'SW-20245' 'RF-19345' 'WB-21850'\n",
      " 'TB-21625' 'LB-16735' 'KF-16285' 'JH-15820' 'IL-15100' 'PB-18805'\n",
      " 'BT-11305' 'AW-10930' 'ML-17410' 'DB-13555' 'MH-17620' 'DK-13375'\n",
      " 'TG-21310' 'BF-11005' 'JM-16195' 'MZ-17335' 'SM-20320' 'TP-21415'\n",
      " 'PJ-18835' 'MS-17980' 'BC-11125' 'EM-13825' 'BD-11500' 'BM-11575'\n",
      " 'KN-16705' 'KW-16570' 'CC-12220' 'JK-15625' 'SC-20260' 'CV-12295'\n",
      " 'SG-20605' 'NP-18700' 'TM-21010' 'EM-13810' 'ML-18040' 'CR-12580'\n",
      " 'SV-20935' 'PW-19240' 'AF-10870' 'DB-13405' 'JG-15160' 'SC-20380'\n",
      " 'CS-12460' 'CM-11935' 'AH-10210' 'TB-21250' 'LS-17200' 'RR-19315'\n",
      " 'RB-19435' 'DB-12910' 'PB-19105' 'TT-21220' 'DJ-13510' 'NB-18580'\n",
      " 'JM-15865' 'AB-10105' 'RA-19285' 'EN-13780' 'KN-16450' 'MG-17890'\n",
      " 'AG-10300' 'MC-17635' 'TA-21385' 'TT-21265' 'SB-20170' 'KA-16525'\n",
      " 'CL-12700' 'HG-15025' 'NL-18310' 'RR-19525' 'TC-21295' 'SV-20785'\n",
      " 'YC-21895' 'BE-11410' 'GM-14440' 'DF-13135' 'FH-14350' 'RH-19555'\n",
      " 'GA-14515' 'JP-16135' 'Dp-13240' 'MO-17950' 'MH-18025' 'MP-18175'\n",
      " 'DR-12940' 'DM-13015' 'CA-11965' 'AC-10660' 'XP-21865' 'DM-13345'\n",
      " 'VF-21715' 'AF-10885' 'BF-11275' 'HG-14845' 'KH-16330' 'DL-12925'\n",
      " 'EM-14140' 'AY-10555' 'GB-14575' 'JB-16045' 'MG-17875' 'SR-20425'\n",
      " 'RB-19645' 'DM-12955' 'SW-20350' 'RE-19450' 'BF-11215' 'KB-16405'\n",
      " 'JC-15340' 'JG-15310' 'EC-14050' 'BP-11155' 'JP-15460' 'AR-10825'\n",
      " 'GH-14410' 'PT-19090' 'JL-15130' 'CM-12655' 'AH-10030' 'VG-21790'\n",
      " 'CC-12475' 'LB-16795' 'CM-11815' 'TS-21205' 'GM-14695' 'JF-15295'\n",
      " 'EB-13870' 'TH-21100' 'TS-21505' 'PR-18880' 'TC-21535' 'CS-12490'\n",
      " 'DB-13660' 'EH-14185' 'DH-13075' 'SS-20590' 'TC-21475' 'JD-16150'\n",
      " 'JO-15145' 'AH-10690' 'DP-13390' 'HJ-14875' 'MH-17455' 'RH-19600'\n",
      " 'CA-12055' 'RD-19930' 'SC-20020' 'SU-20665' 'SV-20365' 'CC-12550'\n",
      " 'RD-19660' 'FC-14335' 'RB-19330' 'JC-15775' 'DB-12970' 'MC-17275'\n",
      " 'BT-11680' 'DO-13435' 'MF-17665' 'RM-19750' 'VM-21835' 'EJ-13720'\n",
      " 'NC-18415' 'LS-17230' 'PF-19120' 'DW-13195' 'VT-21700' 'SC-20305'\n",
      " 'JS-15880' 'MG-17695' 'MO-17500' 'KE-16420' 'SP-20920' 'CC-12370'\n",
      " 'DK-12895' 'KM-16660' 'CS-11845' 'DL-13330' 'LC-16930' 'DD-13570'\n",
      " 'NC-18625' 'BG-11695' 'AH-10465' 'TP-21565' 'EK-13795' 'CR-12820'\n",
      " 'SG-20890' 'CS-12175' 'BG-11740' 'AH-10585' 'RD-19480' 'SJ-20215'\n",
      " 'NF-18475' 'MA-17995' 'LO-17170' 'RS-19420' 'BS-11365' 'RM-19675'\n",
      " 'RD-19720' 'MV-17485' 'AG-10330' 'RO-19780' 'LH-16900' 'PS-18970'\n",
      " 'CD-11920' 'MW-18220' 'AA-10645' 'MG-17680' 'BD-11620' 'GW-14605'\n",
      " 'GR-14560' 'TM-21490' 'SG-20470' 'JB-16000' 'TS-21430' 'AH-10120'\n",
      " 'EM-13960' 'DJ-13420' 'NR-18550' 'CS-11860' 'PB-19210' 'LW-17125'\n",
      " 'MS-17530' 'SC-20575' 'AR-10345' 'AB-10015' 'KS-16300' 'LR-17035'\n",
      " 'SS-20410' 'AI-10855' 'KB-16240' 'JM-15580' 'AZ-10750' 'EB-14110'\n",
      " 'PJ-19015' 'BO-11350' 'JK-15325' 'DM-13525' 'NC-18535' 'MC-17605'\n",
      " 'FC-14245' 'LH-16750' 'CG-12520' 'DH-13675' 'TH-21115' 'LC-17050'\n",
      " 'ML-17395' 'SB-20185' 'SC-20680' 'BP-11230' 'PM-19135' 'BP-11290'\n",
      " 'JK-16090' 'MG-18205' 'LD-17005' 'LS-17245' 'BS-11665' 'CM-12235'\n",
      " 'BP-11050' 'BD-11635' 'TS-21655' 'BG-11035' 'EM-14200' 'MH-17440'\n",
      " 'DB-13360' 'DO-13645' 'EH-13990' 'SS-20515' 'LD-16855' 'SV-20815'\n",
      " 'VP-21760' 'TC-21145' 'IM-15055' 'BT-11440' 'MF-18250' 'VS-21820'\n",
      " 'AR-10570' 'MH-17290' 'ML-18265' 'KH-16360' 'CM-12715' 'FW-14395'\n",
      " 'BW-11065' 'HE-14800' 'LC-16960' 'BD-11560' 'HD-14785' 'CJ-11875'\n",
      " 'JG-15115' 'RS-19870' 'KD-16615' 'SC-20845' 'RE-19405' 'SM-20905'\n",
      " 'HZ-14950' 'TB-21595']\n"
     ]
    }
   ],
   "source": [
    "#Question 140: Find customers who purchased only office supplies.\n",
    "\n",
    "office_supplies_customers = df[df['Category'] == \"Office Supplies\"]['Customer ID'].unique()\n",
    "\n",
    "print(office_supplies_customers)"
   ]
  },
  {
   "cell_type": "code",
   "execution_count": 21,
   "id": "7fd27e8e",
   "metadata": {},
   "outputs": [
    {
     "name": "stdout",
     "output_type": "stream",
     "text": [
      "Segment\n",
      "Consumer       449.111116\n",
      "Corporate      466.411075\n",
      "Home Office    472.665730\n",
      "Name: Sales, dtype: float64\n"
     ]
    }
   ],
   "source": [
    "#Question 141: Find average order size per segment.\n",
    "\n",
    "# First calculate order size (total sales per order)\n",
    "order_sales = df.groupby(['Segment', 'Order ID'])['Sales'].sum().reset_index()\n",
    "\n",
    "# Now find average order size per segment\n",
    "avg_order_segment = order_sales.groupby('Segment')['Sales'].mean()\n",
    "\n",
    "print(avg_order_segment)\n"
   ]
  },
  {
   "cell_type": "code",
   "execution_count": 22,
   "id": "33e95d80",
   "metadata": {},
   "outputs": [
    {
     "name": "stdout",
     "output_type": "stream",
     "text": [
      "Segment\n",
      "Consumer       0.158141\n",
      "Corporate      0.158228\n",
      "Home Office    0.147128\n",
      "Name: Discount, dtype: float64\n"
     ]
    }
   ],
   "source": [
    "#Question 142: Find average discount per segment.\n",
    "\n",
    "avg_discount_segment = df.groupby('Segment')['Discount'].mean()\n",
    "print(avg_discount_segment)"
   ]
  },
  {
   "cell_type": "code",
   "execution_count": 24,
   "id": "b3a55ce9",
   "metadata": {},
   "outputs": [
    {
     "name": "stdout",
     "output_type": "stream",
     "text": [
      "Consumer\n"
     ]
    }
   ],
   "source": [
    "#Question 143: Find segment with maximum number of customers.\n",
    "\n",
    "# Count unique customers per segment\n",
    "customers_per_segment = df.groupby('Segment')['Customer ID'].nunique()\n",
    "segment_max_customers = customers_per_segment.idxmax()\n",
    "\n",
    "print(segment_max_customers)\n"
   ]
  },
  {
   "cell_type": "code",
   "execution_count": 25,
   "id": "dde5d055",
   "metadata": {},
   "outputs": [
    {
     "name": "stdout",
     "output_type": "stream",
     "text": [
      "Home Office\n"
     ]
    }
   ],
   "source": [
    "#Question 144: Find segment with minimum number of customers.\n",
    "\n",
    "segment_min_customers = customers_per_segment.idxmin()\n",
    "\n",
    "print(segment_min_customers)"
   ]
  },
  {
   "cell_type": "code",
   "execution_count": 28,
   "id": "b3383db2",
   "metadata": {},
   "outputs": [
    {
     "name": "stdout",
     "output_type": "stream",
     "text": [
      "JD-15895\n"
     ]
    }
   ],
   "source": [
    "#Question 145: Find customer with maximum quantity purchased.\n",
    "\n",
    "customer_max_quantity = df.groupby('Customer ID')['Quantity'].sum().idxmax()\n",
    "print(customer_max_quantity)"
   ]
  },
  {
   "cell_type": "code",
   "execution_count": 29,
   "id": "2ed024bf",
   "metadata": {},
   "outputs": [
    {
     "name": "stdout",
     "output_type": "stream",
     "text": [
      "AO-10810\n"
     ]
    }
   ],
   "source": [
    "#Question 146: Find customer with minimum quantity purchased.\n",
    "\n",
    "customer_min_quantity = df.groupby('Customer ID')['Quantity'].sum().idxmin()\n",
    "print(customer_min_quantity)"
   ]
  },
  {
   "cell_type": "code",
   "execution_count": 32,
   "id": "b27cf9f1",
   "metadata": {},
   "outputs": [
    {
     "name": "stdout",
     "output_type": "stream",
     "text": [
      "WB-21850\n"
     ]
    }
   ],
   "source": [
    "#Question 147: Find customer who bought most different products.\n",
    "\n",
    "customer_most_products = df.groupby('Customer ID')['Product Name'].nunique().idxmax()\n",
    "print(customer_most_products)"
   ]
  },
  {
   "cell_type": "code",
   "execution_count": 34,
   "id": "10cca629",
   "metadata": {},
   "outputs": [
    {
     "name": "stdout",
     "output_type": "stream",
     "text": [
      "AA-10315\n"
     ]
    }
   ],
   "source": [
    "#Question 148: Find customer who bought most categories.\n",
    "\n",
    "customer_most_categories = df.groupby('Customer ID')['Category'].nunique().idxmax()\n",
    "print(customer_most_categories)"
   ]
  },
  {
   "cell_type": "code",
   "execution_count": 35,
   "id": "00b944ae",
   "metadata": {},
   "outputs": [
    {
     "name": "stdout",
     "output_type": "stream",
     "text": [
      "AP-10915\n"
     ]
    }
   ],
   "source": [
    "#Question 149: Find customer who bought most sub-categories.\n",
    "\n",
    "customer_most_sub_categories = df.groupby('Customer ID')['Sub-Category'].nunique().idxmax()\n",
    "print(customer_most_sub_categories)"
   ]
  },
  {
   "cell_type": "code",
   "execution_count": 36,
   "id": "13e0f220",
   "metadata": {},
   "outputs": [
    {
     "name": "stdout",
     "output_type": "stream",
     "text": [
      "Dp-13240\n"
     ]
    }
   ],
   "source": [
    "#Question 150: Find customer who bought across most states.\n",
    "\n",
    "customer_state_count = df.groupby('Customer ID')['State'].nunique().idxmax()\n",
    "print(customer_state_count)"
   ]
  },
  {
   "cell_type": "code",
   "execution_count": null,
   "id": "270c0f23",
   "metadata": {},
   "outputs": [],
   "source": []
  },
  {
   "cell_type": "code",
   "execution_count": null,
   "id": "8f7295f2",
   "metadata": {},
   "outputs": [],
   "source": []
  },
  {
   "cell_type": "code",
   "execution_count": null,
   "id": "b2e73b6f",
   "metadata": {},
   "outputs": [],
   "source": []
  },
  {
   "cell_type": "code",
   "execution_count": null,
   "id": "3600999d",
   "metadata": {},
   "outputs": [],
   "source": []
  },
  {
   "cell_type": "code",
   "execution_count": null,
   "id": "d107d01f",
   "metadata": {},
   "outputs": [],
   "source": []
  },
  {
   "cell_type": "code",
   "execution_count": null,
   "id": "c0b5173e",
   "metadata": {},
   "outputs": [],
   "source": []
  },
  {
   "cell_type": "code",
   "execution_count": null,
   "id": "e88f5d75",
   "metadata": {},
   "outputs": [],
   "source": []
  },
  {
   "cell_type": "code",
   "execution_count": null,
   "id": "86873cd0",
   "metadata": {},
   "outputs": [],
   "source": []
  },
  {
   "cell_type": "code",
   "execution_count": null,
   "id": "a1389839",
   "metadata": {},
   "outputs": [],
   "source": []
  },
  {
   "cell_type": "code",
   "execution_count": null,
   "id": "1fd6655d",
   "metadata": {},
   "outputs": [],
   "source": []
  },
  {
   "cell_type": "code",
   "execution_count": null,
   "id": "cff207c3",
   "metadata": {},
   "outputs": [],
   "source": []
  },
  {
   "cell_type": "code",
   "execution_count": null,
   "id": "5ac06e0f",
   "metadata": {},
   "outputs": [],
   "source": []
  },
  {
   "cell_type": "code",
   "execution_count": null,
   "id": "b8cff9d6",
   "metadata": {},
   "outputs": [],
   "source": []
  },
  {
   "cell_type": "code",
   "execution_count": null,
   "id": "20057895",
   "metadata": {},
   "outputs": [],
   "source": []
  },
  {
   "cell_type": "code",
   "execution_count": null,
   "id": "86d11a39",
   "metadata": {},
   "outputs": [],
   "source": []
  },
  {
   "cell_type": "code",
   "execution_count": null,
   "id": "235c68cc",
   "metadata": {},
   "outputs": [],
   "source": []
  },
  {
   "cell_type": "code",
   "execution_count": null,
   "id": "7ce386fb",
   "metadata": {},
   "outputs": [],
   "source": []
  },
  {
   "cell_type": "code",
   "execution_count": null,
   "id": "ae948d27",
   "metadata": {},
   "outputs": [],
   "source": []
  }
 ],
 "metadata": {
  "kernelspec": {
   "display_name": "Python 3",
   "language": "python",
   "name": "python3"
  },
  "language_info": {
   "codemirror_mode": {
    "name": "ipython",
    "version": 3
   },
   "file_extension": ".py",
   "mimetype": "text/x-python",
   "name": "python",
   "nbconvert_exporter": "python",
   "pygments_lexer": "ipython3",
   "version": "3.13.5"
  }
 },
 "nbformat": 4,
 "nbformat_minor": 5
}
