{
 "cells": [
  {
   "cell_type": "markdown",
   "id": "ad16ce32",
   "metadata": {},
   "source": [
    "###If Statements (Questions 1-100)"
   ]
  },
  {
   "cell_type": "code",
   "execution_count": 1,
   "id": "52fd2dc0",
   "metadata": {},
   "outputs": [
    {
     "name": "stdout",
     "output_type": "stream",
     "text": [
      "The number is positive.\n"
     ]
    }
   ],
   "source": [
    "# Question 1: Write an if statement to check if a number is positive.\n",
    "\n",
    "x=5\n",
    "if x > 0:\n",
    "    print(\"The number is positive.\")\n",
    "else:\n",
    "    print(\"The number is not positive.\")"
   ]
  },
  {
   "cell_type": "code",
   "execution_count": 2,
   "id": "315a45ed",
   "metadata": {},
   "outputs": [
    {
     "name": "stdout",
     "output_type": "stream",
     "text": [
      "Number is Even\n"
     ]
    }
   ],
   "source": [
    "# Question 2: Write an if statement to print \"Even\" if a number is divisible by 2.\n",
    "\n",
    "num = 6\n",
    "if num %2 ==0:\n",
    "    print(\"Number is Even\")\n",
    "else:\n",
    "    print(\"Number is not Even\")\n"
   ]
  },
  {
   "cell_type": "code",
   "execution_count": null,
   "id": "76a9a015",
   "metadata": {},
   "outputs": [
    {
     "name": "stdout",
     "output_type": "stream",
     "text": [
      "The string is empty.\n"
     ]
    }
   ],
   "source": [
    "# Question 3: Write an if statement to check if a string is empty.\n",
    "\n",
    "str = ''\n",
    "if str == '':\n",
    "    print(\"The string is empty.\")\n",
    "else:\n",
    "    print(\"The string is not empty.\") # if we give space in the string it will be not empty"
   ]
  },
  {
   "cell_type": "code",
   "execution_count": 7,
   "id": "21f34621",
   "metadata": {},
   "outputs": [
    {
     "name": "stdout",
     "output_type": "stream",
     "text": [
      "It's not a Leap Year\n"
     ]
    }
   ],
   "source": [
    "# Question 4: Use if to check if a given year is a leap year.\n",
    "\n",
    "year = 1900\n",
    "if (year % 4 == 0 and year % 100 != 0) or (year % 400 == 0):\n",
    "    print(\"Given year is a Leap Year\")\n",
    "else:\n",
    "    print(\"It's not a Leap Year\")\n"
   ]
  },
  {
   "cell_type": "code",
   "execution_count": 8,
   "id": "e6981093",
   "metadata": {},
   "outputs": [
    {
     "name": "stdout",
     "output_type": "stream",
     "text": [
      "Number is greater than 100\n"
     ]
    }
   ],
   "source": [
    "# Question 5: Write an if to check if a number is greater than 100.\n",
    "\n",
    "num = 107\n",
    "if num >100:\n",
    "    print(\"Number is greater than 100\")\n",
    "else:\n",
    "    print(\"Number is less than 100\")"
   ]
  },
  {
   "cell_type": "code",
   "execution_count": 9,
   "id": "8ef04bb5",
   "metadata": {},
   "outputs": [
    {
     "name": "stdout",
     "output_type": "stream",
     "text": [
      "The character is not a vowel.\n"
     ]
    }
   ],
   "source": [
    "# Question 6: Use if to check if a character is a vowel.\n",
    "\n",
    "char = 'r'\n",
    "if char in 'aeiouAEIOU':\n",
    "    print(\"The character is a vowel.\")\n",
    "else:\n",
    "    print(\"The character is not a vowel.\")\n"
   ]
  },
  {
   "cell_type": "code",
   "execution_count": 12,
   "id": "31ca3ad1",
   "metadata": {},
   "outputs": [
    {
     "name": "stdout",
     "output_type": "stream",
     "text": [
      "Teenager\n"
     ]
    }
   ],
   "source": [
    "# Question 7: Write an if statement to print \"Teenager\" if age is between 13 and 19.\n",
    "\n",
    "age  = 16\n",
    "if age  >=13 and age <=19:\n",
    "    print(\"Teenager\")\n",
    "else:\n",
    "    print(\"Not a Teenager\")"
   ]
  },
  {
   "cell_type": "code",
   "execution_count": 14,
   "id": "484f7321",
   "metadata": {},
   "outputs": [
    {
     "name": "stdout",
     "output_type": "stream",
     "text": [
      "Lessthan 5 elements\n"
     ]
    }
   ],
   "source": [
    "# Question 8: Use if to check if a list has more than 5 elements.\n",
    "\n",
    "my_list = [1,2,'Raghu']\n",
    "if len(my_list) >5:\n",
    "    print(\"List has > 5 elements\")\n",
    "else:\n",
    "    print(\"Lessthan 5 elements\")\n"
   ]
  },
  {
   "cell_type": "code",
   "execution_count": 15,
   "id": "72edb117",
   "metadata": {},
   "outputs": [
    {
     "name": "stdout",
     "output_type": "stream",
     "text": [
      "The file is not a text file.\n"
     ]
    }
   ],
   "source": [
    "# Question 9: Write an if statement to check if a file name ends with .txt.\n",
    "\n",
    "file = \"document.pdf\"\n",
    "if file.endswith('.txt'):  \n",
    "    print(\"The file is a text file.\")\n",
    "else:\n",
    "    print(\"The file is not a text file.\")"
   ]
  },
  {
   "cell_type": "code",
   "execution_count": 16,
   "id": "d44ee7c2",
   "metadata": {},
   "outputs": [
    {
     "name": "stdout",
     "output_type": "stream",
     "text": [
      "The numbers are not equal.\n"
     ]
    }
   ],
   "source": [
    "# Question 10: Use if to check if two numbers are equal.\n",
    "\n",
    "num1 = 5\n",
    "num2 = 10\n",
    "if num1 == num2:\n",
    "    print(\"The numbers are equal.\")\n",
    "else:\n",
    "    print(\"The numbers are not equal.\")\n"
   ]
  },
  {
   "cell_type": "code",
   "execution_count": 23,
   "id": "55c7915a",
   "metadata": {},
   "outputs": [
    {
     "name": "stdout",
     "output_type": "stream",
     "text": [
      "Key 'name' not found in dictionary.\n"
     ]
    }
   ],
   "source": [
    "# Question 11: Check if a dictionary contains a key \"name\".\n",
    "\n",
    "my_dict = { \"age\": 25}\n",
    "if \"name\" in my_dict:\n",
    "    print(\"Key 'name' found in dictionary.\")\n",
    "else:\n",
    "    print(\"Key 'name' not found in dictionary.\")\n"
   ]
  },
  {
   "cell_type": "code",
   "execution_count": 24,
   "id": "fc160962",
   "metadata": {},
   "outputs": [
    {
     "name": "stdout",
     "output_type": "stream",
     "text": [
      "The sum is greater than 50.\n"
     ]
    }
   ],
   "source": [
    "# Question 12: Check if the sum of two numbers is greater than 50.\n",
    "\n",
    "num1 = 30\n",
    "num2 = 25\n",
    "if num1 + num2 > 50:\n",
    "    print(\"The sum is greater than 50.\")\n",
    "else:\n",
    "    print(\"The sum is not greater than 50.\")\n"
   ]
  },
  {
   "cell_type": "code",
   "execution_count": null,
   "id": "2a7311b4",
   "metadata": {},
   "outputs": [
    {
     "name": "stdout",
     "output_type": "stream",
     "text": [
      "The first character is uppercase.\n"
     ]
    }
   ],
   "source": [
    "# Question 13: Check if the first character of a string is uppercase.\n",
    "\n",
    "my_string = \"Raghu\"\n",
    "if my_string[0].isupper():\n",
    "    print(\"The first character is uppercase.\")\n",
    "else:\n",
    "    print(\"The first character is not uppercase.\")\n"
   ]
  },
  {
   "cell_type": "code",
   "execution_count": 27,
   "id": "f66cf6f6",
   "metadata": {},
   "outputs": [
    {
     "name": "stdout",
     "output_type": "stream",
     "text": [
      "The temperature is below freezing.\n"
     ]
    }
   ],
   "source": [
    "# Question 14: Check if temperature is below freezing (0°C).\n",
    "\n",
    "temperature = -40\n",
    "if temperature < 0:\n",
    "    print(\"The temperature is below freezing.\")\n",
    "else:\n",
    "    print(\"The temperature is above freezing.\")\n"
   ]
  },
  {
   "cell_type": "code",
   "execution_count": null,
   "id": "6ca2f06a",
   "metadata": {},
   "outputs": [],
   "source": [
    "# Question 15: Use if to check if a number is prime.\n",
    "\n"
   ]
  },
  {
   "cell_type": "code",
   "execution_count": null,
   "id": "bd92d77d",
   "metadata": {},
   "outputs": [
    {
     "name": "stdout",
     "output_type": "stream",
     "text": [
      "Grade A\n"
     ]
    }
   ],
   "source": [
    "# Question 16: Use if to check if marks are >= 90 and print \"Grade A\".\n",
    "\n",
    "marks = 93\n",
    "if marks >= 90:\n",
    "    print(\"Grade A\")\n",
    "else:\n",
    "    print(\"Grade not A\")\n"
   ]
  },
  {
   "cell_type": "code",
   "execution_count": 30,
   "id": "9745168b",
   "metadata": {},
   "outputs": [
    {
     "name": "stdout",
     "output_type": "stream",
     "text": [
      "Password is too short.\n"
     ]
    }
   ],
   "source": [
    "# Question 17: Use if to check if password length is less than 8.\n",
    "\n",
    "password = \"raghu99\"\n",
    "if len(password) < 8:\n",
    "    print(\"Password is too short.\")\n",
    "else:\n",
    "    print(\"Password is of valid length.\")\n"
   ]
  },
  {
   "cell_type": "code",
   "execution_count": 32,
   "id": "745b1293",
   "metadata": {},
   "outputs": [
    {
     "name": "stdout",
     "output_type": "stream",
     "text": [
      "The tuple is not empty.\n"
     ]
    }
   ],
   "source": [
    "# Question 18: Check if a tuple is empty.\n",
    "\n",
    "my_tuple = (6)\n",
    "if not my_tuple:\n",
    "    print(\"The tuple is empty.\")\n",
    "else:\n",
    "    print(\"The tuple is not empty.\")\n"
   ]
  },
  {
   "cell_type": "code",
   "execution_count": 34,
   "id": "7cb89224",
   "metadata": {},
   "outputs": [
    {
     "name": "stdout",
     "output_type": "stream",
     "text": [
      "The list does not contain duplicates.\n"
     ]
    }
   ],
   "source": [
    "# Question 19: Check if a list contains duplicates.\n",
    "\n",
    "my_list = [1, 2, 3, 4, 5,]\n",
    "if len(my_list) != len(set(my_list)):\n",
    "    print(\"The list contains duplicates.\")\n",
    "else:\n",
    "    print(\"The list does not contain duplicates.\")\n"
   ]
  },
  {
   "cell_type": "code",
   "execution_count": 35,
   "id": "0a55b70f",
   "metadata": {},
   "outputs": [
    {
     "name": "stdout",
     "output_type": "stream",
     "text": [
      "Substring 'Python' found.\n"
     ]
    }
   ],
   "source": [
    "# Question 20: Use if to check if string contains substring \"Python\".\n",
    "\n",
    "my_string = \"Python programming.\"\n",
    "if \"Python\" in my_string:\n",
    "    print(\"Substring 'Python' found.\")\n",
    "else:\n",
    "    print(\"Substring 'Python' not found.\")\n"
   ]
  },
  {
   "cell_type": "code",
   "execution_count": null,
   "id": "3a8850cf",
   "metadata": {},
   "outputs": [],
   "source": []
  },
  {
   "cell_type": "code",
   "execution_count": null,
   "id": "f95b05e7",
   "metadata": {},
   "outputs": [],
   "source": []
  },
  {
   "cell_type": "code",
   "execution_count": null,
   "id": "5be151af",
   "metadata": {},
   "outputs": [],
   "source": []
  },
  {
   "cell_type": "code",
   "execution_count": null,
   "id": "dba1fd0b",
   "metadata": {},
   "outputs": [],
   "source": []
  },
  {
   "cell_type": "code",
   "execution_count": null,
   "id": "9e74aeb1",
   "metadata": {},
   "outputs": [],
   "source": []
  },
  {
   "cell_type": "code",
   "execution_count": null,
   "id": "71b192b9",
   "metadata": {},
   "outputs": [],
   "source": []
  },
  {
   "cell_type": "code",
   "execution_count": null,
   "id": "49d07e59",
   "metadata": {},
   "outputs": [],
   "source": []
  }
 ],
 "metadata": {
  "kernelspec": {
   "display_name": "Python 3",
   "language": "python",
   "name": "python3"
  },
  "language_info": {
   "codemirror_mode": {
    "name": "ipython",
    "version": 3
   },
   "file_extension": ".py",
   "mimetype": "text/x-python",
   "name": "python",
   "nbconvert_exporter": "python",
   "pygments_lexer": "ipython3",
   "version": "3.13.5"
  }
 },
 "nbformat": 4,
 "nbformat_minor": 5
}
