{
 "cells": [
  {
   "cell_type": "code",
   "execution_count": 16,
   "id": "ab85689e",
   "metadata": {},
   "outputs": [],
   "source": [
    "import pandas as pd\n",
    "import numpy as np\n",
    "import matplotlib.pyplot as plt\n"
   ]
  },
  {
   "cell_type": "code",
   "execution_count": 2,
   "id": "781286db",
   "metadata": {},
   "outputs": [
    {
     "data": {
      "text/html": [
       "<div>\n",
       "<style scoped>\n",
       "    .dataframe tbody tr th:only-of-type {\n",
       "        vertical-align: middle;\n",
       "    }\n",
       "\n",
       "    .dataframe tbody tr th {\n",
       "        vertical-align: top;\n",
       "    }\n",
       "\n",
       "    .dataframe thead th {\n",
       "        text-align: right;\n",
       "    }\n",
       "</style>\n",
       "<table border=\"1\" class=\"dataframe\">\n",
       "  <thead>\n",
       "    <tr style=\"text-align: right;\">\n",
       "      <th></th>\n",
       "      <th>Row ID</th>\n",
       "      <th>Order ID</th>\n",
       "      <th>Order Date</th>\n",
       "      <th>Ship Date</th>\n",
       "      <th>Ship Mode</th>\n",
       "      <th>Customer ID</th>\n",
       "      <th>Customer Name</th>\n",
       "      <th>Segment</th>\n",
       "      <th>Country</th>\n",
       "      <th>City</th>\n",
       "      <th>...</th>\n",
       "      <th>Postal Code</th>\n",
       "      <th>Region</th>\n",
       "      <th>Product ID</th>\n",
       "      <th>Category</th>\n",
       "      <th>Sub-Category</th>\n",
       "      <th>Product Name</th>\n",
       "      <th>Sales</th>\n",
       "      <th>Quantity</th>\n",
       "      <th>Discount</th>\n",
       "      <th>Profit</th>\n",
       "    </tr>\n",
       "  </thead>\n",
       "  <tbody>\n",
       "    <tr>\n",
       "      <th>0</th>\n",
       "      <td>1</td>\n",
       "      <td>CA-2016-152156</td>\n",
       "      <td>2016-11-08</td>\n",
       "      <td>2016-11-11</td>\n",
       "      <td>Second Class</td>\n",
       "      <td>CG-12520</td>\n",
       "      <td>Claire Gute</td>\n",
       "      <td>Consumer</td>\n",
       "      <td>United States</td>\n",
       "      <td>Henderson</td>\n",
       "      <td>...</td>\n",
       "      <td>42420</td>\n",
       "      <td>South</td>\n",
       "      <td>FUR-BO-10001798</td>\n",
       "      <td>Furniture</td>\n",
       "      <td>Bookcases</td>\n",
       "      <td>Bush Somerset Collection Bookcase</td>\n",
       "      <td>261.9600</td>\n",
       "      <td>2</td>\n",
       "      <td>0.00</td>\n",
       "      <td>41.9136</td>\n",
       "    </tr>\n",
       "    <tr>\n",
       "      <th>1</th>\n",
       "      <td>2</td>\n",
       "      <td>CA-2016-152156</td>\n",
       "      <td>2016-11-08</td>\n",
       "      <td>2016-11-11</td>\n",
       "      <td>Second Class</td>\n",
       "      <td>CG-12520</td>\n",
       "      <td>Claire Gute</td>\n",
       "      <td>Consumer</td>\n",
       "      <td>United States</td>\n",
       "      <td>Henderson</td>\n",
       "      <td>...</td>\n",
       "      <td>42420</td>\n",
       "      <td>South</td>\n",
       "      <td>FUR-CH-10000454</td>\n",
       "      <td>Furniture</td>\n",
       "      <td>Chairs</td>\n",
       "      <td>Hon Deluxe Fabric Upholstered Stacking Chairs,...</td>\n",
       "      <td>731.9400</td>\n",
       "      <td>3</td>\n",
       "      <td>0.00</td>\n",
       "      <td>219.5820</td>\n",
       "    </tr>\n",
       "    <tr>\n",
       "      <th>2</th>\n",
       "      <td>3</td>\n",
       "      <td>CA-2016-138688</td>\n",
       "      <td>2016-06-12</td>\n",
       "      <td>2016-06-16</td>\n",
       "      <td>Second Class</td>\n",
       "      <td>DV-13045</td>\n",
       "      <td>Darrin Van Huff</td>\n",
       "      <td>Corporate</td>\n",
       "      <td>United States</td>\n",
       "      <td>Los Angeles</td>\n",
       "      <td>...</td>\n",
       "      <td>90036</td>\n",
       "      <td>West</td>\n",
       "      <td>OFF-LA-10000240</td>\n",
       "      <td>Office Supplies</td>\n",
       "      <td>Labels</td>\n",
       "      <td>Self-Adhesive Address Labels for Typewriters b...</td>\n",
       "      <td>14.6200</td>\n",
       "      <td>2</td>\n",
       "      <td>0.00</td>\n",
       "      <td>6.8714</td>\n",
       "    </tr>\n",
       "    <tr>\n",
       "      <th>3</th>\n",
       "      <td>4</td>\n",
       "      <td>US-2015-108966</td>\n",
       "      <td>2015-10-11</td>\n",
       "      <td>2015-10-18</td>\n",
       "      <td>Standard Class</td>\n",
       "      <td>SO-20335</td>\n",
       "      <td>Sean O'Donnell</td>\n",
       "      <td>Consumer</td>\n",
       "      <td>United States</td>\n",
       "      <td>Fort Lauderdale</td>\n",
       "      <td>...</td>\n",
       "      <td>33311</td>\n",
       "      <td>South</td>\n",
       "      <td>FUR-TA-10000577</td>\n",
       "      <td>Furniture</td>\n",
       "      <td>Tables</td>\n",
       "      <td>Bretford CR4500 Series Slim Rectangular Table</td>\n",
       "      <td>957.5775</td>\n",
       "      <td>5</td>\n",
       "      <td>0.45</td>\n",
       "      <td>-383.0310</td>\n",
       "    </tr>\n",
       "    <tr>\n",
       "      <th>4</th>\n",
       "      <td>5</td>\n",
       "      <td>US-2015-108966</td>\n",
       "      <td>2015-10-11</td>\n",
       "      <td>2015-10-18</td>\n",
       "      <td>Standard Class</td>\n",
       "      <td>SO-20335</td>\n",
       "      <td>Sean O'Donnell</td>\n",
       "      <td>Consumer</td>\n",
       "      <td>United States</td>\n",
       "      <td>Fort Lauderdale</td>\n",
       "      <td>...</td>\n",
       "      <td>33311</td>\n",
       "      <td>South</td>\n",
       "      <td>OFF-ST-10000760</td>\n",
       "      <td>Office Supplies</td>\n",
       "      <td>Storage</td>\n",
       "      <td>Eldon Fold 'N Roll Cart System</td>\n",
       "      <td>22.3680</td>\n",
       "      <td>2</td>\n",
       "      <td>0.20</td>\n",
       "      <td>2.5164</td>\n",
       "    </tr>\n",
       "  </tbody>\n",
       "</table>\n",
       "<p>5 rows × 21 columns</p>\n",
       "</div>"
      ],
      "text/plain": [
       "   Row ID        Order ID Order Date  Ship Date       Ship Mode Customer ID  \\\n",
       "0       1  CA-2016-152156 2016-11-08 2016-11-11    Second Class    CG-12520   \n",
       "1       2  CA-2016-152156 2016-11-08 2016-11-11    Second Class    CG-12520   \n",
       "2       3  CA-2016-138688 2016-06-12 2016-06-16    Second Class    DV-13045   \n",
       "3       4  US-2015-108966 2015-10-11 2015-10-18  Standard Class    SO-20335   \n",
       "4       5  US-2015-108966 2015-10-11 2015-10-18  Standard Class    SO-20335   \n",
       "\n",
       "     Customer Name    Segment        Country             City  ...  \\\n",
       "0      Claire Gute   Consumer  United States        Henderson  ...   \n",
       "1      Claire Gute   Consumer  United States        Henderson  ...   \n",
       "2  Darrin Van Huff  Corporate  United States      Los Angeles  ...   \n",
       "3   Sean O'Donnell   Consumer  United States  Fort Lauderdale  ...   \n",
       "4   Sean O'Donnell   Consumer  United States  Fort Lauderdale  ...   \n",
       "\n",
       "  Postal Code  Region       Product ID         Category Sub-Category  \\\n",
       "0       42420   South  FUR-BO-10001798        Furniture    Bookcases   \n",
       "1       42420   South  FUR-CH-10000454        Furniture       Chairs   \n",
       "2       90036    West  OFF-LA-10000240  Office Supplies       Labels   \n",
       "3       33311   South  FUR-TA-10000577        Furniture       Tables   \n",
       "4       33311   South  OFF-ST-10000760  Office Supplies      Storage   \n",
       "\n",
       "                                        Product Name     Sales  Quantity  \\\n",
       "0                  Bush Somerset Collection Bookcase  261.9600         2   \n",
       "1  Hon Deluxe Fabric Upholstered Stacking Chairs,...  731.9400         3   \n",
       "2  Self-Adhesive Address Labels for Typewriters b...   14.6200         2   \n",
       "3      Bretford CR4500 Series Slim Rectangular Table  957.5775         5   \n",
       "4                     Eldon Fold 'N Roll Cart System   22.3680         2   \n",
       "\n",
       "   Discount    Profit  \n",
       "0      0.00   41.9136  \n",
       "1      0.00  219.5820  \n",
       "2      0.00    6.8714  \n",
       "3      0.45 -383.0310  \n",
       "4      0.20    2.5164  \n",
       "\n",
       "[5 rows x 21 columns]"
      ]
     },
     "execution_count": 2,
     "metadata": {},
     "output_type": "execute_result"
    }
   ],
   "source": [
    "df = pd.read_excel(r\"C:\\Pandas\\Sample - Superstore.xls\")\n",
    "df.head()"
   ]
  },
  {
   "cell_type": "code",
   "execution_count": 5,
   "id": "933d7410",
   "metadata": {},
   "outputs": [
    {
     "name": "stdout",
     "output_type": "stream",
     "text": [
      "Category\n",
      "Furniture           380\n",
      "Office Supplies    1058\n",
      "Technology          412\n",
      "Name: Product Name, dtype: int64\n"
     ]
    }
   ],
   "source": [
    "#Question 151: Count number of products per category.\n",
    "\n",
    "product_count_per_category = df.groupby('Category')['Product Name'].nunique()\n",
    "print(product_count_per_category)"
   ]
  },
  {
   "cell_type": "code",
   "execution_count": 6,
   "id": "5495571b",
   "metadata": {},
   "outputs": [
    {
     "name": "stdout",
     "output_type": "stream",
     "text": [
      "Sub-Category\n",
      "Accessories    147\n",
      "Appliances      97\n",
      "Art            157\n",
      "Binders        211\n",
      "Bookcases       50\n",
      "Chairs          88\n",
      "Copiers         13\n",
      "Envelopes       44\n",
      "Fasteners       34\n",
      "Furnishings    186\n",
      "Labels          70\n",
      "Machines        63\n",
      "Paper          277\n",
      "Phones         189\n",
      "Storage        132\n",
      "Supplies        36\n",
      "Tables          56\n",
      "Name: Product Name, dtype: int64\n"
     ]
    }
   ],
   "source": [
    "#Question 152: Count number of products per sub-category.\n",
    "\n",
    "product_count_per_sub_category = df.groupby('Sub-Category')['Product Name'].nunique()\n",
    "print(product_count_per_sub_category)"
   ]
  },
  {
   "cell_type": "code",
   "execution_count": 9,
   "id": "0761d5a0",
   "metadata": {},
   "outputs": [
    {
     "name": "stdout",
     "output_type": "stream",
     "text": [
      "Canon imageCLASS 2200 Advanced Copier\n"
     ]
    }
   ],
   "source": [
    "#Question 153: Find most sold product by sales.\n",
    "\n",
    "most_sold_product_by_sales = df.groupby('Product Name')['Sales'].sum().idxmax()\n",
    "print(most_sold_product_by_sales)"
   ]
  },
  {
   "cell_type": "code",
   "execution_count": null,
   "id": "33c5d126",
   "metadata": {},
   "outputs": [
    {
     "name": "stdout",
     "output_type": "stream",
     "text": [
      "Canon imageCLASS 2200 Advanced Copier\n"
     ]
    }
   ],
   "source": [
    "#Question 154: Find most sold product by profit.\n",
    "\n",
    "most_sold_product_by_profit = df.groupby('Product Name')['Profit'].sum().idxmax()\n",
    "print(most_sold_product_by_profit)\n"
   ]
  },
  {
   "cell_type": "code",
   "execution_count": 11,
   "id": "cfdb5cd0",
   "metadata": {},
   "outputs": [
    {
     "name": "stdout",
     "output_type": "stream",
     "text": [
      "Staples\n"
     ]
    }
   ],
   "source": [
    "#Question 155: Find most sold product by quantity.\n",
    "\n",
    "most_sold_product_by_quantity = df.groupby('Product Name')['Quantity'].sum().idxmax()\n",
    "print(most_sold_product_by_quantity)"
   ]
  },
  {
   "cell_type": "code",
   "execution_count": 12,
   "id": "e81d2148",
   "metadata": {},
   "outputs": [
    {
     "name": "stdout",
     "output_type": "stream",
     "text": [
      "Eureka Disposable Bags for Sanitaire Vibra Groomer I Upright Vac\n"
     ]
    }
   ],
   "source": [
    "#Question 156: Find least sold product by sales.\n",
    "\n",
    "least_sold_product_by_sales = df.groupby('Product Name')['Sales'].sum().idxmin()\n",
    "print(least_sold_product_by_sales)"
   ]
  },
  {
   "cell_type": "code",
   "execution_count": 13,
   "id": "ea8ca3d7",
   "metadata": {},
   "outputs": [
    {
     "name": "stdout",
     "output_type": "stream",
     "text": [
      "Cubify CubeX 3D Printer Double Head Print\n"
     ]
    }
   ],
   "source": [
    "#Question 157: Find least sold product by profit.\n",
    "\n",
    "least_sold_product_by_profit = df.groupby('Product Name')['Profit'].sum().idxmin()\n",
    "print(least_sold_product_by_profit)"
   ]
  },
  {
   "cell_type": "code",
   "execution_count": 14,
   "id": "1106e8ca",
   "metadata": {},
   "outputs": [
    {
     "name": "stdout",
     "output_type": "stream",
     "text": [
      "Boston 1900 Electric Pencil Sharpener\n"
     ]
    }
   ],
   "source": [
    "#Question 158: Find least sold product by quantity.\n",
    "\n",
    "least_sold_product_by_quantity = df.groupby('Product Name')['Quantity'].sum().idxmin()\n",
    "print(least_sold_product_by_quantity)"
   ]
  },
  {
   "cell_type": "code",
   "execution_count": 15,
   "id": "b19918b2",
   "metadata": {},
   "outputs": [
    {
     "name": "stdout",
     "output_type": "stream",
     "text": [
      "Product Name\n",
      "\"While you Were Out\" Message Book, One Form per Page                                                     8.409333\n",
      "#10 Gummed Flap White Envelopes, 100/Box                                                                10.325000\n",
      "#10 Self-Seal White Envelopes                                                                           27.170500\n",
      "#10 White Business Envelopes,4 1/8 x 9 1/2                                                              69.843429\n",
      "#10- 4 1/8\" x 9 1/2\" Recycled Envelopes                                                                 28.667200\n",
      "                                                                                                          ...    \n",
      "iKross Bluetooth Portable Keyboard + Cell Phone Stand Holder + Brush for Apple iPhone 5S 5C 5, 4S 4     95.532000\n",
      "iOttie HLCRIO102 Car Mount                                                                              43.178400\n",
      "iOttie XL Car Mount                                                                                    111.944000\n",
      "invisibleSHIELD by ZAGG Smudge-Free Screen Protector                                                    63.222000\n",
      "netTALK DUO VoIP Telephone Service                                                                     158.969714\n",
      "Name: Sales, Length: 1850, dtype: float64\n"
     ]
    }
   ],
   "source": [
    "#Question 159: Find average sales per product.\n",
    "\n",
    "avg_sales_per_product = df.groupby('Product Name')['Sales'].mean()\n",
    "print(avg_sales_per_product)"
   ]
  },
  {
   "cell_type": "code",
   "execution_count": 16,
   "id": "105a3ee7",
   "metadata": {},
   "outputs": [
    {
     "name": "stdout",
     "output_type": "stream",
     "text": [
      "Product Name\n",
      "\"While you Were Out\" Message Book, One Form per Page                                                    3.462667\n",
      "#10 Gummed Flap White Envelopes, 100/Box                                                                4.191950\n",
      "#10 Self-Seal White Envelopes                                                                          13.030750\n",
      "#10 White Business Envelopes,4 1/8 x 9 1/2                                                             31.877257\n",
      "#10- 4 1/8\" x 9 1/2\" Recycled Envelopes                                                                11.528060\n",
      "                                                                                                         ...    \n",
      "iKross Bluetooth Portable Keyboard + Cell Phone Stand Holder + Brush for Apple iPhone 5S 5C 5, 4S 4    23.128800\n",
      "iOttie HLCRIO102 Car Mount                                                                             -2.398800\n",
      "iOttie XL Car Mount                                                                                   -25.187400\n",
      "invisibleSHIELD by ZAGG Smudge-Free Screen Protector                                                   24.466400\n",
      "netTALK DUO VoIP Telephone Service                                                                     61.488286\n",
      "Name: Profit, Length: 1850, dtype: float64\n"
     ]
    }
   ],
   "source": [
    "#Question 160: Find average profit per product.\n",
    "\n",
    "avg_profit_per_product = df.groupby('Product Name')['Profit'].mean()\n",
    "print(avg_profit_per_product)"
   ]
  },
  {
   "cell_type": "code",
   "execution_count": 17,
   "id": "3d233ea6",
   "metadata": {},
   "outputs": [
    {
     "name": "stdout",
     "output_type": "stream",
     "text": [
      "Product Name\n",
      "3D Systems Cube Printer, 2nd Generation, Magenta                            14299.8900\n",
      "Adjustable Depth Letter/Legal Cart                                           7730.1960\n",
      "Apple iPhone 5                                                              12996.6000\n",
      "Ativa V4110MDD Micro-Cut Shredder                                            7699.8900\n",
      "Atlantic Metals Mobile 3-Shelf Bookcases, Custom Colors                      7539.7122\n",
      "                                                                               ...    \n",
      "Tennsco Snap-Together Open Shelving Units, Starter Sets and Add-On Units     6819.3120\n",
      "Wilson Electronics DB Pro Signal Booster                                     8878.4000\n",
      "Wilson SignalBoost 841262 DB PRO Amplifier Kit                               5327.2600\n",
      "Zebra GX420t Direct Thermal/Thermal Transfer Printer                         5787.3550\n",
      "Zebra ZM400 Thermal Label Printer                                            6965.7000\n",
      "Name: Sales, Length: 107, dtype: float64\n"
     ]
    }
   ],
   "source": [
    "#Question 161: Find products with sales > 5000.\n",
    "\n",
    "product_sales = df.groupby('Product Name')['Sales'].sum()\n",
    "# Filter products with sales > 5000\n",
    "high_sales_products = product_sales[product_sales > 5000]\n",
    "\n",
    "print(high_sales_products)\n"
   ]
  },
  {
   "cell_type": "code",
   "execution_count": null,
   "id": "eb9388f0",
   "metadata": {},
   "outputs": [
    {
     "name": "stdout",
     "output_type": "stream",
     "text": [
      "Product Name\n",
      "3D Systems Cube Printer, 2nd Generation, Magenta    3717.9714\n",
      "Adjustable Depth Letter/Legal Cart                  1932.5490\n",
      "Apple iPhone 5                                      1611.5784\n",
      "Ativa V4110MDD Micro-Cut Shredder                   3772.9461\n",
      "Bady BDG101FRU Card Printer                         1327.9834\n",
      "                                                      ...    \n",
      "Tennsco 16-Compartment Lockers with Coat Rack       1114.3708\n",
      "Tennsco 6- and 18-Compartment Lockers               1575.1098\n",
      "Wilson SignalBoost 841262 DB PRO Amplifier Kit      1043.8550\n",
      "Xerox 1915                                          1262.3940\n",
      "Zebra ZM400 Thermal Label Printer                   3343.5360\n",
      "Name: Profit, Length: 70, dtype: float64\n"
     ]
    }
   ],
   "source": [
    "#Question 162: Find products with profit > 1000.\n",
    "\n",
    "product_profit = df.groupby('Product Name')['Profit'].sum()\n",
    "high_profit_products = product_profit[product_profit > 1000]\n",
    "\n",
    "print(high_profit_products)"
   ]
  },
  {
   "cell_type": "code",
   "execution_count": 19,
   "id": "b8fe83ef",
   "metadata": {},
   "outputs": [
    {
     "name": "stdout",
     "output_type": "stream",
     "text": [
      "Product Name\n",
      "3.6 Cubic Foot Counter Height Office Refrigerator                 -872.0752\n",
      "36X48 HARDFLOOR CHAIRMAT                                           -40.4914\n",
      "3D Systems Cube Printer, 2nd Generation, White                    -467.9964\n",
      "3M Replacement Filter for Office Air Cleaner for 20' x 33' Room    -20.4768\n",
      "ARKON Windshield Dashboard Air Vent Car Mount Holder               -15.5940\n",
      "                                                                     ...   \n",
      "XtraLife ClearVue Slant-D Ring Binders by Cardinal                 -13.3280\n",
      "Zebra GK420t Direct Thermal/Thermal Transfer Printer              -938.2800\n",
      "i.Sound Portable Power - 8000 mAh                                  -58.8189\n",
      "iOttie HLCRIO102 Car Mount                                         -11.9940\n",
      "iOttie XL Car Mount                                                -50.3748\n",
      "Name: Profit, Length: 301, dtype: float64\n"
     ]
    }
   ],
   "source": [
    "#Question 163: Find products with negative profit.\n",
    "\n",
    "product_profit = df.groupby('Product Name')['Profit'].sum()\n",
    "negative_profit_products = product_profit[product_profit <0]\n",
    "\n",
    "print(negative_profit_products)"
   ]
  },
  {
   "cell_type": "code",
   "execution_count": 20,
   "id": "36c8182e",
   "metadata": {},
   "outputs": [
    {
     "name": "stdout",
     "output_type": "stream",
     "text": [
      "Product Name\n",
      "#10- 4 1/8\" x 9 1/2\" Recycled Envelopes                 0.8\n",
      "#10- 4 1/8\" x 9 1/2\" Security-Tint Envelopes            0.6\n",
      "#6 3/4 Gummed Flap White Envelopes                      0.8\n",
      "12-1/2 Diameter Round Wall Clock                        2.2\n",
      "3-ring staple pack                                      0.6\n",
      "                                                       ... \n",
      "i.Sound Portable Power - 8000 mAh                       0.6\n",
      "iHome FM Clock Radio with Lightning Dock                1.2\n",
      "iOttie HLCRIO102 Car Mount                              0.8\n",
      "invisibleSHIELD by ZAGG Smudge-Free Screen Protector    1.2\n",
      "netTALK DUO VoIP Telephone Service                      1.2\n",
      "Name: Discount, Length: 998, dtype: float64\n"
     ]
    }
   ],
   "source": [
    "#Question 164: Find products with discount > 0.5.\n",
    "\n",
    "product_discount = df.groupby('Product Name')['Discount'].sum()\n",
    "discounted_products = product_discount[product_discount >0.5]\n",
    "\n",
    "print(discounted_products)"
   ]
  },
  {
   "cell_type": "code",
   "execution_count": 22,
   "id": "3b82cd86",
   "metadata": {},
   "outputs": [
    {
     "name": "stdout",
     "output_type": "stream",
     "text": [
      "Product Name\n",
      "3D Systems Cube Printer, 2nd Generation, Magenta      0.0\n",
      "3M Office Air Cleaner                                 0.0\n",
      "3M Polarizing Task Lamp with Clamp Arm, Light Gray    0.0\n",
      "4009 Highlighters                                     0.0\n",
      "AT&T EL51110 DECT                                     0.0\n",
      "                                                     ... \n",
      "Xerox 223                                             0.0\n",
      "Xerox 228                                             0.0\n",
      "Xerox Blank Computer Paper                            0.0\n",
      "Xiaomi Mi3                                            0.0\n",
      "Zebra ZM400 Thermal Label Printer                     0.0\n",
      "Name: Discount, Length: 193, dtype: float64\n"
     ]
    }
   ],
   "source": [
    "#Question 165: Find products with no discount.\n",
    "\n",
    "product_discount = df.groupby('Product Name')['Discount'].sum()\n",
    "no_discount_products = product_discount[product_discount ==0]\n",
    "\n",
    "print(no_discount_products)"
   ]
  },
  {
   "cell_type": "code",
   "execution_count": 7,
   "id": "24f17122",
   "metadata": {},
   "outputs": [
    {
     "name": "stdout",
     "output_type": "stream",
     "text": [
      "             Category                                       Product Name  \\\n",
      "225         Furniture  Hon Deluxe Fabric Upholstered Stacking Chairs,...   \n",
      "175         Furniture            Global Deluxe High-Back Manager's Chair   \n",
      "238         Furniture                         Hon Pagoda Stacking Chairs   \n",
      "217         Furniture  Hon 4070 Series Pagoda Armless Upholstered Sta...   \n",
      "313         Furniture  Office Star - Professional Matrix Back Chair w...   \n",
      "236         Furniture                           Hon Olson Stacker Chairs   \n",
      "163         Furniture  GE 48\" Fluorescent Tube, Cool White Energy Sav...   \n",
      "229         Furniture                             Hon GuestStacker Chair   \n",
      "325         Furniture                           SAFCO Arco Folding Chair   \n",
      "218         Furniture  Hon 4070 Series Pagoda Round Back Stacking Chairs   \n",
      "775   Office Supplies  Fellowes PB500 Electric Punch Plastic Comb Bin...   \n",
      "891   Office Supplies               Ibico EPK-21 Electric Binding System   \n",
      "870   Office Supplies  Honeywell Enviracaire Portable HEPA Air Cleane...   \n",
      "774   Office Supplies        Fellowes PB300 Plastic Comb Binding Machine   \n",
      "893   Office Supplies          Ibico Ibimaster 300 Manual Binding System   \n",
      "804   Office Supplies         GBC DocuBind TL300 Electric Binding System   \n",
      "883   Office Supplies                     Hot File 7-Pocket, Floor Stand   \n",
      "467   Office Supplies                 Adjustable Depth Letter/Legal Cart   \n",
      "1107  Office Supplies  Sanyo Counter Height Refrigerator with Crisper...   \n",
      "720   Office Supplies              Dual Level, Single-Width Filing Carts   \n",
      "1494       Technology              Canon imageCLASS 2200 Advanced Copier   \n",
      "1556       Technology               Hewlett Packard LaserJet 3310 Copier   \n",
      "1490       Technology                 Canon PC1060 Personal Laser Copier   \n",
      "1549       Technology  HP Designjet T520 Inkjet Large Format Printer ...   \n",
      "1468       Technology                  Ativa V4110MDD Micro-Cut Shredder   \n",
      "1438       Technology   3D Systems Cube Printer, 2nd Generation, Magenta   \n",
      "1746       Technology  Plantronics Savi W720 Multi-Device Wireless He...   \n",
      "1842       Technology                  Zebra ZM400 Thermal Label Printer   \n",
      "1555       Technology  Hewlett Packard 610 Color Digital Copier / Pri...   \n",
      "1739       Technology  Plantronics CS510 - Over-the-Head monaural Wir...   \n",
      "\n",
      "          Profit  \n",
      "225    1927.4420  \n",
      "175    1558.5910  \n",
      "238    1540.7040  \n",
      "217    1388.6348  \n",
      "313    1305.6456  \n",
      "236    1292.1264  \n",
      "163    1260.2210  \n",
      "229    1233.0848  \n",
      "325    1179.3740  \n",
      "218    1052.8144  \n",
      "775    7753.0390  \n",
      "891    3345.2823  \n",
      "870    3247.0200  \n",
      "774    2518.0551  \n",
      "893    2318.3370  \n",
      "804    2233.5051  \n",
      "883    2016.7110  \n",
      "467    1932.5490  \n",
      "1107   1653.8256  \n",
      "720    1640.5348  \n",
      "1494  25199.9280  \n",
      "1556   6983.8836  \n",
      "1490   4570.9347  \n",
      "1549   4094.9766  \n",
      "1468   3772.9461  \n",
      "1438   3717.9714  \n",
      "1746   3696.2820  \n",
      "1842   3343.5360  \n",
      "1555   3124.9375  \n",
      "1739   3085.0325  \n"
     ]
    }
   ],
   "source": [
    "#Question 166: Find top 10 profitable products per category.\n",
    "\n",
    "\n",
    "top_10_profitable_products_per_category = (\n",
    "    df.groupby(['Category', 'Product Name'])['Profit']\n",
    "      .sum()\n",
    "      .reset_index()\n",
    "      .sort_values(['Category', 'Profit'], ascending=[True, False])\n",
    "      .groupby('Category')\n",
    "      .head(10)\n",
    ")\n",
    "\n",
    "print(top_10_profitable_products_per_category)\n",
    "\n"
   ]
  },
  {
   "cell_type": "code",
   "execution_count": 8,
   "id": "a809f3c9",
   "metadata": {},
   "outputs": [
    {
     "name": "stdout",
     "output_type": "stream",
     "text": [
      "             Category                                       Product Name  \\\n",
      "63          Furniture  Chromcraft Bull-Nose Wood Oval Conference Tabl...   \n",
      "42          Furniture  Bush Advantage Collection Racetrack Conference...   \n",
      "21          Furniture                       Balt Solid Wood Round Tables   \n",
      "37          Furniture  BoxOffice By Design Rectangular and Half-Moon ...   \n",
      "319         Furniture  Riverside Furniture Oval Coffee Table, Oval En...   \n",
      "211         Furniture  Hon 2090 “Pillow Soft” Series Mid Back Swivel/...   \n",
      "293         Furniture         O'Sullivan 4-Shelf Bookcase in Odessa Pine   \n",
      "41          Furniture  Bretford “Just In Time” Height-Adjustable Mult...   \n",
      "29          Furniture                Bevis Oval Conference Table, Walnut   \n",
      "19          Furniture                              BPI Conference Tables   \n",
      "801   Office Supplies          GBC DocuBind P400 Electric Binding System   \n",
      "934   Office Supplies  Martin Yale Chadless Opener Electric Letter Op...   \n",
      "395   Office Supplies  3.6 Cubic Foot Counter Height Office Refrigerator   \n",
      "1188  Office Supplies                        Tennsco Single-Tier Lockers   \n",
      "1086  Office Supplies              SAFCO Commercial Wire Shelving, Black   \n",
      "1084  Office Supplies                      SAFCO Boltless Steel Shelving   \n",
      "820   Office Supplies       GBC ProClick 150 Presentation Binding System   \n",
      "1041  Office Supplies                    Premier Automatic Letter Opener   \n",
      "834   Office Supplies            GBC VeloBinder Electric Binding Machine   \n",
      "772   Office Supplies                  Fellowes Officeware Wire Shelving   \n",
      "1521       Technology          Cubify CubeX 3D Printer Double Head Print   \n",
      "1611       Technology          Lexmark MX611dhe Monochrome Laser Printer   \n",
      "1522       Technology          Cubify CubeX 3D Printer Triple Head Print   \n",
      "1513       Technology  Cisco TelePresence System EX90 Videoconferenci...   \n",
      "1533       Technology  Epson TM-T88V Direct Thermal Printer - Monochr...   \n",
      "1840       Technology  Zebra GK420t Direct Thermal/Thermal Transfer P...   \n",
      "1814       Technology    StarTech.com 10/100 VDSL2 Ethernet Extender Kit   \n",
      "1612       Technology        Lexmark MarkNet N8150 Wireless Print Server   \n",
      "1439       Technology     3D Systems Cube Printer, 2nd Generation, White   \n",
      "1815       Technology       Swingline SM12-08 MicroCut Jam Free Shredder   \n",
      "\n",
      "         Profit  \n",
      "63   -2876.1156  \n",
      "42   -1934.3976  \n",
      "21   -1201.0581  \n",
      "37   -1148.4375  \n",
      "319  -1147.4000  \n",
      "211   -989.0496  \n",
      "293   -975.0988  \n",
      "41    -964.1940  \n",
      "29    -856.0144  \n",
      "19    -795.9725  \n",
      "801  -1878.1662  \n",
      "934  -1299.1836  \n",
      "395   -872.0752  \n",
      "1188  -825.7480  \n",
      "1086  -635.4440  \n",
      "1084  -470.4696  \n",
      "820   -461.3308  \n",
      "1041  -427.8586  \n",
      "834   -411.3320  \n",
      "772   -332.3710  \n",
      "1521 -8879.9704  \n",
      "1611 -4589.9730  \n",
      "1522 -3839.9904  \n",
      "1513 -1811.0784  \n",
      "1533 -1057.2300  \n",
      "1840  -938.2800  \n",
      "1814  -785.7620  \n",
      "1612  -506.4570  \n",
      "1439  -467.9964  \n",
      "1815  -447.9888  \n"
     ]
    }
   ],
   "source": [
    "#Question 167: Find top 10 loss-making products per category.\n",
    "\n",
    "top_10_loss_products_per_category = (\n",
    "    df.groupby(['Category', 'Product Name'])['Profit']\n",
    "      .sum()\n",
    "      .reset_index()\n",
    "      .sort_values(['Category', 'Profit'], ascending=[True, True])\n",
    "      .groupby('Category')\n",
    "      .head(10)\n",
    ")\n",
    "\n",
    "print(top_10_loss_products_per_category)"
   ]
  },
  {
   "cell_type": "code",
   "execution_count": 10,
   "id": "cb7e7c2d",
   "metadata": {},
   "outputs": [
    {
     "name": "stdout",
     "output_type": "stream",
     "text": [
      "Phones\n"
     ]
    }
   ],
   "source": [
    "#Question 168: Find sub-category with highest sales.\n",
    "\n",
    "sub_category_highest_sales = df.groupby('Sub-Category')['Sales'].sum().idxmax()\n",
    "print(sub_category_highest_sales)"
   ]
  },
  {
   "cell_type": "code",
   "execution_count": 11,
   "id": "8ae3a577",
   "metadata": {},
   "outputs": [
    {
     "name": "stdout",
     "output_type": "stream",
     "text": [
      "Fasteners\n"
     ]
    }
   ],
   "source": [
    "#Question 169: Find sub-category with lowest sales.\n",
    "\n",
    "sub_category_lowest_sales = df.groupby('Sub-Category')['Sales'].sum().idxmin()\n",
    "print(sub_category_lowest_sales)"
   ]
  },
  {
   "cell_type": "code",
   "execution_count": 12,
   "id": "f244281e",
   "metadata": {},
   "outputs": [
    {
     "name": "stdout",
     "output_type": "stream",
     "text": [
      "Copiers\n"
     ]
    }
   ],
   "source": [
    "#Question 170: Find sub-category with highest profit.\n",
    "\n",
    "sub_category_highest_profit = df.groupby('Sub-Category')['Profit'].sum().idxmax()\n",
    "print(sub_category_highest_profit)"
   ]
  },
  {
   "cell_type": "code",
   "execution_count": 13,
   "id": "446dbd0d",
   "metadata": {},
   "outputs": [
    {
     "name": "stdout",
     "output_type": "stream",
     "text": [
      "Tables\n"
     ]
    }
   ],
   "source": [
    "#Question 171: Find sub-category with lowest profit.\n",
    "\n",
    "sub_category_lowest_profit = df.groupby('Sub-Category')['Profit'].sum().idxmin()\n",
    "print(sub_category_lowest_profit)"
   ]
  },
  {
   "cell_type": "code",
   "execution_count": 14,
   "id": "efd47786",
   "metadata": {},
   "outputs": [
    {
     "name": "stdout",
     "output_type": "stream",
     "text": [
      "Binders\n"
     ]
    }
   ],
   "source": [
    "#Question 172: Find sub-category with maximum discount.\n",
    "\n",
    "sub_category_max_discount = df.groupby('Sub-Category')['Discount'].sum().idxmax()\n",
    "print(sub_category_max_discount)"
   ]
  },
  {
   "cell_type": "code",
   "execution_count": 15,
   "id": "2cce3173",
   "metadata": {},
   "outputs": [
    {
     "name": "stdout",
     "output_type": "stream",
     "text": [
      "Copiers\n"
     ]
    }
   ],
   "source": [
    "#Question 173: Find sub-category with minimum discount.\n",
    "\n",
    "sub_category_min_discount = df.groupby('Sub-Category')['Discount'].sum().idxmin()\n",
    "print(sub_category_min_discount)"
   ]
  },
  {
   "cell_type": "code",
   "execution_count": 20,
   "id": "da921ab8",
   "metadata": {},
   "outputs": [
    {
     "data": {
      "image/png": "[encoded data removed]",
      "text/plain": [
       "<Figure size 400x200 with 1 Axes>"
      ]
     },
     "metadata": {},
     "output_type": "display_data"
    }
   ],
   "source": [
    "#Question 174: Compare sales across categories.\n",
    "\n",
    "\n",
    "# Total sales per category\n",
    "sales_by_category = df.groupby('Category')['Sales'].sum()\n",
    "\n",
    "# Plot bar chart\n",
    "plt.figure(figsize=(4, 2))\n",
    "sales_by_category.plot(kind='bar', color=['#1f77b4', '#ff7f0e', '#2ca02c'])\n",
    "\n",
    "plt.title(\"Sales Comparison Across Categories\")\n",
    "plt.xlabel(\"Category\")\n",
    "plt.ylabel(\"Total Sales\")\n",
    "plt.xticks(rotation=0)\n",
    "plt.grid(axis='y', linestyle='-', alpha=0.7)\n",
    "\n",
    "plt.show()\n"
   ]
  },
  {
   "cell_type": "code",
   "execution_count": 22,
   "id": "336efa6e",
   "metadata": {},
   "outputs": [
    {
     "data": {
      "image/png": "[encoded data removed]",
      "text/plain": [
       "<Figure size 400x200 with 1 Axes>"
      ]
     },
     "metadata": {},
     "output_type": "display_data"
    }
   ],
   "source": [
    "#Question 175: Compare profit across categories.\n",
    "\n",
    "profit_by_category = df.groupby('Category')['Profit'].sum()\n",
    "\n",
    "# Plot bar chart\n",
    "plt.figure(figsize=(4, 2))\n",
    "profit_by_category.plot(kind='bar', color=[\"#f20a31\", \"#0b07f2\", \"#f903c0\"])\n",
    "\n",
    "plt.title(\"Profit Comparison Across Categories\")\n",
    "plt.xlabel(\"Category\")\n",
    "plt.ylabel(\"Profit\")\n",
    "plt.xticks(rotation=0)\n",
    "plt.grid(axis='y', linestyle='-', alpha=0.7)\n",
    "\n",
    "plt.show()"
   ]
  },
  {
   "cell_type": "code",
   "execution_count": 24,
   "id": "43687112",
   "metadata": {},
   "outputs": [
    {
     "data": {
      "image/png": "[encoded data removed]",
      "text/plain": [
       "<Figure size 400x200 with 1 Axes>"
      ]
     },
     "metadata": {},
     "output_type": "display_data"
    }
   ],
   "source": [
    "#Question 176: Compare average discount across categories.\n",
    "\n",
    "categorywise_avg_discount = df.groupby('Category')['Discount'].mean()\n",
    "\n",
    "# Plot bar chart\n",
    "plt.figure(figsize=(4, 2))\n",
    "categorywise_avg_discount.plot(kind='bar', color=[\"#0CE80C\", \"#0ff3dc\", \"#f9cc03\"])\n",
    "\n",
    "plt.title(\"Average Discount Across Categories\")\n",
    "plt.xlabel(\"Category\")\n",
    "plt.ylabel(\"Avg Discount (%)\")\n",
    "plt.xticks(rotation=0)\n",
    "plt.grid(axis='y', linestyle='-', alpha=0.7)\n",
    "\n",
    "plt.show()"
   ]
  },
  {
   "cell_type": "code",
   "execution_count": 25,
   "id": "535c42ba",
   "metadata": {},
   "outputs": [
    {
     "data": {
      "image/png": "[encoded data removed]",
      "text/plain": [
       "<Figure size 400x200 with 1 Axes>"
      ]
     },
     "metadata": {},
     "output_type": "display_data"
    }
   ],
   "source": [
    "#Question 177: Compare quantity sold across categories.\n",
    "\n",
    "categorywise_quantity_sold = df.groupby('Category')['Quantity'].sum()\n",
    "\n",
    "# Plot bar chart\n",
    "plt.figure(figsize=(4, 2))\n",
    "categorywise_quantity_sold.plot(kind='bar', color=[\"#0C3FE8\", \"#f3760f\", \"#9f03f9\"])\n",
    "\n",
    "plt.title(\"Quantity Sold Across Categories\")\n",
    "plt.xlabel(\"Category\")\n",
    "plt.ylabel(\"Quantity\")\n",
    "plt.xticks(rotation=0)\n",
    "plt.grid(axis='y', linestyle='-', alpha=0.7)\n",
    "\n",
    "plt.show()"
   ]
  },
  {
   "cell_type": "code",
   "execution_count": 28,
   "id": "b8de5cb2",
   "metadata": {},
   "outputs": [
    {
     "name": "stdout",
     "output_type": "stream",
     "text": [
      "0.5897216185996697\n"
     ]
    }
   ],
   "source": [
    "#Question 178: Find correlation between sales and profit per product.\n",
    "\n",
    "product_summary = df.groupby('Product Name')[['Sales', 'Profit']].sum()\n",
    "correlation = product_summary['Sales'].corr(product_summary['Profit'])\n",
    "print(correlation)"
   ]
  },
  {
   "cell_type": "code",
   "execution_count": 29,
   "id": "cf4e9592",
   "metadata": {},
   "outputs": [
    {
     "name": "stdout",
     "output_type": "stream",
     "text": [
      "-0.048862033464044496\n"
     ]
    }
   ],
   "source": [
    "#Question 179: Find correlation between discount and profit per product.\n",
    "\n",
    "product_summary = df.groupby('Product Name')[['Discount', 'Profit']].sum()\n",
    "correlation = product_summary['Discount'].corr(product_summary['Profit'])\n",
    "print(correlation)"
   ]
  },
  {
   "cell_type": "code",
   "execution_count": 30,
   "id": "9fd02c0d",
   "metadata": {},
   "outputs": [
    {
     "name": "stdout",
     "output_type": "stream",
     "text": [
      "     Region Sub-Category      Profit\n",
      "6   Central      Copiers  15608.8413\n",
      "13  Central       Phones  12323.0267\n",
      "0   Central  Accessories   7251.6306\n",
      "12  Central        Paper   6971.9005\n",
      "5   Central       Chairs   6592.7221\n",
      "23     East      Copiers  17022.8418\n",
      "30     East       Phones  12314.6860\n",
      "20     East      Binders  11267.9346\n",
      "17     East  Accessories  11195.8644\n",
      "22     East       Chairs   9357.7706\n",
      "47    South       Phones  10767.2753\n",
      "34    South  Accessories   7004.5424\n",
      "39    South       Chairs   6612.0893\n",
      "46    South        Paper   5947.0614\n",
      "35    South   Appliances   4123.9396\n",
      "57     West      Copiers  19327.2351\n",
      "51     West  Accessories  16484.5983\n",
      "54     West      Binders  16096.8016\n",
      "63     West        Paper  12119.2364\n",
      "64     West       Phones   9110.7426\n"
     ]
    }
   ],
   "source": [
    "#Question 180: Find top 5 profitable sub-categories in each region.\n",
    "\n",
    "regionwise_top_5_profitable_sub_categories = (\n",
    "       df.groupby(['Region','Sub-Category'])['Profit']\n",
    "         .sum()\n",
    "         .reset_index()\n",
    "         .sort_values(['Region','Profit'], ascending=[True,False])\n",
    "         .groupby('Region')\n",
    "         .head()\n",
    ")\n",
    "\n",
    "print(regionwise_top_5_profitable_sub_categories)"
   ]
  },
  {
   "cell_type": "code",
   "execution_count": 31,
   "id": "74799a28",
   "metadata": {},
   "outputs": [
    {
     "name": "stdout",
     "output_type": "stream",
     "text": [
      "          State                                       Product Name     Profit\n",
      "28      Alabama  Hewlett-Packard Deskjet 3050a All-in-One Color...  1459.2000\n",
      "31      Alabama  Logitech Z-906 Speaker sys - home theater - 5....   527.9840\n",
      "9       Alabama                    Avaya IP Phone 1140E VoIP phone   362.6870\n",
      "44      Alabama  SAFCO PlanMaster Boards, 60w x 37-1/2d, White ...   316.1392\n",
      "17      Alabama  Brother DCP1000 Digital 3 in 1 Multifunction M...   314.9895\n",
      "...         ...                                                ...        ...\n",
      "8132  Wisconsin  Hon Deluxe Fabric Upholstered Stacking Chairs,...   585.5520\n",
      "8168  Wisconsin  Plantronics CS510 - Over-the-Head monaural Wir...   544.4175\n",
      "8141  Wisconsin        Lifetime Advantage Folding Chairs, 4/Carton   427.4368\n",
      "8098  Wisconsin  Atlantic Metals Mobile 3-Shelf Bookcases, Cust...   407.1288\n",
      "8191    Wyoming      Global Troy Executive Leather Low-Back Tilter   100.1960\n",
      "\n",
      "[240 rows x 3 columns]\n"
     ]
    }
   ],
   "source": [
    "#Question 181: Find top 5 profitable products in each state.\n",
    "\n",
    "statewise_top_5_profitable_products = (\n",
    "       df.groupby(['State','Product Name'])['Profit']\n",
    "         .sum()\n",
    "         .reset_index()\n",
    "         .sort_values(['State','Profit'], ascending=[True,False])\n",
    "         .groupby('State')\n",
    "         .head()\n",
    ")\n",
    "\n",
    "print(statewise_top_5_profitable_products)"
   ]
  },
  {
   "cell_type": "code",
   "execution_count": 34,
   "id": "7361e5a0",
   "metadata": {},
   "outputs": [
    {
     "name": "stdout",
     "output_type": "stream",
     "text": [
      "     Region         Category      Profit\n",
      "2   Central       Technology  33697.4320\n",
      "5      East       Technology  47462.0351\n",
      "8     South       Technology  19991.8314\n",
      "10     West  Office Supplies  52609.8490\n"
     ]
    }
   ],
   "source": [
    "#Question 182: Find most profitable category in each region.\n",
    "\n",
    "regionwise_most_profitable_category = (\n",
    "       df.groupby(['Region','Category'])['Profit']\n",
    "         .sum()\n",
    "         .reset_index()\n",
    "         .sort_values(['Region','Profit'], ascending=[True,False])\n",
    "         .groupby('Region')\n",
    "         .head(1)\n",
    ")\n",
    "\n",
    "print(regionwise_most_profitable_category)"
   ]
  },
  {
   "cell_type": "code",
   "execution_count": 35,
   "id": "6a1d1af5",
   "metadata": {},
   "outputs": [
    {
     "name": "stdout",
     "output_type": "stream",
     "text": [
      "                    State Sub-Category      Profit\n",
      "10                Alabama     Machines   1459.2000\n",
      "27                Arizona        Paper    842.0394\n",
      "34               Arkansas      Binders   1356.2052\n",
      "45             California  Accessories  11095.6565\n",
      "67               Colorado       Chairs    556.5216\n",
      "84            Connecticut       Chairs    696.2570\n",
      "99               Delaware      Copiers   5039.9856\n",
      "113  District of Columbia     Machines    648.5624\n",
      "128               Florida       Phones   1354.7557\n",
      "135               Georgia      Binders   5717.3075\n",
      "157                 Idaho       Tables    419.7063\n",
      "164              Illinois      Copiers   1831.9666\n",
      "180               Indiana      Copiers   8849.9670\n",
      "192                  Iowa       Chairs    394.2680\n",
      "203                Kansas      Binders    279.4432\n",
      "216              Kentucky       Chairs   2552.2605\n",
      "228             Louisiana  Accessories    593.5582\n",
      "248                 Maine       Phones    131.3550\n",
      "252              Maryland      Binders   1595.5108\n",
      "276         Massachusetts       Phones   1016.1553\n",
      "283              Michigan      Binders  11079.5050\n",
      "300             Minnesota      Binders   6041.2760\n",
      "312           Mississippi  Accessories    754.6503\n",
      "332              Missouri      Copiers   2536.9632\n",
      "343               Montana      Copiers   1379.9770\n",
      "358              Nebraska       Phones    891.6315\n",
      "364                Nevada      Binders   1768.4430\n",
      "376         New Hampshire  Accessories    655.2223\n",
      "398            New Jersey     Machines   2709.9522\n",
      "411            New Mexico        Paper    298.9394\n",
      "426              New York     Machines  17320.0762\n",
      "444        North Carolina        Paper    898.8403\n",
      "452          North Dakota      Storage    162.0948\n",
      "453                  Ohio  Accessories   1452.8701\n",
      "480              Oklahoma       Phones   1185.2144\n",
      "495                Oregon        Paper    324.0580\n",
      "506          Pennsylvania      Copiers   1735.9829\n",
      "523          Rhode Island      Copiers   3491.9388\n",
      "533        South Carolina       Chairs    543.0760\n",
      "540          South Dakota  Accessories    133.8966\n",
      "559             Tennessee        Paper    363.8583\n",
      "577                 Texas       Phones   3222.4608\n",
      "590                  Utah        Paper    553.4284\n",
      "598               Vermont    Bookcases   1013.1270\n",
      "615              Virginia     Machines   2890.2711\n",
      "627            Washington      Copiers   9442.4242\n",
      "639         West Virginia        Paper    219.4416\n",
      "646             Wisconsin       Chairs   2737.4205\n",
      "655               Wyoming       Chairs    100.1960\n"
     ]
    }
   ],
   "source": [
    "#Question 183: Find most profitable sub-category in each state.\n",
    "\n",
    "statewise_most_profitable_subcategory = (\n",
    "       df.groupby(['State','Sub-Category'])['Profit']\n",
    "         .sum()\n",
    "         .reset_index()\n",
    "         .sort_values(['State','Profit'], ascending=[True,False])\n",
    "         .groupby('State')\n",
    "         .head(1)\n",
    ")\n",
    "\n",
    "print(statewise_most_profitable_subcategory)"
   ]
  },
  {
   "cell_type": "code",
   "execution_count": 36,
   "id": "d9f3326a",
   "metadata": {},
   "outputs": [
    {
     "name": "stdout",
     "output_type": "stream",
     "text": [
      "Category\n",
      "Furniture          0.038784\n",
      "Office Supplies    0.138030\n",
      "Technology         0.156138\n",
      "Name: Profit_Margin, dtype: float64\n"
     ]
    }
   ],
   "source": [
    "#Question 184: Find average profit margin per category.\n",
    "\n",
    "# Calculate profit margin for each row\n",
    "df['Profit_Margin'] = df['Profit'] / df['Sales']\n",
    "\n",
    "# Average profit margin per category\n",
    "avg_profit_margin_per_category = df.groupby('Category')['Profit_Margin'].mean()\n",
    "\n",
    "print(avg_profit_margin_per_category)\n"
   ]
  },
  {
   "cell_type": "code",
   "execution_count": 37,
   "id": "93bc9a5f",
   "metadata": {},
   "outputs": [
    {
     "name": "stdout",
     "output_type": "stream",
     "text": [
      "Sub-Category\n",
      "Accessories    0.218210\n",
      "Appliances    -0.156869\n",
      "Art            0.251646\n",
      "Binders       -0.199595\n",
      "Bookcases     -0.126640\n",
      "Chairs         0.043900\n",
      "Copiers        0.317194\n",
      "Envelopes      0.423140\n",
      "Fasteners      0.299171\n",
      "Furnishings    0.137066\n",
      "Labels         0.429663\n",
      "Machines      -0.072026\n",
      "Paper          0.425600\n",
      "Phones         0.119222\n",
      "Storage        0.089113\n",
      "Supplies       0.112039\n",
      "Tables        -0.147727\n",
      "Name: Profit_Margin, dtype: float64\n"
     ]
    }
   ],
   "source": [
    "#Question 185: Find average profit margin per sub-category.\n",
    "\n",
    "avg_profit_margin_per_subcategory = df.groupby('Sub-Category')['Profit_Margin'].mean()\n",
    "\n",
    "print(avg_profit_margin_per_subcategory)"
   ]
  },
  {
   "cell_type": "code",
   "execution_count": 40,
   "id": "676c8b92",
   "metadata": {},
   "outputs": [
    {
     "name": "stdout",
     "output_type": "stream",
     "text": [
      "Adams Telephone Message Book w/Frequently-Called Numbers Space, 400 Messages per Book\n"
     ]
    }
   ],
   "source": [
    "#Question 186: Find product with maximum profit margin.\n",
    "\n",
    "product_with_max_profit_margin = df.groupby('Product Name')['Profit_Margin'].mean().idxmax()\n",
    "\n",
    "print(product_with_max_profit_margin)"
   ]
  },
  {
   "cell_type": "code",
   "execution_count": 41,
   "id": "8412573b",
   "metadata": {},
   "outputs": [
    {
     "name": "stdout",
     "output_type": "stream",
     "text": [
      "Eureka Disposable Bags for Sanitaire Vibra Groomer I Upright Vac\n"
     ]
    }
   ],
   "source": [
    "#Question 187: Find product with minimum profit margin.\n",
    "\n",
    "product_with_min_profit_margin = df.groupby('Product Name')['Profit_Margin'].mean().idxmin()\n",
    "\n",
    "print(product_with_min_profit_margin)"
   ]
  },
  {
   "cell_type": "code",
   "execution_count": 42,
   "id": "37f84cfa",
   "metadata": {},
   "outputs": [
    {
     "name": "stdout",
     "output_type": "stream",
     "text": [
      "Cisco TelePresence System EX90 Videoconferencing Unit\n"
     ]
    }
   ],
   "source": [
    "#Question 188: Find product with highest sales but negative profit.\n",
    "\n",
    "negative_profit_products = df[df['Profit'] < 0]\n",
    "product_highest_sales_negative_profit = negative_profit_products.groupby('Product Name')['Sales'].sum().idxmax()\n",
    "print(product_highest_sales_negative_profit)\n",
    "\n"
   ]
  },
  {
   "cell_type": "code",
   "execution_count": 43,
   "id": "50d22ea7",
   "metadata": {},
   "outputs": [
    {
     "name": "stdout",
     "output_type": "stream",
     "text": [
      "Square Credit Card Reader, 4 1/2\" x 4 1/2\" x 1\", White\n"
     ]
    }
   ],
   "source": [
    "#Question 189: Find product with highest discount but positive profit.\n",
    "\n",
    "positive_profit_products = df[df['Profit'] > 0]\n",
    "product_highest_discount_positive_profit = positive_profit_products.loc[\n",
    "    positive_profit_products['Discount'].idxmax(), 'Product Name'\n",
    "]\n",
    "print(product_highest_discount_positive_profit)"
   ]
  },
  {
   "cell_type": "code",
   "execution_count": 44,
   "id": "ce02590e",
   "metadata": {},
   "outputs": [
    {
     "name": "stdout",
     "output_type": "stream",
     "text": [
      "Easy-staple paper\n"
     ]
    }
   ],
   "source": [
    "#Question 190: Find product sold in maximum number of states.\n",
    "\n",
    "product_sold_in_max_states = df.groupby('Product Name')['State'].nunique().idxmax()\n",
    "print(product_sold_in_max_states)"
   ]
  },
  {
   "cell_type": "code",
   "execution_count": null,
   "id": "d9001680",
   "metadata": {},
   "outputs": [],
   "source": []
  },
  {
   "cell_type": "code",
   "execution_count": null,
   "id": "e6c10e30",
   "metadata": {},
   "outputs": [],
   "source": []
  },
  {
   "cell_type": "code",
   "execution_count": null,
   "id": "c09fedf7",
   "metadata": {},
   "outputs": [],
   "source": []
  },
  {
   "cell_type": "code",
   "execution_count": null,
   "id": "bc22395f",
   "metadata": {},
   "outputs": [],
   "source": []
  },
  {
   "cell_type": "code",
   "execution_count": null,
   "id": "faa955b5",
   "metadata": {},
   "outputs": [],
   "source": []
  },
  {
   "cell_type": "code",
   "execution_count": null,
   "id": "64e9b33c",
   "metadata": {},
   "outputs": [],
   "source": []
  },
  {
   "cell_type": "code",
   "execution_count": null,
   "id": "dd2509d7",
   "metadata": {},
   "outputs": [],
   "source": []
  },
  {
   "cell_type": "code",
   "execution_count": null,
   "id": "6e313a9e",
   "metadata": {},
   "outputs": [],
   "source": []
  },
  {
   "cell_type": "code",
   "execution_count": null,
   "id": "f7fbb8d3",
   "metadata": {},
   "outputs": [],
   "source": []
  }
 ],
 "metadata": {
  "kernelspec": {
   "display_name": "Python 3",
   "language": "python",
   "name": "python3"
  },
  "language_info": {
   "codemirror_mode": {
    "name": "ipython",
    "version": 3
   },
   "file_extension": ".py",
   "mimetype": "text/x-python",
   "name": "python",
   "nbconvert_exporter": "python",
   "pygments_lexer": "ipython3",
   "version": "3.13.5"
  }
 },
 "nbformat": 4,
 "nbformat_minor": 5
}
